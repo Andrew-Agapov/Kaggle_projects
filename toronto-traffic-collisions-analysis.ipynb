{
 "cells": [
  {
   "cell_type": "code",
   "execution_count": 1,
   "id": "8e6d9414",
   "metadata": {
    "_cell_guid": "ab909f14-78a4-4b19-855e-b7ca5b7a8345",
    "_uuid": "0747ac91-d59c-49d3-a739-9aae49dafde2",
    "collapsed": false,
    "execution": {
     "iopub.execute_input": "2022-06-24T22:25:28.898756Z",
     "iopub.status.busy": "2022-06-24T22:25:28.898029Z",
     "iopub.status.idle": "2022-06-24T22:25:31.467588Z",
     "shell.execute_reply": "2022-06-24T22:25:31.466438Z"
    },
    "jupyter": {
     "outputs_hidden": false
    },
    "papermill": {
     "duration": 2.585066,
     "end_time": "2022-06-24T22:25:31.470109",
     "exception": false,
     "start_time": "2022-06-24T22:25:28.885043",
     "status": "completed"
    },
    "tags": []
   },
   "outputs": [
    {
     "name": "stdout",
     "output_type": "stream",
     "text": [
      "/kaggle/input/city-of-toronto-neighbourhood-profiles-2016/toronto_neighbourhood_profiles_2016.csv\n",
      "/kaggle/input/traffic-collisions-toronto/Traffic_Collisions_Toronto_data.csv\n"
     ]
    }
   ],
   "source": [
    "# This Python 3 environment comes with many helpful analytics libraries installed\n",
    "# It is defined by the kaggle/python Docker image: https://github.com/kaggle/docker-python\n",
    "# For example, here's several helpful packages to load\n",
    "\n",
    "import numpy as np # linear algebra\n",
    "import pandas as pd # data processing, CSV file I/O (e.g. pd.read_csv)\n",
    "\n",
    "# Input data files are available in the read-only \"../input/\" directory\n",
    "# For example, running this (by clicking run or pressing Shift+Enter) will list all files under the input directory\n",
    "\n",
    "import os\n",
    "for dirname, _, filenames in os.walk('/kaggle/input'):\n",
    "    for filename in filenames:\n",
    "        print(os.path.join(dirname, filename))\n",
    "\n",
    "# You can write up to 20GB to the current directory (/kaggle/working/) that gets preserved as output when you create a version using \"Save & Run All\" \n",
    "# You can also write temporary files to /kaggle/temp/, but they won't be saved outside of the current session\n",
    "\n",
    "df = pd.read_csv('/kaggle/input/traffic-collisions-toronto/Traffic_Collisions_Toronto_data.csv')"
   ]
  },
  {
   "cell_type": "markdown",
   "id": "710a09a7",
   "metadata": {
    "_cell_guid": "9626df61-fe16-49fa-b6fc-baab4c4e0eb2",
    "_uuid": "6cd929aa-0626-47b2-846d-3b5e9c8b21b2",
    "papermill": {
     "duration": 0.007173,
     "end_time": "2022-06-24T22:25:31.485957",
     "exception": false,
     "start_time": "2022-06-24T22:25:31.478784",
     "status": "completed"
    },
    "tags": []
   },
   "source": [
    "**PART 1. CLEANING AND PREPARING THE DATASET**"
   ]
  },
  {
   "cell_type": "code",
   "execution_count": 2,
   "id": "bdd6e526",
   "metadata": {
    "_cell_guid": "6fcab45b-9d1b-4f4d-a514-7051a13ad0aa",
    "_uuid": "49c5ae2c-8594-47b3-abc9-f8579340fb48",
    "collapsed": false,
    "execution": {
     "iopub.execute_input": "2022-06-24T22:25:31.502219Z",
     "iopub.status.busy": "2022-06-24T22:25:31.501815Z",
     "iopub.status.idle": "2022-06-24T22:25:31.531348Z",
     "shell.execute_reply": "2022-06-24T22:25:31.530404Z"
    },
    "jupyter": {
     "outputs_hidden": false
    },
    "papermill": {
     "duration": 0.040436,
     "end_time": "2022-06-24T22:25:31.533777",
     "exception": false,
     "start_time": "2022-06-24T22:25:31.493341",
     "status": "completed"
    },
    "tags": []
   },
   "outputs": [
    {
     "data": {
      "text/html": [
       "<div>\n",
       "<style scoped>\n",
       "    .dataframe tbody tr th:only-of-type {\n",
       "        vertical-align: middle;\n",
       "    }\n",
       "\n",
       "    .dataframe tbody tr th {\n",
       "        vertical-align: top;\n",
       "    }\n",
       "\n",
       "    .dataframe thead th {\n",
       "        text-align: right;\n",
       "    }\n",
       "</style>\n",
       "<table border=\"1\" class=\"dataframe\">\n",
       "  <thead>\n",
       "    <tr style=\"text-align: right;\">\n",
       "      <th></th>\n",
       "      <th>X</th>\n",
       "      <th>Y</th>\n",
       "      <th>OBJECTID</th>\n",
       "      <th>EventUniqueId</th>\n",
       "      <th>OccurrenceDate</th>\n",
       "      <th>Month</th>\n",
       "      <th>Day_of_Week</th>\n",
       "      <th>Year</th>\n",
       "      <th>Hour</th>\n",
       "      <th>Division</th>\n",
       "      <th>Atom</th>\n",
       "      <th>Neighbourhood</th>\n",
       "      <th>Fatalities</th>\n",
       "      <th>Injury_Collisions</th>\n",
       "      <th>FTR_Collisions</th>\n",
       "      <th>PD_Collisions</th>\n",
       "      <th>Longitude</th>\n",
       "      <th>Latitude</th>\n",
       "      <th>ObjectId2</th>\n",
       "    </tr>\n",
       "  </thead>\n",
       "  <tbody>\n",
       "    <tr>\n",
       "      <th>0</th>\n",
       "      <td>0.0</td>\n",
       "      <td>0.0</td>\n",
       "      <td>1</td>\n",
       "      <td>GO-20141001</td>\n",
       "      <td>2014/02/07 05:00:00+00</td>\n",
       "      <td>February</td>\n",
       "      <td>Friday</td>\n",
       "      <td>2014</td>\n",
       "      <td>16</td>\n",
       "      <td>NSA</td>\n",
       "      <td>NSA</td>\n",
       "      <td>NSA</td>\n",
       "      <td>0</td>\n",
       "      <td>NO</td>\n",
       "      <td>NO</td>\n",
       "      <td>YES</td>\n",
       "      <td>0.0</td>\n",
       "      <td>0.0</td>\n",
       "      <td>1</td>\n",
       "    </tr>\n",
       "    <tr>\n",
       "      <th>1</th>\n",
       "      <td>0.0</td>\n",
       "      <td>0.0</td>\n",
       "      <td>2</td>\n",
       "      <td>GO-20141225593</td>\n",
       "      <td>2014/01/02 05:00:00+00</td>\n",
       "      <td>January</td>\n",
       "      <td>Thursday</td>\n",
       "      <td>2014</td>\n",
       "      <td>3</td>\n",
       "      <td>NSA</td>\n",
       "      <td>NSA</td>\n",
       "      <td>NSA</td>\n",
       "      <td>0</td>\n",
       "      <td>NO</td>\n",
       "      <td>YES</td>\n",
       "      <td>NO</td>\n",
       "      <td>0.0</td>\n",
       "      <td>0.0</td>\n",
       "      <td>2</td>\n",
       "    </tr>\n",
       "    <tr>\n",
       "      <th>2</th>\n",
       "      <td>0.0</td>\n",
       "      <td>0.0</td>\n",
       "      <td>3</td>\n",
       "      <td>GO-20141260499</td>\n",
       "      <td>2014/01/01 05:00:00+00</td>\n",
       "      <td>January</td>\n",
       "      <td>Wednesday</td>\n",
       "      <td>2014</td>\n",
       "      <td>2</td>\n",
       "      <td>NSA</td>\n",
       "      <td>NSA</td>\n",
       "      <td>NSA</td>\n",
       "      <td>0</td>\n",
       "      <td>YES</td>\n",
       "      <td>NO</td>\n",
       "      <td>NO</td>\n",
       "      <td>0.0</td>\n",
       "      <td>0.0</td>\n",
       "      <td>3</td>\n",
       "    </tr>\n",
       "    <tr>\n",
       "      <th>3</th>\n",
       "      <td>0.0</td>\n",
       "      <td>0.0</td>\n",
       "      <td>4</td>\n",
       "      <td>GO-20141260663</td>\n",
       "      <td>2014/01/01 05:00:00+00</td>\n",
       "      <td>January</td>\n",
       "      <td>Wednesday</td>\n",
       "      <td>2014</td>\n",
       "      <td>3</td>\n",
       "      <td>NSA</td>\n",
       "      <td>NSA</td>\n",
       "      <td>NSA</td>\n",
       "      <td>0</td>\n",
       "      <td>NO</td>\n",
       "      <td>NO</td>\n",
       "      <td>YES</td>\n",
       "      <td>0.0</td>\n",
       "      <td>0.0</td>\n",
       "      <td>4</td>\n",
       "    </tr>\n",
       "    <tr>\n",
       "      <th>4</th>\n",
       "      <td>0.0</td>\n",
       "      <td>0.0</td>\n",
       "      <td>5</td>\n",
       "      <td>GO-20141261162</td>\n",
       "      <td>2014/01/01 05:00:00+00</td>\n",
       "      <td>January</td>\n",
       "      <td>Wednesday</td>\n",
       "      <td>2014</td>\n",
       "      <td>5</td>\n",
       "      <td>NSA</td>\n",
       "      <td>NSA</td>\n",
       "      <td>NSA</td>\n",
       "      <td>0</td>\n",
       "      <td>YES</td>\n",
       "      <td>NO</td>\n",
       "      <td>NO</td>\n",
       "      <td>0.0</td>\n",
       "      <td>0.0</td>\n",
       "      <td>5</td>\n",
       "    </tr>\n",
       "  </tbody>\n",
       "</table>\n",
       "</div>"
      ],
      "text/plain": [
       "     X    Y  OBJECTID   EventUniqueId          OccurrenceDate     Month  \\\n",
       "0  0.0  0.0         1     GO-20141001  2014/02/07 05:00:00+00  February   \n",
       "1  0.0  0.0         2  GO-20141225593  2014/01/02 05:00:00+00   January   \n",
       "2  0.0  0.0         3  GO-20141260499  2014/01/01 05:00:00+00   January   \n",
       "3  0.0  0.0         4  GO-20141260663  2014/01/01 05:00:00+00   January   \n",
       "4  0.0  0.0         5  GO-20141261162  2014/01/01 05:00:00+00   January   \n",
       "\n",
       "  Day_of_Week  Year  Hour Division Atom Neighbourhood  Fatalities  \\\n",
       "0      Friday  2014    16      NSA  NSA           NSA           0   \n",
       "1    Thursday  2014     3      NSA  NSA           NSA           0   \n",
       "2   Wednesday  2014     2      NSA  NSA           NSA           0   \n",
       "3   Wednesday  2014     3      NSA  NSA           NSA           0   \n",
       "4   Wednesday  2014     5      NSA  NSA           NSA           0   \n",
       "\n",
       "  Injury_Collisions FTR_Collisions PD_Collisions  Longitude  Latitude  \\\n",
       "0                NO             NO           YES        0.0       0.0   \n",
       "1                NO            YES            NO        0.0       0.0   \n",
       "2               YES             NO            NO        0.0       0.0   \n",
       "3                NO             NO           YES        0.0       0.0   \n",
       "4               YES             NO            NO        0.0       0.0   \n",
       "\n",
       "   ObjectId2  \n",
       "0          1  \n",
       "1          2  \n",
       "2          3  \n",
       "3          4  \n",
       "4          5  "
      ]
     },
     "execution_count": 2,
     "metadata": {},
     "output_type": "execute_result"
    }
   ],
   "source": [
    "df.head()"
   ]
  },
  {
   "cell_type": "code",
   "execution_count": 3,
   "id": "663a5548",
   "metadata": {
    "_cell_guid": "4f89d48c-3afb-4f5e-91e0-35e3e5d652c4",
    "_uuid": "179e332f-88be-421d-9a24-f2619aea372c",
    "collapsed": false,
    "execution": {
     "iopub.execute_input": "2022-06-24T22:25:31.551024Z",
     "iopub.status.busy": "2022-06-24T22:25:31.550620Z",
     "iopub.status.idle": "2022-06-24T22:25:31.558865Z",
     "shell.execute_reply": "2022-06-24T22:25:31.557863Z"
    },
    "jupyter": {
     "outputs_hidden": false
    },
    "papermill": {
     "duration": 0.019064,
     "end_time": "2022-06-24T22:25:31.560763",
     "exception": false,
     "start_time": "2022-06-24T22:25:31.541699",
     "status": "completed"
    },
    "tags": []
   },
   "outputs": [
    {
     "data": {
      "text/plain": [
       "X                    float64\n",
       "Y                    float64\n",
       "OBJECTID               int64\n",
       "EventUniqueId         object\n",
       "OccurrenceDate        object\n",
       "Month                 object\n",
       "Day_of_Week           object\n",
       "Year                   int64\n",
       "Hour                   int64\n",
       "Division              object\n",
       "Atom                  object\n",
       "Neighbourhood         object\n",
       "Fatalities             int64\n",
       "Injury_Collisions     object\n",
       "FTR_Collisions        object\n",
       "PD_Collisions         object\n",
       "Longitude            float64\n",
       "Latitude             float64\n",
       "ObjectId2              int64\n",
       "dtype: object"
      ]
     },
     "execution_count": 3,
     "metadata": {},
     "output_type": "execute_result"
    }
   ],
   "source": [
    "df.dtypes"
   ]
  },
  {
   "cell_type": "markdown",
   "id": "ae3a267d",
   "metadata": {
    "_cell_guid": "e4fe3af4-00c5-4f64-96c1-01847fc401be",
    "_uuid": "f5e92257-4a74-45e5-b41f-014ca24a75ac",
    "papermill": {
     "duration": 0.007641,
     "end_time": "2022-06-24T22:25:31.576306",
     "exception": false,
     "start_time": "2022-06-24T22:25:31.568665",
     "status": "completed"
    },
    "tags": []
   },
   "source": [
    "We will have some data that we want to reprocess. From metadata we know that:\n",
    "1. **OBJECTID** and **ObjectId2** are essentially duplicates, and are index columns. We will drop those, and create a new index\n",
    "2. **OccurenceDate** -- we will change this to datetime type\n",
    "3. Once we have **OccurenceDate** as datetime we will see whether we need to keep separately columns for **Month**, **Year**, **Hour**\n",
    "4. For computational efficiencies we will change to category types columns **Division**, **Atom** and **Neighbourhood** after cleaning them from missing data\n",
    "5. Columns **Injury_Collisions**, **FTR_Collisions**, **PD_Collisions** should be converted to boolean"
   ]
  },
  {
   "cell_type": "code",
   "execution_count": 4,
   "id": "7cb82223",
   "metadata": {
    "_cell_guid": "b80b7d64-3ab3-4d8f-82b7-b192c5f7f0c2",
    "_uuid": "9bbed5ca-1ce2-4bd4-b71e-e013a53935b8",
    "collapsed": false,
    "execution": {
     "iopub.execute_input": "2022-06-24T22:25:31.593869Z",
     "iopub.status.busy": "2022-06-24T22:25:31.593491Z",
     "iopub.status.idle": "2022-06-24T22:25:31.599641Z",
     "shell.execute_reply": "2022-06-24T22:25:31.598677Z"
    },
    "jupyter": {
     "outputs_hidden": false
    },
    "papermill": {
     "duration": 0.017325,
     "end_time": "2022-06-24T22:25:31.601655",
     "exception": false,
     "start_time": "2022-06-24T22:25:31.584330",
     "status": "completed"
    },
    "tags": []
   },
   "outputs": [
    {
     "data": {
      "text/plain": [
       "(499538, 19)"
      ]
     },
     "execution_count": 4,
     "metadata": {},
     "output_type": "execute_result"
    }
   ],
   "source": [
    "df.shape\n",
    "## Our data has 499 538 observations (and 19 columns)"
   ]
  },
  {
   "cell_type": "code",
   "execution_count": 5,
   "id": "bb02a0e7",
   "metadata": {
    "_cell_guid": "0ee87f5e-1c40-4719-9a27-acc897a916b1",
    "_uuid": "093a42e2-f415-4db1-aae7-aa9d31d6aafd",
    "collapsed": false,
    "execution": {
     "iopub.execute_input": "2022-06-24T22:25:31.619505Z",
     "iopub.status.busy": "2022-06-24T22:25:31.619099Z",
     "iopub.status.idle": "2022-06-24T22:25:32.690643Z",
     "shell.execute_reply": "2022-06-24T22:25:32.689400Z"
    },
    "jupyter": {
     "outputs_hidden": false
    },
    "papermill": {
     "duration": 1.083374,
     "end_time": "2022-06-24T22:25:32.693085",
     "exception": false,
     "start_time": "2022-06-24T22:25:31.609711",
     "status": "completed"
    },
    "tags": []
   },
   "outputs": [
    {
     "name": "stdout",
     "output_type": "stream",
     "text": [
      "X                    0\n",
      "Y                    0\n",
      "EventUniqueId        0\n",
      "OccurrenceDate       0\n",
      "Month                0\n",
      "Day_of_Week          0\n",
      "Year                 0\n",
      "Hour                 0\n",
      "Division             0\n",
      "Atom                 0\n",
      "Neighbourhood        0\n",
      "Fatalities           0\n",
      "Injury_Collisions    0\n",
      "FTR_Collisions       0\n",
      "PD_Collisions        0\n",
      "Longitude            0\n",
      "Latitude             0\n",
      "dtype: int64\n",
      "['NSA' 'D54/D55' 'D43' 'D41' 'D11' 'D31' 'D32' 'D14' 'D53' 'D12' 'D33'\n",
      " 'D42' 'D23' 'D22' 'D52' 'D13' 'D51']\n",
      "['NSA' '40' '531' '25' '27' '31' '48' '119' '76' '134' '117' '128' '14'\n",
      " '136' '23' '34' '49' '21' '39' '139' '127' '124' '120' '122' '75' '47'\n",
      " '24' '137' '35' '131' '133' '123' '88' '1' '103' '45' '105' '140' '135'\n",
      " '132' '138' '129' '130' '125' '126' '121' '63' '62' '61' '118' '54' '43'\n",
      " '70' '116' '60' '64' '66' '65' '59' '58' '53' '44' '42' '46' '69' '55'\n",
      " '68' '67' '77' '57' '73' '41' '72' '56' '71' '52' '98' '74' '99' '95'\n",
      " '78' '104' '51' '79' '97' '50' '82' '100' '96' '101' '38' '81' '80' '37'\n",
      " '94' '102' '36' '93' '106' '85' '84' '83' '86' '32' '107' '92' '33' '108'\n",
      " '87' '109' '91' '26' '90' '110' '112' '30' '17' '29' '16' '111' '89'\n",
      " '115' '114' '28' '15' '18' '113' '9' '8' '19' '20' '10' '22' '7' '6' '5'\n",
      " '3' '11' '4' '12' '13' '2']\n",
      "          EventUniqueId\n",
      "Division               \n",
      "D11                  74\n",
      "D12                 162\n",
      "D13                 148\n",
      "D14                 106\n",
      "D22                 242\n",
      "D23                 134\n",
      "D31                 197\n",
      "D32                 351\n",
      "D33                 298\n",
      "D41                 147\n",
      "D42                 186\n",
      "D43                 138\n",
      "D51                  87\n",
      "D52                 118\n",
      "D53                 127\n",
      "D54/D55             214\n",
      "NSA               69989\n",
      "      EventUniqueId\n",
      "Atom               \n",
      "17                2\n",
      "76                2\n",
      "77                3\n",
      "78                1\n",
      "NSA           69989\n"
     ]
    }
   ],
   "source": [
    "## Let's drop columns we won't use:\n",
    "df_clean = df.drop(['OBJECTID','ObjectId2'], axis=1)\n",
    "\n",
    "## We don't have any data explicitely marked as 'NaN', but that could be how our data is marked\n",
    "print(df_clean.isna().sum())\n",
    "\n",
    "## Let's convert OccurrenceDate column to datetime. \n",
    "df_clean['OccurrenceDate'] = pd.to_datetime(df['OccurrenceDate'], yearfirst=True)\n",
    "\n",
    "## We will convert Division, Atom and Neighbourhood into categorical variables, but before let's explore them:\n",
    "print(df_clean['Division'].unique())\n",
    "print(df_clean['Atom'].unique())\n",
    "\n",
    "## We can see that we have 'NSA' values:\n",
    "## We have observations where Neighborhood ID (Atom) is missing, but Police division is present:\n",
    "print(df_clean[df_clean['Atom']=='NSA'].groupby(['Division']).aggregate({'EventUniqueId':'count'}))\n",
    "\n",
    "## We also have observations wher Police division is 'NSA', but Neighbourhood ID is present:\n",
    "print(df_clean[df_clean['Division']=='NSA'].groupby(['Atom']).aggregate({'EventUniqueId':'count'}))"
   ]
  },
  {
   "cell_type": "code",
   "execution_count": 6,
   "id": "b960bfaa",
   "metadata": {
    "_cell_guid": "b632e53e-25a6-4f7f-84ca-611ff2c2622f",
    "_uuid": "833372ff-738d-4d6a-a320-5ca2884c3594",
    "collapsed": false,
    "execution": {
     "iopub.execute_input": "2022-06-24T22:25:32.711891Z",
     "iopub.status.busy": "2022-06-24T22:25:32.710970Z",
     "iopub.status.idle": "2022-06-24T22:25:33.017314Z",
     "shell.execute_reply": "2022-06-24T22:25:33.016121Z"
    },
    "jupyter": {
     "outputs_hidden": false
    },
    "papermill": {
     "duration": 0.318526,
     "end_time": "2022-06-24T22:25:33.020022",
     "exception": false,
     "start_time": "2022-06-24T22:25:32.701496",
     "status": "completed"
    },
    "tags": []
   },
   "outputs": [
    {
     "name": "stdout",
     "output_type": "stream",
     "text": [
      "(426811, 17)\n"
     ]
    }
   ],
   "source": [
    "## Since this is not a significant portion of observations, and each Division is reponsible for multiple neighborhoods, we will drop all NSA values:\n",
    "NSA_selector = (df_clean['Division']=='NSA') | (df_clean['Atom']=='NSA') | (df_clean['Neighbourhood']=='NSA')\n",
    "\n",
    "df_clean = df_clean[~NSA_selector]\n",
    "\n",
    "## After dropping, we have 426 811 observations (vs 499 538) -- we've dropped 15% of rows\n",
    "print(df_clean.shape)"
   ]
  },
  {
   "cell_type": "code",
   "execution_count": 7,
   "id": "f4e8c0af",
   "metadata": {
    "_cell_guid": "b6aa9787-6370-47c7-a36b-4f15a5fc94eb",
    "_uuid": "777674f3-93b5-4e4a-acd9-db0e74041836",
    "collapsed": false,
    "execution": {
     "iopub.execute_input": "2022-06-24T22:25:33.038626Z",
     "iopub.status.busy": "2022-06-24T22:25:33.038082Z",
     "iopub.status.idle": "2022-06-24T22:25:33.467688Z",
     "shell.execute_reply": "2022-06-24T22:25:33.466240Z"
    },
    "jupyter": {
     "outputs_hidden": false
    },
    "papermill": {
     "duration": 0.441611,
     "end_time": "2022-06-24T22:25:33.469895",
     "exception": false,
     "start_time": "2022-06-24T22:25:33.028284",
     "status": "completed"
    },
    "tags": []
   },
   "outputs": [
    {
     "name": "stdout",
     "output_type": "stream",
     "text": [
      "X                                float64\n",
      "Y                                float64\n",
      "EventUniqueId                     object\n",
      "OccurrenceDate       datetime64[ns, UTC]\n",
      "Month                             object\n",
      "Day_of_Week                       object\n",
      "Year                               int64\n",
      "Hour                               int64\n",
      "Division                        category\n",
      "Atom                            category\n",
      "Neighbourhood                   category\n",
      "Fatalities                         int64\n",
      "Injury_Collisions                 object\n",
      "FTR_Collisions                    object\n",
      "PD_Collisions                     object\n",
      "Longitude                        float64\n",
      "Latitude                         float64\n",
      "dtype: object\n"
     ]
    }
   ],
   "source": [
    "## Now let's convert to category type: this will improve performace and computational efficiency\n",
    "df_clean['Division'] = df_clean.Division.astype('category')\n",
    "df_clean['Atom'] = df_clean.Atom.astype('category')\n",
    "df_clean['Neighbourhood'] = df_clean.Neighbourhood.astype('category')\n",
    "print(df_clean.dtypes)\n",
    "\n",
    "## Now we convert Injury_Collisions, FTR_Collisions, PD_Collisions should be converted to boolean\n",
    "boolean_columns = ['Injury_Collisions','FTR_Collisions','PD_Collisions']\n",
    "\n",
    "for i in boolean_columns:\n",
    "    df_clean[i] = df_clean[i].map({'YES': True, 'NO': False})"
   ]
  },
  {
   "cell_type": "code",
   "execution_count": 8,
   "id": "1cf8f827",
   "metadata": {
    "_cell_guid": "cd7f5511-1096-4990-a7b6-dbd07ed38a9e",
    "_uuid": "d7664cb6-9a4a-4326-8835-43e7603a5db5",
    "collapsed": false,
    "execution": {
     "iopub.execute_input": "2022-06-24T22:25:33.488800Z",
     "iopub.status.busy": "2022-06-24T22:25:33.487985Z",
     "iopub.status.idle": "2022-06-24T22:25:33.496883Z",
     "shell.execute_reply": "2022-06-24T22:25:33.495721Z"
    },
    "jupyter": {
     "outputs_hidden": false
    },
    "papermill": {
     "duration": 0.02083,
     "end_time": "2022-06-24T22:25:33.499110",
     "exception": false,
     "start_time": "2022-06-24T22:25:33.478280",
     "status": "completed"
    },
    "tags": []
   },
   "outputs": [
    {
     "name": "stdout",
     "output_type": "stream",
     "text": [
      "X                                float64\n",
      "Y                                float64\n",
      "EventUniqueId                     object\n",
      "OccurrenceDate       datetime64[ns, UTC]\n",
      "Month                             object\n",
      "Day_of_Week                       object\n",
      "Year                               int64\n",
      "Hour                               int64\n",
      "Division                        category\n",
      "Atom                            category\n",
      "Neighbourhood                   category\n",
      "Fatalities                         int64\n",
      "Injury_Collisions                   bool\n",
      "FTR_Collisions                      bool\n",
      "PD_Collisions                       bool\n",
      "Longitude                        float64\n",
      "Latitude                         float64\n",
      "dtype: object\n"
     ]
    }
   ],
   "source": [
    "print(df_clean.dtypes)"
   ]
  },
  {
   "cell_type": "markdown",
   "id": "d3a6c3cc",
   "metadata": {
    "papermill": {
     "duration": 0.008306,
     "end_time": "2022-06-24T22:25:33.516005",
     "exception": false,
     "start_time": "2022-06-24T22:25:33.507699",
     "status": "completed"
    },
    "tags": []
   },
   "source": [
    "**PART 2. EXPLORING THE CLEAN DATASET**"
   ]
  },
  {
   "cell_type": "code",
   "execution_count": 9,
   "id": "f2bde7c5",
   "metadata": {
    "execution": {
     "iopub.execute_input": "2022-06-24T22:25:33.534879Z",
     "iopub.status.busy": "2022-06-24T22:25:33.533914Z",
     "iopub.status.idle": "2022-06-24T22:25:34.923412Z",
     "shell.execute_reply": "2022-06-24T22:25:34.922172Z"
    },
    "papermill": {
     "duration": 1.401421,
     "end_time": "2022-06-24T22:25:34.925729",
     "exception": false,
     "start_time": "2022-06-24T22:25:33.524308",
     "status": "completed"
    },
    "tags": []
   },
   "outputs": [
    {
     "data": {
      "image/png": "[encoded data removed]",
      "text/plain": [
       "<Figure size 432x288 with 1 Axes>"
      ]
     },
     "metadata": {
      "needs_background": "light"
     },
     "output_type": "display_data"
    }
   ],
   "source": [
    "## Let's do some EDA now\n",
    "import matplotlib.pyplot as plt\n",
    "import seaborn as sns\n",
    "\n",
    "# First of all let's try to have a look at overall collisions by year\n",
    "\n",
    "sns.countplot(x='Year', data=df_clean)\n",
    "plt.show()\n",
    "## We can see that collisions by year were growing until 2019 when they rapidly dropped in 2020 and 2021 -- during the COVID pandemics"
   ]
  },
  {
   "cell_type": "code",
   "execution_count": 10,
   "id": "5e378765",
   "metadata": {
    "execution": {
     "iopub.execute_input": "2022-06-24T22:25:34.944969Z",
     "iopub.status.busy": "2022-06-24T22:25:34.944573Z",
     "iopub.status.idle": "2022-06-24T22:25:39.207018Z",
     "shell.execute_reply": "2022-06-24T22:25:39.206056Z"
    },
    "papermill": {
     "duration": 4.274776,
     "end_time": "2022-06-24T22:25:39.209306",
     "exception": false,
     "start_time": "2022-06-24T22:25:34.934530",
     "status": "completed"
    },
    "tags": []
   },
   "outputs": [
    {
     "data": {
      "image/png": "[encoded data removed]",
      "text/plain": [
       "<Figure size 1440x720 with 7 Axes>"
      ]
     },
     "metadata": {
      "needs_background": "light"
     },
     "output_type": "display_data"
    }
   ],
   "source": [
    "week_list = ['Monday','Tuesday','Wednesday','Thursday','Friday','Saturday','Sunday']\n",
    "sns.catplot(x='Year', col='Day_of_Week', data=df_clean, kind='count', col_order=week_list, col_wrap=4)\n",
    "plt.show()\n",
    "\n",
    "## The trend is the same for all days of the week. Is it the same across all divisions?"
   ]
  },
  {
   "cell_type": "code",
   "execution_count": 11,
   "id": "809a6525",
   "metadata": {
    "execution": {
     "iopub.execute_input": "2022-06-24T22:25:39.229436Z",
     "iopub.status.busy": "2022-06-24T22:25:39.228999Z",
     "iopub.status.idle": "2022-06-24T22:25:44.149378Z",
     "shell.execute_reply": "2022-06-24T22:25:44.148420Z"
    },
    "papermill": {
     "duration": 4.933074,
     "end_time": "2022-06-24T22:25:44.151715",
     "exception": false,
     "start_time": "2022-06-24T22:25:39.218641",
     "status": "completed"
    },
    "tags": []
   },
   "outputs": [
    {
     "data": {
      "image/png": "[encoded data removed]",
      "text/plain": [
       "<Figure size 1440x1440 with 16 Axes>"
      ]
     },
     "metadata": {
      "needs_background": "light"
     },
     "output_type": "display_data"
    }
   ],
   "source": [
    "sns.catplot(x='Year', col='Division', data=df_clean, kind='count', col_wrap=4)\n",
    "plt.show()\n",
    "## The drop was consistent across all divisions"
   ]
  },
  {
   "cell_type": "code",
   "execution_count": 12,
   "id": "7555c25b",
   "metadata": {
    "execution": {
     "iopub.execute_input": "2022-06-24T22:25:44.174112Z",
     "iopub.status.busy": "2022-06-24T22:25:44.172980Z",
     "iopub.status.idle": "2022-06-24T22:25:44.542804Z",
     "shell.execute_reply": "2022-06-24T22:25:44.541848Z"
    },
    "papermill": {
     "duration": 0.383466,
     "end_time": "2022-06-24T22:25:44.545341",
     "exception": false,
     "start_time": "2022-06-24T22:25:44.161875",
     "status": "completed"
    },
    "tags": []
   },
   "outputs": [
    {
     "data": {
      "image/png": "[encoded data removed]",
      "text/plain": [
       "<Figure size 432x288 with 1 Axes>"
      ]
     },
     "metadata": {
      "needs_background": "light"
     },
     "output_type": "display_data"
    }
   ],
   "source": [
    "divisions_order = list(df_clean.groupby('Division').aggregate({'EventUniqueId':'count'}).sort_values(by='EventUniqueId', ascending=False).index)\n",
    "mean_collisions = df_clean.groupby('Division').aggregate({'EventUniqueId':'count'}).sort_values(by='EventUniqueId', ascending=False)['EventUniqueId'].mean()\n",
    "sns.countplot(y='Division', data=df_clean, order=divisions_order)\n",
    "plt.axvline(x = mean_collisions, color = 'r', linestyle = '-')\n",
    "plt.show()\n",
    "\n",
    "##Divisions 32, 42, 33, 41, 54/55, and 53 had higher than average collisions.\n",
    "## It would be interesting to look closer at top2 and bottom2 divisions (D32&D42 and D12&D13 and see what is the difference between them)"
   ]
  },
  {
   "cell_type": "code",
   "execution_count": 13,
   "id": "211d7d6a",
   "metadata": {
    "execution": {
     "iopub.execute_input": "2022-06-24T22:25:44.567560Z",
     "iopub.status.busy": "2022-06-24T22:25:44.566694Z",
     "iopub.status.idle": "2022-06-24T22:25:44.863564Z",
     "shell.execute_reply": "2022-06-24T22:25:44.862694Z"
    },
    "papermill": {
     "duration": 0.311045,
     "end_time": "2022-06-24T22:25:44.866389",
     "exception": false,
     "start_time": "2022-06-24T22:25:44.555344",
     "status": "completed"
    },
    "tags": []
   },
   "outputs": [
    {
     "name": "stdout",
     "output_type": "stream",
     "text": [
      "          EventUniqueId  cum_sum   percent  cum_percent\n",
      "Division                                               \n",
      "D32               41016    41016  9.609874     9.609874\n",
      "D42               40411    81427  9.468125    19.077999\n",
      "D33               33772   115199  7.912636    26.990635\n",
      "D41               33383   148582  7.821495    34.812130\n",
      "D54/D55           30396   178978  7.121653    41.933783\n",
      "D53               28178   207156  6.601985    48.535769\n",
      "D14               26751   233907  6.267645    54.803414\n",
      "D43               26373   260280  6.179082    60.982496\n",
      "D22               26207   286487  6.140189    67.122684\n",
      "D31               25735   312222  6.029601    73.152285\n",
      "D23               24082   336304  5.642310    78.794595\n",
      "D52               22252   358556  5.213549    84.008144\n",
      "D51               18036   376592  4.225758    88.233902\n",
      "D11               17787   394379  4.167418    92.401320\n",
      "D12               16689   411068  3.910162    96.311482\n",
      "D13               15743   426811  3.688518   100.000000\n"
     ]
    },
    {
     "data": {
      "image/png": "[encoded data removed]",
      "text/plain": [
       "<Figure size 432x288 with 1 Axes>"
      ]
     },
     "metadata": {
      "needs_background": "light"
     },
     "output_type": "display_data"
    }
   ],
   "source": [
    "divisions = df_clean.groupby('Division').aggregate({'EventUniqueId':'count'}).sort_values(by='EventUniqueId', ascending=False)\n",
    "divisions['cum_sum'] = divisions['EventUniqueId'].cumsum()\n",
    "divisions['percent'] = 100*(divisions['EventUniqueId']/divisions['cum_sum'].max())\n",
    "divisions['cum_percent'] = 100*(divisions['cum_sum']/divisions['cum_sum'].max())\n",
    "print(divisions)\n",
    "\n",
    "x_div = list(divisions.index)\n",
    "sns.lineplot(x=x_div, y=divisions['cum_percent'],marker='o')\n",
    "plt.axhline(y = 80, color = 'r', linestyle = '-')\n",
    "plt.xticks(rotation=90)\n",
    "plt.show()"
   ]
  },
  {
   "cell_type": "markdown",
   "id": "c489351b",
   "metadata": {
    "papermill": {
     "duration": 0.010786,
     "end_time": "2022-06-24T22:25:44.887902",
     "exception": false,
     "start_time": "2022-06-24T22:25:44.877116",
     "status": "completed"
    },
    "tags": []
   },
   "source": [
    "Traffic collisions are mostly evenly distributed among divisions, even though D32 and D42 have more collisions that average"
   ]
  },
  {
   "cell_type": "code",
   "execution_count": 14,
   "id": "db20374f",
   "metadata": {
    "execution": {
     "iopub.execute_input": "2022-06-24T22:25:44.911567Z",
     "iopub.status.busy": "2022-06-24T22:25:44.910908Z",
     "iopub.status.idle": "2022-06-24T22:25:44.938178Z",
     "shell.execute_reply": "2022-06-24T22:25:44.937217Z"
    },
    "papermill": {
     "duration": 0.041641,
     "end_time": "2022-06-24T22:25:44.940342",
     "exception": false,
     "start_time": "2022-06-24T22:25:44.898701",
     "status": "completed"
    },
    "tags": []
   },
   "outputs": [
    {
     "data": {
      "text/html": [
       "<div>\n",
       "<style scoped>\n",
       "    .dataframe tbody tr th:only-of-type {\n",
       "        vertical-align: middle;\n",
       "    }\n",
       "\n",
       "    .dataframe tbody tr th {\n",
       "        vertical-align: top;\n",
       "    }\n",
       "\n",
       "    .dataframe thead th {\n",
       "        text-align: right;\n",
       "    }\n",
       "</style>\n",
       "<table border=\"1\" class=\"dataframe\">\n",
       "  <thead>\n",
       "    <tr style=\"text-align: right;\">\n",
       "      <th></th>\n",
       "      <th>EventUniqueId</th>\n",
       "    </tr>\n",
       "    <tr>\n",
       "      <th>Neighbourhood</th>\n",
       "      <th></th>\n",
       "    </tr>\n",
       "  </thead>\n",
       "  <tbody>\n",
       "    <tr>\n",
       "      <th>Milliken (130)</th>\n",
       "      <td>7692</td>\n",
       "    </tr>\n",
       "    <tr>\n",
       "      <th>Agincourt South-Malvern West (128)</th>\n",
       "      <td>6103</td>\n",
       "    </tr>\n",
       "    <tr>\n",
       "      <th>Rouge (131)</th>\n",
       "      <td>5902</td>\n",
       "    </tr>\n",
       "    <tr>\n",
       "      <th>Malvern (132)</th>\n",
       "      <td>5317</td>\n",
       "    </tr>\n",
       "    <tr>\n",
       "      <th>LAmoreaux (117)</th>\n",
       "      <td>4427</td>\n",
       "    </tr>\n",
       "    <tr>\n",
       "      <th>Tam OShanter-Sullivan (118)</th>\n",
       "      <td>3789</td>\n",
       "    </tr>\n",
       "    <tr>\n",
       "      <th>Agincourt North (129)</th>\n",
       "      <td>3608</td>\n",
       "    </tr>\n",
       "    <tr>\n",
       "      <th>Steeles (116)</th>\n",
       "      <td>3380</td>\n",
       "    </tr>\n",
       "    <tr>\n",
       "      <th>Centennial Scarborough (133)</th>\n",
       "      <td>191</td>\n",
       "    </tr>\n",
       "    <tr>\n",
       "      <th>West Humber-Clairville (1)</th>\n",
       "      <td>1</td>\n",
       "    </tr>\n",
       "    <tr>\n",
       "      <th>West Hill (136)</th>\n",
       "      <td>1</td>\n",
       "    </tr>\n",
       "  </tbody>\n",
       "</table>\n",
       "</div>"
      ],
      "text/plain": [
       "                                    EventUniqueId\n",
       "Neighbourhood                                    \n",
       "Milliken (130)                               7692\n",
       "Agincourt South-Malvern West (128)           6103\n",
       "Rouge (131)                                  5902\n",
       "Malvern (132)                                5317\n",
       "LAmoreaux (117)                              4427\n",
       "Tam OShanter-Sullivan (118)                  3789\n",
       "Agincourt North (129)                        3608\n",
       "Steeles (116)                                3380\n",
       "Centennial Scarborough (133)                  191\n",
       "West Humber-Clairville (1)                      1\n",
       "West Hill (136)                                 1"
      ]
     },
     "execution_count": 14,
     "metadata": {},
     "output_type": "execute_result"
    }
   ],
   "source": [
    "#print(df_clean[df_clean['Division']=='D32'].groupby(['Neighbourhood']).aggregate({'EventUniqueId':'count'}).sort_values(by='EventUniqueId', ascending=False))\n",
    "#print(df_clean[df_clean['Division']=='D13'].groupby(['Neighbourhood']).aggregate({'EventUniqueId':'count'}).sort_values(by='EventUniqueId', ascending=False))\n",
    "x = df_clean[df_clean['Division']=='D42'].groupby(['Neighbourhood']).aggregate({'EventUniqueId':'count'}).sort_values(by='EventUniqueId', ascending=False)\n",
    "x[x['EventUniqueId']>0]"
   ]
  },
  {
   "cell_type": "markdown",
   "id": "a48399c8",
   "metadata": {
    "papermill": {
     "duration": 0.010508,
     "end_time": "2022-06-24T22:25:44.961739",
     "exception": false,
     "start_time": "2022-06-24T22:25:44.951231",
     "status": "completed"
    },
    "tags": []
   },
   "source": [
    "It would be interested to compare data on neighborhood vs population of each neighborhood, but we don't have this data in the dataset, so we will load the dataset from Toronto portal"
   ]
  },
  {
   "cell_type": "code",
   "execution_count": 15,
   "id": "b9f81301",
   "metadata": {
    "execution": {
     "iopub.execute_input": "2022-06-24T22:25:44.985494Z",
     "iopub.status.busy": "2022-06-24T22:25:44.985039Z",
     "iopub.status.idle": "2022-06-24T22:25:45.122565Z",
     "shell.execute_reply": "2022-06-24T22:25:45.121517Z"
    },
    "papermill": {
     "duration": 0.152849,
     "end_time": "2022-06-24T22:25:45.125559",
     "exception": false,
     "start_time": "2022-06-24T22:25:44.972710",
     "status": "completed"
    },
    "tags": []
   },
   "outputs": [
    {
     "data": {
      "text/html": [
       "<div>\n",
       "<style scoped>\n",
       "    .dataframe tbody tr th:only-of-type {\n",
       "        vertical-align: middle;\n",
       "    }\n",
       "\n",
       "    .dataframe tbody tr th {\n",
       "        vertical-align: top;\n",
       "    }\n",
       "\n",
       "    .dataframe thead th {\n",
       "        text-align: right;\n",
       "    }\n",
       "</style>\n",
       "<table border=\"1\" class=\"dataframe\">\n",
       "  <thead>\n",
       "    <tr style=\"text-align: right;\">\n",
       "      <th></th>\n",
       "      <th>_id</th>\n",
       "      <th>Category</th>\n",
       "      <th>Topic</th>\n",
       "      <th>Data Source</th>\n",
       "      <th>Characteristic</th>\n",
       "      <th>City of Toronto</th>\n",
       "      <th>Agincourt North</th>\n",
       "      <th>Agincourt South-Malvern West</th>\n",
       "      <th>Alderwood</th>\n",
       "      <th>Annex</th>\n",
       "      <th>...</th>\n",
       "      <th>Willowdale West</th>\n",
       "      <th>Willowridge-Martingrove-Richview</th>\n",
       "      <th>Woburn</th>\n",
       "      <th>Woodbine Corridor</th>\n",
       "      <th>Woodbine-Lumsden</th>\n",
       "      <th>Wychwood</th>\n",
       "      <th>Yonge-Eglinton</th>\n",
       "      <th>Yonge-St.Clair</th>\n",
       "      <th>York University Heights</th>\n",
       "      <th>Yorkdale-Glen Park</th>\n",
       "    </tr>\n",
       "  </thead>\n",
       "  <tbody>\n",
       "    <tr>\n",
       "      <th>0</th>\n",
       "      <td>1</td>\n",
       "      <td>Neighbourhood Information</td>\n",
       "      <td>Neighbourhood Information</td>\n",
       "      <td>City of Toronto</td>\n",
       "      <td>Neighbourhood Number</td>\n",
       "      <td>NaN</td>\n",
       "      <td>129</td>\n",
       "      <td>128</td>\n",
       "      <td>20</td>\n",
       "      <td>95</td>\n",
       "      <td>...</td>\n",
       "      <td>37</td>\n",
       "      <td>7</td>\n",
       "      <td>137</td>\n",
       "      <td>64</td>\n",
       "      <td>60</td>\n",
       "      <td>94</td>\n",
       "      <td>100</td>\n",
       "      <td>97</td>\n",
       "      <td>27</td>\n",
       "      <td>31</td>\n",
       "    </tr>\n",
       "    <tr>\n",
       "      <th>1</th>\n",
       "      <td>2</td>\n",
       "      <td>Neighbourhood Information</td>\n",
       "      <td>Neighbourhood Information</td>\n",
       "      <td>City of Toronto</td>\n",
       "      <td>TSNS2020 Designation</td>\n",
       "      <td>NaN</td>\n",
       "      <td>No Designation</td>\n",
       "      <td>No Designation</td>\n",
       "      <td>No Designation</td>\n",
       "      <td>No Designation</td>\n",
       "      <td>...</td>\n",
       "      <td>No Designation</td>\n",
       "      <td>No Designation</td>\n",
       "      <td>NIA</td>\n",
       "      <td>No Designation</td>\n",
       "      <td>No Designation</td>\n",
       "      <td>No Designation</td>\n",
       "      <td>No Designation</td>\n",
       "      <td>No Designation</td>\n",
       "      <td>NIA</td>\n",
       "      <td>Emerging Neighbourhood</td>\n",
       "    </tr>\n",
       "    <tr>\n",
       "      <th>2</th>\n",
       "      <td>3</td>\n",
       "      <td>Population</td>\n",
       "      <td>Population and dwellings</td>\n",
       "      <td>Census Profile 98-316-X2016001</td>\n",
       "      <td>Population, 2016</td>\n",
       "      <td>2,731,571</td>\n",
       "      <td>29,113</td>\n",
       "      <td>23,757</td>\n",
       "      <td>12,054</td>\n",
       "      <td>30,526</td>\n",
       "      <td>...</td>\n",
       "      <td>16,936</td>\n",
       "      <td>22,156</td>\n",
       "      <td>53,485</td>\n",
       "      <td>12,541</td>\n",
       "      <td>7,865</td>\n",
       "      <td>14,349</td>\n",
       "      <td>11,817</td>\n",
       "      <td>12,528</td>\n",
       "      <td>27,593</td>\n",
       "      <td>14,804</td>\n",
       "    </tr>\n",
       "    <tr>\n",
       "      <th>3</th>\n",
       "      <td>4</td>\n",
       "      <td>Population</td>\n",
       "      <td>Population and dwellings</td>\n",
       "      <td>Census Profile 98-316-X2016001</td>\n",
       "      <td>Population, 2011</td>\n",
       "      <td>2,615,060</td>\n",
       "      <td>30,279</td>\n",
       "      <td>21,988</td>\n",
       "      <td>11,904</td>\n",
       "      <td>29,177</td>\n",
       "      <td>...</td>\n",
       "      <td>15,004</td>\n",
       "      <td>21,343</td>\n",
       "      <td>53,350</td>\n",
       "      <td>11,703</td>\n",
       "      <td>7,826</td>\n",
       "      <td>13,986</td>\n",
       "      <td>10,578</td>\n",
       "      <td>11,652</td>\n",
       "      <td>27,713</td>\n",
       "      <td>14,687</td>\n",
       "    </tr>\n",
       "    <tr>\n",
       "      <th>4</th>\n",
       "      <td>5</td>\n",
       "      <td>Population</td>\n",
       "      <td>Population and dwellings</td>\n",
       "      <td>Census Profile 98-316-X2016001</td>\n",
       "      <td>Population Change 2011-2016</td>\n",
       "      <td>4.50%</td>\n",
       "      <td>-3.90%</td>\n",
       "      <td>8.00%</td>\n",
       "      <td>1.30%</td>\n",
       "      <td>4.60%</td>\n",
       "      <td>...</td>\n",
       "      <td>12.90%</td>\n",
       "      <td>3.80%</td>\n",
       "      <td>0.30%</td>\n",
       "      <td>7.20%</td>\n",
       "      <td>0.50%</td>\n",
       "      <td>2.60%</td>\n",
       "      <td>11.70%</td>\n",
       "      <td>7.50%</td>\n",
       "      <td>-0.40%</td>\n",
       "      <td>0.80%</td>\n",
       "    </tr>\n",
       "    <tr>\n",
       "      <th>...</th>\n",
       "      <td>...</td>\n",
       "      <td>...</td>\n",
       "      <td>...</td>\n",
       "      <td>...</td>\n",
       "      <td>...</td>\n",
       "      <td>...</td>\n",
       "      <td>...</td>\n",
       "      <td>...</td>\n",
       "      <td>...</td>\n",
       "      <td>...</td>\n",
       "      <td>...</td>\n",
       "      <td>...</td>\n",
       "      <td>...</td>\n",
       "      <td>...</td>\n",
       "      <td>...</td>\n",
       "      <td>...</td>\n",
       "      <td>...</td>\n",
       "      <td>...</td>\n",
       "      <td>...</td>\n",
       "      <td>...</td>\n",
       "      <td>...</td>\n",
       "    </tr>\n",
       "    <tr>\n",
       "      <th>2378</th>\n",
       "      <td>2379</td>\n",
       "      <td>Mobility</td>\n",
       "      <td>Mobility status - Place of residence 5 years ago</td>\n",
       "      <td>Census Profile 98-316-X2016001</td>\n",
       "      <td>Movers</td>\n",
       "      <td>1,040,015</td>\n",
       "      <td>8,610</td>\n",
       "      <td>8,775</td>\n",
       "      <td>3,130</td>\n",
       "      <td>14,735</td>\n",
       "      <td>...</td>\n",
       "      <td>8,070</td>\n",
       "      <td>7,020</td>\n",
       "      <td>19,235</td>\n",
       "      <td>3,920</td>\n",
       "      <td>2,710</td>\n",
       "      <td>4,700</td>\n",
       "      <td>5,450</td>\n",
       "      <td>6,195</td>\n",
       "      <td>11,400</td>\n",
       "      <td>4,290</td>\n",
       "    </tr>\n",
       "    <tr>\n",
       "      <th>2379</th>\n",
       "      <td>2380</td>\n",
       "      <td>Mobility</td>\n",
       "      <td>Mobility status - Place of residence 5 years ago</td>\n",
       "      <td>Census Profile 98-316-X2016001</td>\n",
       "      <td>Non-migrants</td>\n",
       "      <td>639,060</td>\n",
       "      <td>5,445</td>\n",
       "      <td>5,610</td>\n",
       "      <td>2,200</td>\n",
       "      <td>8,340</td>\n",
       "      <td>...</td>\n",
       "      <td>4,305</td>\n",
       "      <td>4,740</td>\n",
       "      <td>11,975</td>\n",
       "      <td>2,920</td>\n",
       "      <td>2,100</td>\n",
       "      <td>3,355</td>\n",
       "      <td>3,020</td>\n",
       "      <td>3,895</td>\n",
       "      <td>6,435</td>\n",
       "      <td>2,940</td>\n",
       "    </tr>\n",
       "    <tr>\n",
       "      <th>2380</th>\n",
       "      <td>2381</td>\n",
       "      <td>Mobility</td>\n",
       "      <td>Mobility status - Place of residence 5 years ago</td>\n",
       "      <td>Census Profile 98-316-X2016001</td>\n",
       "      <td>Migrants</td>\n",
       "      <td>400,950</td>\n",
       "      <td>3,170</td>\n",
       "      <td>3,145</td>\n",
       "      <td>925</td>\n",
       "      <td>6,390</td>\n",
       "      <td>...</td>\n",
       "      <td>3,765</td>\n",
       "      <td>2,270</td>\n",
       "      <td>7,260</td>\n",
       "      <td>985</td>\n",
       "      <td>620</td>\n",
       "      <td>1,350</td>\n",
       "      <td>2,425</td>\n",
       "      <td>2,310</td>\n",
       "      <td>4,965</td>\n",
       "      <td>1,345</td>\n",
       "    </tr>\n",
       "    <tr>\n",
       "      <th>2381</th>\n",
       "      <td>2382</td>\n",
       "      <td>Mobility</td>\n",
       "      <td>Mobility status - Place of residence 5 years ago</td>\n",
       "      <td>Census Profile 98-316-X2016001</td>\n",
       "      <td>Interprovincial migrants</td>\n",
       "      <td>42,985</td>\n",
       "      <td>135</td>\n",
       "      <td>220</td>\n",
       "      <td>70</td>\n",
       "      <td>1,310</td>\n",
       "      <td>...</td>\n",
       "      <td>475</td>\n",
       "      <td>150</td>\n",
       "      <td>335</td>\n",
       "      <td>250</td>\n",
       "      <td>85</td>\n",
       "      <td>210</td>\n",
       "      <td>290</td>\n",
       "      <td>325</td>\n",
       "      <td>195</td>\n",
       "      <td>135</td>\n",
       "    </tr>\n",
       "    <tr>\n",
       "      <th>2382</th>\n",
       "      <td>2383</td>\n",
       "      <td>Mobility</td>\n",
       "      <td>Mobility status - Place of residence 5 years ago</td>\n",
       "      <td>Census Profile 98-316-X2016001</td>\n",
       "      <td>External migrants</td>\n",
       "      <td>216,835</td>\n",
       "      <td>2,280</td>\n",
       "      <td>2,170</td>\n",
       "      <td>245</td>\n",
       "      <td>2,460</td>\n",
       "      <td>...</td>\n",
       "      <td>2,220</td>\n",
       "      <td>1,175</td>\n",
       "      <td>5,540</td>\n",
       "      <td>395</td>\n",
       "      <td>220</td>\n",
       "      <td>575</td>\n",
       "      <td>1,160</td>\n",
       "      <td>955</td>\n",
       "      <td>3,285</td>\n",
       "      <td>775</td>\n",
       "    </tr>\n",
       "  </tbody>\n",
       "</table>\n",
       "<p>2383 rows × 146 columns</p>\n",
       "</div>"
      ],
      "text/plain": [
       "       _id                   Category  \\\n",
       "0        1  Neighbourhood Information   \n",
       "1        2  Neighbourhood Information   \n",
       "2        3                 Population   \n",
       "3        4                 Population   \n",
       "4        5                 Population   \n",
       "...    ...                        ...   \n",
       "2378  2379                   Mobility   \n",
       "2379  2380                   Mobility   \n",
       "2380  2381                   Mobility   \n",
       "2381  2382                   Mobility   \n",
       "2382  2383                   Mobility   \n",
       "\n",
       "                                                 Topic  \\\n",
       "0                            Neighbourhood Information   \n",
       "1                            Neighbourhood Information   \n",
       "2                             Population and dwellings   \n",
       "3                             Population and dwellings   \n",
       "4                             Population and dwellings   \n",
       "...                                                ...   \n",
       "2378  Mobility status - Place of residence 5 years ago   \n",
       "2379  Mobility status - Place of residence 5 years ago   \n",
       "2380  Mobility status - Place of residence 5 years ago   \n",
       "2381  Mobility status - Place of residence 5 years ago   \n",
       "2382  Mobility status - Place of residence 5 years ago   \n",
       "\n",
       "                         Data Source                    Characteristic  \\\n",
       "0                    City of Toronto              Neighbourhood Number   \n",
       "1                    City of Toronto              TSNS2020 Designation   \n",
       "2     Census Profile 98-316-X2016001                  Population, 2016   \n",
       "3     Census Profile 98-316-X2016001                  Population, 2011   \n",
       "4     Census Profile 98-316-X2016001       Population Change 2011-2016   \n",
       "...                              ...                               ...   \n",
       "2378  Census Profile 98-316-X2016001                            Movers   \n",
       "2379  Census Profile 98-316-X2016001                      Non-migrants   \n",
       "2380  Census Profile 98-316-X2016001                          Migrants   \n",
       "2381  Census Profile 98-316-X2016001          Interprovincial migrants   \n",
       "2382  Census Profile 98-316-X2016001                 External migrants   \n",
       "\n",
       "     City of Toronto Agincourt North Agincourt South-Malvern West  \\\n",
       "0                NaN             129                          128   \n",
       "1                NaN  No Designation               No Designation   \n",
       "2          2,731,571          29,113                       23,757   \n",
       "3          2,615,060          30,279                       21,988   \n",
       "4              4.50%          -3.90%                        8.00%   \n",
       "...              ...             ...                          ...   \n",
       "2378       1,040,015           8,610                        8,775   \n",
       "2379         639,060           5,445                        5,610   \n",
       "2380         400,950           3,170                        3,145   \n",
       "2381          42,985             135                          220   \n",
       "2382         216,835           2,280                        2,170   \n",
       "\n",
       "           Alderwood           Annex  ... Willowdale West  \\\n",
       "0                 20              95  ...              37   \n",
       "1     No Designation  No Designation  ...  No Designation   \n",
       "2             12,054          30,526  ...          16,936   \n",
       "3             11,904          29,177  ...          15,004   \n",
       "4              1.30%           4.60%  ...          12.90%   \n",
       "...              ...             ...  ...             ...   \n",
       "2378           3,130          14,735  ...           8,070   \n",
       "2379           2,200           8,340  ...           4,305   \n",
       "2380             925           6,390  ...           3,765   \n",
       "2381              70           1,310  ...             475   \n",
       "2382             245           2,460  ...           2,220   \n",
       "\n",
       "     Willowridge-Martingrove-Richview  Woburn Woodbine Corridor  \\\n",
       "0                                   7     137                64   \n",
       "1                      No Designation     NIA    No Designation   \n",
       "2                              22,156  53,485            12,541   \n",
       "3                              21,343  53,350            11,703   \n",
       "4                               3.80%   0.30%             7.20%   \n",
       "...                               ...     ...               ...   \n",
       "2378                            7,020  19,235             3,920   \n",
       "2379                            4,740  11,975             2,920   \n",
       "2380                            2,270   7,260               985   \n",
       "2381                              150     335               250   \n",
       "2382                            1,175   5,540               395   \n",
       "\n",
       "     Woodbine-Lumsden        Wychwood  Yonge-Eglinton  Yonge-St.Clair  \\\n",
       "0                  60              94             100              97   \n",
       "1      No Designation  No Designation  No Designation  No Designation   \n",
       "2               7,865          14,349          11,817          12,528   \n",
       "3               7,826          13,986          10,578          11,652   \n",
       "4               0.50%           2.60%          11.70%           7.50%   \n",
       "...               ...             ...             ...             ...   \n",
       "2378            2,710           4,700           5,450           6,195   \n",
       "2379            2,100           3,355           3,020           3,895   \n",
       "2380              620           1,350           2,425           2,310   \n",
       "2381               85             210             290             325   \n",
       "2382              220             575           1,160             955   \n",
       "\n",
       "     York University Heights      Yorkdale-Glen Park  \n",
       "0                         27                      31  \n",
       "1                        NIA  Emerging Neighbourhood  \n",
       "2                     27,593                  14,804  \n",
       "3                     27,713                  14,687  \n",
       "4                     -0.40%                   0.80%  \n",
       "...                      ...                     ...  \n",
       "2378                  11,400                   4,290  \n",
       "2379                   6,435                   2,940  \n",
       "2380                   4,965                   1,345  \n",
       "2381                     195                     135  \n",
       "2382                   3,285                     775  \n",
       "\n",
       "[2383 rows x 146 columns]"
      ]
     },
     "execution_count": 15,
     "metadata": {},
     "output_type": "execute_result"
    }
   ],
   "source": [
    "df_pop = pd.read_csv('/kaggle/input/city-of-toronto-neighbourhood-profiles-2016/toronto_neighbourhood_profiles_2016.csv')\n",
    "df_pop"
   ]
  },
  {
   "cell_type": "code",
   "execution_count": 16,
   "id": "b344f899",
   "metadata": {
    "execution": {
     "iopub.execute_input": "2022-06-24T22:25:45.150332Z",
     "iopub.status.busy": "2022-06-24T22:25:45.149935Z",
     "iopub.status.idle": "2022-06-24T22:25:45.356027Z",
     "shell.execute_reply": "2022-06-24T22:25:45.354935Z"
    },
    "papermill": {
     "duration": 0.221308,
     "end_time": "2022-06-24T22:25:45.358504",
     "exception": false,
     "start_time": "2022-06-24T22:25:45.137196",
     "status": "completed"
    },
    "tags": []
   },
   "outputs": [],
   "source": [
    "hoods = df_clean['Neighbourhood'].unique()\n",
    "df_pop[df_pop['Characteristic']=='Neighbourhood Number']\n",
    "\n",
    "list_hoods = df_pop[df_pop['Characteristic']=='Neighbourhood Number'].iloc[0,6:]\n",
    "\n",
    "hoods_pop = df_pop[df_pop['Characteristic']=='Population, 2016'].iloc[0,6:]\n",
    "\n",
    "pop_dict={}\n",
    "\n",
    "for i in range(len(hoods_pop)):\n",
    "    for j in range(len(hoods)):\n",
    "        if hoods_pop.keys()[i] in hoods[j]:\n",
    "            pop_dict[hoods[j]]=int(hoods_pop[i].replace(',',''))\n",
    "                   \n",
    "# List of years = 2014, 2016, 2017, 2018, 2019, 2020, 2021, 2015\n",
    "\n",
    "collisions_2014 = dict(df_clean[df_clean['Year']==2014].groupby('Neighbourhood').aggregate({'EventUniqueId':'count'})['EventUniqueId'])\n",
    "#df_clean.groupby('Neighbourhood').count()"
   ]
  },
  {
   "cell_type": "code",
   "execution_count": 17,
   "id": "c3634ef7",
   "metadata": {
    "execution": {
     "iopub.execute_input": "2022-06-24T22:25:45.382976Z",
     "iopub.status.busy": "2022-06-24T22:25:45.382584Z",
     "iopub.status.idle": "2022-06-24T22:25:45.389448Z",
     "shell.execute_reply": "2022-06-24T22:25:45.388422Z"
    },
    "papermill": {
     "duration": 0.021745,
     "end_time": "2022-06-24T22:25:45.391702",
     "exception": false,
     "start_time": "2022-06-24T22:25:45.369957",
     "status": "completed"
    },
    "tags": []
   },
   "outputs": [
    {
     "name": "stdout",
     "output_type": "stream",
     "text": [
      "[]\n",
      "140\n"
     ]
    }
   ],
   "source": [
    "#dict(collisions_2014['EventUniqueId'])\n",
    "\n",
    "# missing hoods in pop_dict?\n",
    "missing = []\n",
    "count=0\n",
    "\n",
    "for key in collisions_2014.keys():\n",
    "    if key not in pop_dict.keys():\n",
    "        missing.append(key)\n",
    "    else:\n",
    "        count +=1\n",
    "        \n",
    "print(missing)\n",
    "print(count)\n"
   ]
  },
  {
   "cell_type": "code",
   "execution_count": null,
   "id": "79ff2ddf",
   "metadata": {
    "execution": {
     "iopub.execute_input": "2022-06-24T22:24:49.557814Z",
     "iopub.status.busy": "2022-06-24T22:24:49.557000Z",
     "iopub.status.idle": "2022-06-24T22:24:49.567273Z",
     "shell.execute_reply": "2022-06-24T22:24:49.566354Z",
     "shell.execute_reply.started": "2022-06-24T22:24:49.557766Z"
    },
    "papermill": {
     "duration": 0.0111,
     "end_time": "2022-06-24T22:25:45.414308",
     "exception": false,
     "start_time": "2022-06-24T22:25:45.403208",
     "status": "completed"
    },
    "tags": []
   },
   "outputs": [],
   "source": []
  },
  {
   "cell_type": "code",
   "execution_count": null,
   "id": "1e353ff5",
   "metadata": {
    "papermill": {
     "duration": 0.011156,
     "end_time": "2022-06-24T22:25:45.436890",
     "exception": false,
     "start_time": "2022-06-24T22:25:45.425734",
     "status": "completed"
    },
    "tags": []
   },
   "outputs": [],
   "source": []
  },
  {
   "cell_type": "markdown",
   "id": "1b371b7a",
   "metadata": {
    "papermill": {
     "duration": 0.01106,
     "end_time": "2022-06-24T22:25:45.459566",
     "exception": false,
     "start_time": "2022-06-24T22:25:45.448506",
     "status": "completed"
    },
    "tags": []
   },
   "source": [
    "Traffic collisions by year were growing 2014-2019 until they rapidly dropped in 2020 and 2021 -- all during COVID pandemics"
   ]
  }
 ],
 "metadata": {
  "kernelspec": {
   "display_name": "Python 3",
   "language": "python",
   "name": "python3"
  },
  "language_info": {
   "codemirror_mode": {
    "name": "ipython",
    "version": 3
   },
   "file_extension": ".py",
   "mimetype": "text/x-python",
   "name": "python",
   "nbconvert_exporter": "python",
   "pygments_lexer": "ipython3",
   "version": "3.7.12"
  },
  "papermill": {
   "default_parameters": {},
   "duration": 27.439038,
   "end_time": "2022-06-24T22:25:46.293177",
   "environment_variables": {},
   "exception": null,
   "input_path": "__notebook__.ipynb",
   "output_path": "__notebook__.ipynb",
   "parameters": {},
   "start_time": "2022-06-24T22:25:18.854139",
   "version": "2.3.4"
  }
 },
 "nbformat": 4,
 "nbformat_minor": 5
}
