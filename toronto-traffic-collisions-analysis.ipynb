{
 "cells": [
  {
   "cell_type": "code",
   "execution_count": 1,
   "id": "dbf34cd3",
   "metadata": {
    "_cell_guid": "ab909f14-78a4-4b19-855e-b7ca5b7a8345",
    "_uuid": "0747ac91-d59c-49d3-a739-9aae49dafde2",
    "collapsed": false,
    "execution": {
     "iopub.execute_input": "2022-06-28T01:41:27.931846Z",
     "iopub.status.busy": "2022-06-28T01:41:27.931271Z",
     "iopub.status.idle": "2022-06-28T01:41:30.889740Z",
     "shell.execute_reply": "2022-06-28T01:41:30.888679Z"
    },
    "jupyter": {
     "outputs_hidden": false
    },
    "papermill": {
     "duration": 2.976354,
     "end_time": "2022-06-28T01:41:30.892627",
     "exception": false,
     "start_time": "2022-06-28T01:41:27.916273",
     "status": "completed"
    },
    "tags": []
   },
   "outputs": [
    {
     "name": "stdout",
     "output_type": "stream",
     "text": [
      "/kaggle/input/traffic-collisions-toronto/Traffic_Collisions_Toronto_data.csv\n",
      "/kaggle/input/city-of-toronto-neighbourhood-profiles-2016/toronto_neighbourhood_profiles_2016.csv\n"
     ]
    }
   ],
   "source": [
    "# This Python 3 environment comes with many helpful analytics libraries installed\n",
    "# It is defined by the kaggle/python Docker image: https://github.com/kaggle/docker-python\n",
    "# For example, here's several helpful packages to load\n",
    "\n",
    "import numpy as np # linear algebra\n",
    "import pandas as pd # data processing, CSV file I/O (e.g. pd.read_csv)\n",
    "\n",
    "# Input data files are available in the read-only \"../input/\" directory\n",
    "# For example, running this (by clicking run or pressing Shift+Enter) will list all files under the input directory\n",
    "\n",
    "import os\n",
    "for dirname, _, filenames in os.walk('/kaggle/input'):\n",
    "    for filename in filenames:\n",
    "        print(os.path.join(dirname, filename))\n",
    "\n",
    "# You can write up to 20GB to the current directory (/kaggle/working/) that gets preserved as output when you create a version using \"Save & Run All\" \n",
    "# You can also write temporary files to /kaggle/temp/, but they won't be saved outside of the current session\n",
    "\n",
    "df = pd.read_csv('/kaggle/input/traffic-collisions-toronto/Traffic_Collisions_Toronto_data.csv')"
   ]
  },
  {
   "cell_type": "markdown",
   "id": "20a1179c",
   "metadata": {
    "_cell_guid": "9626df61-fe16-49fa-b6fc-baab4c4e0eb2",
    "_uuid": "6cd929aa-0626-47b2-846d-3b5e9c8b21b2",
    "papermill": {
     "duration": 0.01006,
     "end_time": "2022-06-28T01:41:30.913612",
     "exception": false,
     "start_time": "2022-06-28T01:41:30.903552",
     "status": "completed"
    },
    "tags": []
   },
   "source": [
    "**PART 1. CLEANING AND PREPARING THE DATASET**"
   ]
  },
  {
   "cell_type": "code",
   "execution_count": 2,
   "id": "32e83bca",
   "metadata": {
    "_cell_guid": "6fcab45b-9d1b-4f4d-a514-7051a13ad0aa",
    "_uuid": "49c5ae2c-8594-47b3-abc9-f8579340fb48",
    "collapsed": false,
    "execution": {
     "iopub.execute_input": "2022-06-28T01:41:30.938119Z",
     "iopub.status.busy": "2022-06-28T01:41:30.937413Z",
     "iopub.status.idle": "2022-06-28T01:41:30.974071Z",
     "shell.execute_reply": "2022-06-28T01:41:30.972719Z"
    },
    "jupyter": {
     "outputs_hidden": false
    },
    "papermill": {
     "duration": 0.052267,
     "end_time": "2022-06-28T01:41:30.976694",
     "exception": false,
     "start_time": "2022-06-28T01:41:30.924427",
     "status": "completed"
    },
    "tags": []
   },
   "outputs": [
    {
     "data": {
      "text/html": [
       "<div>\n",
       "<style scoped>\n",
       "    .dataframe tbody tr th:only-of-type {\n",
       "        vertical-align: middle;\n",
       "    }\n",
       "\n",
       "    .dataframe tbody tr th {\n",
       "        vertical-align: top;\n",
       "    }\n",
       "\n",
       "    .dataframe thead th {\n",
       "        text-align: right;\n",
       "    }\n",
       "</style>\n",
       "<table border=\"1\" class=\"dataframe\">\n",
       "  <thead>\n",
       "    <tr style=\"text-align: right;\">\n",
       "      <th></th>\n",
       "      <th>X</th>\n",
       "      <th>Y</th>\n",
       "      <th>OBJECTID</th>\n",
       "      <th>EventUniqueId</th>\n",
       "      <th>OccurrenceDate</th>\n",
       "      <th>Month</th>\n",
       "      <th>Day_of_Week</th>\n",
       "      <th>Year</th>\n",
       "      <th>Hour</th>\n",
       "      <th>Division</th>\n",
       "      <th>Atom</th>\n",
       "      <th>Neighbourhood</th>\n",
       "      <th>Fatalities</th>\n",
       "      <th>Injury_Collisions</th>\n",
       "      <th>FTR_Collisions</th>\n",
       "      <th>PD_Collisions</th>\n",
       "      <th>Longitude</th>\n",
       "      <th>Latitude</th>\n",
       "      <th>ObjectId2</th>\n",
       "    </tr>\n",
       "  </thead>\n",
       "  <tbody>\n",
       "    <tr>\n",
       "      <th>0</th>\n",
       "      <td>0.0</td>\n",
       "      <td>0.0</td>\n",
       "      <td>1</td>\n",
       "      <td>GO-20141001</td>\n",
       "      <td>2014/02/07 05:00:00+00</td>\n",
       "      <td>February</td>\n",
       "      <td>Friday</td>\n",
       "      <td>2014</td>\n",
       "      <td>16</td>\n",
       "      <td>NSA</td>\n",
       "      <td>NSA</td>\n",
       "      <td>NSA</td>\n",
       "      <td>0</td>\n",
       "      <td>NO</td>\n",
       "      <td>NO</td>\n",
       "      <td>YES</td>\n",
       "      <td>0.0</td>\n",
       "      <td>0.0</td>\n",
       "      <td>1</td>\n",
       "    </tr>\n",
       "    <tr>\n",
       "      <th>1</th>\n",
       "      <td>0.0</td>\n",
       "      <td>0.0</td>\n",
       "      <td>2</td>\n",
       "      <td>GO-20141225593</td>\n",
       "      <td>2014/01/02 05:00:00+00</td>\n",
       "      <td>January</td>\n",
       "      <td>Thursday</td>\n",
       "      <td>2014</td>\n",
       "      <td>3</td>\n",
       "      <td>NSA</td>\n",
       "      <td>NSA</td>\n",
       "      <td>NSA</td>\n",
       "      <td>0</td>\n",
       "      <td>NO</td>\n",
       "      <td>YES</td>\n",
       "      <td>NO</td>\n",
       "      <td>0.0</td>\n",
       "      <td>0.0</td>\n",
       "      <td>2</td>\n",
       "    </tr>\n",
       "    <tr>\n",
       "      <th>2</th>\n",
       "      <td>0.0</td>\n",
       "      <td>0.0</td>\n",
       "      <td>3</td>\n",
       "      <td>GO-20141260499</td>\n",
       "      <td>2014/01/01 05:00:00+00</td>\n",
       "      <td>January</td>\n",
       "      <td>Wednesday</td>\n",
       "      <td>2014</td>\n",
       "      <td>2</td>\n",
       "      <td>NSA</td>\n",
       "      <td>NSA</td>\n",
       "      <td>NSA</td>\n",
       "      <td>0</td>\n",
       "      <td>YES</td>\n",
       "      <td>NO</td>\n",
       "      <td>NO</td>\n",
       "      <td>0.0</td>\n",
       "      <td>0.0</td>\n",
       "      <td>3</td>\n",
       "    </tr>\n",
       "    <tr>\n",
       "      <th>3</th>\n",
       "      <td>0.0</td>\n",
       "      <td>0.0</td>\n",
       "      <td>4</td>\n",
       "      <td>GO-20141260663</td>\n",
       "      <td>2014/01/01 05:00:00+00</td>\n",
       "      <td>January</td>\n",
       "      <td>Wednesday</td>\n",
       "      <td>2014</td>\n",
       "      <td>3</td>\n",
       "      <td>NSA</td>\n",
       "      <td>NSA</td>\n",
       "      <td>NSA</td>\n",
       "      <td>0</td>\n",
       "      <td>NO</td>\n",
       "      <td>NO</td>\n",
       "      <td>YES</td>\n",
       "      <td>0.0</td>\n",
       "      <td>0.0</td>\n",
       "      <td>4</td>\n",
       "    </tr>\n",
       "    <tr>\n",
       "      <th>4</th>\n",
       "      <td>0.0</td>\n",
       "      <td>0.0</td>\n",
       "      <td>5</td>\n",
       "      <td>GO-20141261162</td>\n",
       "      <td>2014/01/01 05:00:00+00</td>\n",
       "      <td>January</td>\n",
       "      <td>Wednesday</td>\n",
       "      <td>2014</td>\n",
       "      <td>5</td>\n",
       "      <td>NSA</td>\n",
       "      <td>NSA</td>\n",
       "      <td>NSA</td>\n",
       "      <td>0</td>\n",
       "      <td>YES</td>\n",
       "      <td>NO</td>\n",
       "      <td>NO</td>\n",
       "      <td>0.0</td>\n",
       "      <td>0.0</td>\n",
       "      <td>5</td>\n",
       "    </tr>\n",
       "  </tbody>\n",
       "</table>\n",
       "</div>"
      ],
      "text/plain": [
       "     X    Y  OBJECTID   EventUniqueId          OccurrenceDate     Month  \\\n",
       "0  0.0  0.0         1     GO-20141001  2014/02/07 05:00:00+00  February   \n",
       "1  0.0  0.0         2  GO-20141225593  2014/01/02 05:00:00+00   January   \n",
       "2  0.0  0.0         3  GO-20141260499  2014/01/01 05:00:00+00   January   \n",
       "3  0.0  0.0         4  GO-20141260663  2014/01/01 05:00:00+00   January   \n",
       "4  0.0  0.0         5  GO-20141261162  2014/01/01 05:00:00+00   January   \n",
       "\n",
       "  Day_of_Week  Year  Hour Division Atom Neighbourhood  Fatalities  \\\n",
       "0      Friday  2014    16      NSA  NSA           NSA           0   \n",
       "1    Thursday  2014     3      NSA  NSA           NSA           0   \n",
       "2   Wednesday  2014     2      NSA  NSA           NSA           0   \n",
       "3   Wednesday  2014     3      NSA  NSA           NSA           0   \n",
       "4   Wednesday  2014     5      NSA  NSA           NSA           0   \n",
       "\n",
       "  Injury_Collisions FTR_Collisions PD_Collisions  Longitude  Latitude  \\\n",
       "0                NO             NO           YES        0.0       0.0   \n",
       "1                NO            YES            NO        0.0       0.0   \n",
       "2               YES             NO            NO        0.0       0.0   \n",
       "3                NO             NO           YES        0.0       0.0   \n",
       "4               YES             NO            NO        0.0       0.0   \n",
       "\n",
       "   ObjectId2  \n",
       "0          1  \n",
       "1          2  \n",
       "2          3  \n",
       "3          4  \n",
       "4          5  "
      ]
     },
     "execution_count": 2,
     "metadata": {},
     "output_type": "execute_result"
    }
   ],
   "source": [
    "df.head()"
   ]
  },
  {
   "cell_type": "code",
   "execution_count": 3,
   "id": "70a1a9e3",
   "metadata": {
    "_cell_guid": "4f89d48c-3afb-4f5e-91e0-35e3e5d652c4",
    "_uuid": "179e332f-88be-421d-9a24-f2619aea372c",
    "collapsed": false,
    "execution": {
     "iopub.execute_input": "2022-06-28T01:41:31.003438Z",
     "iopub.status.busy": "2022-06-28T01:41:31.002753Z",
     "iopub.status.idle": "2022-06-28T01:41:31.012481Z",
     "shell.execute_reply": "2022-06-28T01:41:31.011627Z"
    },
    "jupyter": {
     "outputs_hidden": false
    },
    "papermill": {
     "duration": 0.026002,
     "end_time": "2022-06-28T01:41:31.014885",
     "exception": false,
     "start_time": "2022-06-28T01:41:30.988883",
     "status": "completed"
    },
    "tags": []
   },
   "outputs": [
    {
     "data": {
      "text/plain": [
       "X                    float64\n",
       "Y                    float64\n",
       "OBJECTID               int64\n",
       "EventUniqueId         object\n",
       "OccurrenceDate        object\n",
       "Month                 object\n",
       "Day_of_Week           object\n",
       "Year                   int64\n",
       "Hour                   int64\n",
       "Division              object\n",
       "Atom                  object\n",
       "Neighbourhood         object\n",
       "Fatalities             int64\n",
       "Injury_Collisions     object\n",
       "FTR_Collisions        object\n",
       "PD_Collisions         object\n",
       "Longitude            float64\n",
       "Latitude             float64\n",
       "ObjectId2              int64\n",
       "dtype: object"
      ]
     },
     "execution_count": 3,
     "metadata": {},
     "output_type": "execute_result"
    }
   ],
   "source": [
    "df.dtypes"
   ]
  },
  {
   "cell_type": "markdown",
   "id": "7389072b",
   "metadata": {
    "_cell_guid": "e4fe3af4-00c5-4f64-96c1-01847fc401be",
    "_uuid": "f5e92257-4a74-45e5-b41f-014ca24a75ac",
    "papermill": {
     "duration": 0.010479,
     "end_time": "2022-06-28T01:41:31.036342",
     "exception": false,
     "start_time": "2022-06-28T01:41:31.025863",
     "status": "completed"
    },
    "tags": []
   },
   "source": [
    "We will have some data that we want to reprocess. From metadata we know that:\n",
    "1. **OBJECTID** and **ObjectId2** are essentially duplicates, and are index columns. We will drop those, and create a new index\n",
    "2. **OccurenceDate** -- we will change this to datetime type\n",
    "3. Once we have **OccurenceDate** as datetime we will see whether we need to keep separately columns for **Month**, **Year**, **Hour**\n",
    "4. For computational efficiencies we will change to category types columns **Division**, **Atom** and **Neighbourhood** after cleaning them from missing data\n",
    "5. Columns **Injury_Collisions**, **FTR_Collisions**, **PD_Collisions** should be converted to boolean"
   ]
  },
  {
   "cell_type": "code",
   "execution_count": 4,
   "id": "813654f2",
   "metadata": {
    "_cell_guid": "b80b7d64-3ab3-4d8f-82b7-b192c5f7f0c2",
    "_uuid": "9bbed5ca-1ce2-4bd4-b71e-e013a53935b8",
    "collapsed": false,
    "execution": {
     "iopub.execute_input": "2022-06-28T01:41:31.060849Z",
     "iopub.status.busy": "2022-06-28T01:41:31.060018Z",
     "iopub.status.idle": "2022-06-28T01:41:31.067464Z",
     "shell.execute_reply": "2022-06-28T01:41:31.066623Z"
    },
    "jupyter": {
     "outputs_hidden": false
    },
    "papermill": {
     "duration": 0.022913,
     "end_time": "2022-06-28T01:41:31.070276",
     "exception": false,
     "start_time": "2022-06-28T01:41:31.047363",
     "status": "completed"
    },
    "tags": []
   },
   "outputs": [
    {
     "data": {
      "text/plain": [
       "(499538, 19)"
      ]
     },
     "execution_count": 4,
     "metadata": {},
     "output_type": "execute_result"
    }
   ],
   "source": [
    "df.shape\n",
    "## Our data has 499 538 observations (and 19 columns)"
   ]
  },
  {
   "cell_type": "code",
   "execution_count": 5,
   "id": "dc5de5f7",
   "metadata": {
    "_cell_guid": "0ee87f5e-1c40-4719-9a27-acc897a916b1",
    "_uuid": "093a42e2-f415-4db1-aae7-aa9d31d6aafd",
    "collapsed": false,
    "execution": {
     "iopub.execute_input": "2022-06-28T01:41:31.096982Z",
     "iopub.status.busy": "2022-06-28T01:41:31.095877Z",
     "iopub.status.idle": "2022-06-28T01:41:32.262929Z",
     "shell.execute_reply": "2022-06-28T01:41:32.261533Z"
    },
    "jupyter": {
     "outputs_hidden": false
    },
    "papermill": {
     "duration": 1.183342,
     "end_time": "2022-06-28T01:41:32.265790",
     "exception": false,
     "start_time": "2022-06-28T01:41:31.082448",
     "status": "completed"
    },
    "tags": []
   },
   "outputs": [
    {
     "name": "stdout",
     "output_type": "stream",
     "text": [
      "X                    0\n",
      "Y                    0\n",
      "EventUniqueId        0\n",
      "OccurrenceDate       0\n",
      "Month                0\n",
      "Day_of_Week          0\n",
      "Year                 0\n",
      "Hour                 0\n",
      "Division             0\n",
      "Atom                 0\n",
      "Neighbourhood        0\n",
      "Fatalities           0\n",
      "Injury_Collisions    0\n",
      "FTR_Collisions       0\n",
      "PD_Collisions        0\n",
      "Longitude            0\n",
      "Latitude             0\n",
      "dtype: int64\n",
      "['NSA' 'D54/D55' 'D43' 'D41' 'D11' 'D31' 'D32' 'D14' 'D53' 'D12' 'D33'\n",
      " 'D42' 'D23' 'D22' 'D52' 'D13' 'D51']\n",
      "['NSA' '40' '531' '25' '27' '31' '48' '119' '76' '134' '117' '128' '14'\n",
      " '136' '23' '34' '49' '21' '39' '139' '127' '124' '120' '122' '75' '47'\n",
      " '24' '137' '35' '131' '133' '123' '88' '1' '103' '45' '105' '140' '135'\n",
      " '132' '138' '129' '130' '125' '126' '121' '63' '62' '61' '118' '54' '43'\n",
      " '70' '116' '60' '64' '66' '65' '59' '58' '53' '44' '42' '46' '69' '55'\n",
      " '68' '67' '77' '57' '73' '41' '72' '56' '71' '52' '98' '74' '99' '95'\n",
      " '78' '104' '51' '79' '97' '50' '82' '100' '96' '101' '38' '81' '80' '37'\n",
      " '94' '102' '36' '93' '106' '85' '84' '83' '86' '32' '107' '92' '33' '108'\n",
      " '87' '109' '91' '26' '90' '110' '112' '30' '17' '29' '16' '111' '89'\n",
      " '115' '114' '28' '15' '18' '113' '9' '8' '19' '20' '10' '22' '7' '6' '5'\n",
      " '3' '11' '4' '12' '13' '2']\n",
      "          EventUniqueId\n",
      "Division               \n",
      "D11                  74\n",
      "D12                 162\n",
      "D13                 148\n",
      "D14                 106\n",
      "D22                 242\n",
      "D23                 134\n",
      "D31                 197\n",
      "D32                 351\n",
      "D33                 298\n",
      "D41                 147\n",
      "D42                 186\n",
      "D43                 138\n",
      "D51                  87\n",
      "D52                 118\n",
      "D53                 127\n",
      "D54/D55             214\n",
      "NSA               69989\n",
      "      EventUniqueId\n",
      "Atom               \n",
      "17                2\n",
      "76                2\n",
      "77                3\n",
      "78                1\n",
      "NSA           69989\n"
     ]
    }
   ],
   "source": [
    "## Let's drop columns we won't use:\n",
    "df_clean = df.drop(['OBJECTID','ObjectId2'], axis=1)\n",
    "\n",
    "## We don't have any data explicitely marked as 'NaN', but that could be how our data is marked\n",
    "print(df_clean.isna().sum())\n",
    "\n",
    "## Let's convert OccurrenceDate column to datetime. \n",
    "df_clean['OccurrenceDate'] = pd.to_datetime(df['OccurrenceDate'], yearfirst=True)\n",
    "\n",
    "## We will convert Division, Atom and Neighbourhood into categorical variables, but before let's explore them:\n",
    "print(df_clean['Division'].unique())\n",
    "print(df_clean['Atom'].unique())\n",
    "\n",
    "## We can see that we have 'NSA' values:\n",
    "## We have observations where Neighborhood ID (Atom) is missing, but Police division is present:\n",
    "print(df_clean[df_clean['Atom']=='NSA'].groupby(['Division']).aggregate({'EventUniqueId':'count'}))\n",
    "\n",
    "## We also have observations wher Police division is 'NSA', but Neighbourhood ID is present:\n",
    "print(df_clean[df_clean['Division']=='NSA'].groupby(['Atom']).aggregate({'EventUniqueId':'count'}))"
   ]
  },
  {
   "cell_type": "code",
   "execution_count": 6,
   "id": "1c7f56b9",
   "metadata": {
    "_cell_guid": "b632e53e-25a6-4f7f-84ca-611ff2c2622f",
    "_uuid": "833372ff-738d-4d6a-a320-5ca2884c3594",
    "collapsed": false,
    "execution": {
     "iopub.execute_input": "2022-06-28T01:41:32.293770Z",
     "iopub.status.busy": "2022-06-28T01:41:32.292519Z",
     "iopub.status.idle": "2022-06-28T01:41:32.618572Z",
     "shell.execute_reply": "2022-06-28T01:41:32.617374Z"
    },
    "jupyter": {
     "outputs_hidden": false
    },
    "papermill": {
     "duration": 0.342742,
     "end_time": "2022-06-28T01:41:32.621694",
     "exception": false,
     "start_time": "2022-06-28T01:41:32.278952",
     "status": "completed"
    },
    "tags": []
   },
   "outputs": [
    {
     "name": "stdout",
     "output_type": "stream",
     "text": [
      "(426811, 17)\n"
     ]
    }
   ],
   "source": [
    "## Since this is not a significant portion of observations, and each Division is reponsible for multiple neighborhoods, we will drop all NSA values:\n",
    "NSA_selector = (df_clean['Division']=='NSA') | (df_clean['Atom']=='NSA') | (df_clean['Neighbourhood']=='NSA')\n",
    "\n",
    "df_clean = df_clean[~NSA_selector]\n",
    "\n",
    "## After dropping, we have 426 811 observations (vs 499 538) -- we've dropped 15% of rows\n",
    "print(df_clean.shape)"
   ]
  },
  {
   "cell_type": "code",
   "execution_count": 7,
   "id": "a28748e0",
   "metadata": {
    "_cell_guid": "b6aa9787-6370-47c7-a36b-4f15a5fc94eb",
    "_uuid": "777674f3-93b5-4e4a-acd9-db0e74041836",
    "collapsed": false,
    "execution": {
     "iopub.execute_input": "2022-06-28T01:41:32.649304Z",
     "iopub.status.busy": "2022-06-28T01:41:32.648730Z",
     "iopub.status.idle": "2022-06-28T01:41:33.172125Z",
     "shell.execute_reply": "2022-06-28T01:41:33.170731Z"
    },
    "jupyter": {
     "outputs_hidden": false
    },
    "papermill": {
     "duration": 0.541497,
     "end_time": "2022-06-28T01:41:33.175530",
     "exception": false,
     "start_time": "2022-06-28T01:41:32.634033",
     "status": "completed"
    },
    "tags": []
   },
   "outputs": [
    {
     "name": "stdout",
     "output_type": "stream",
     "text": [
      "X                                float64\n",
      "Y                                float64\n",
      "EventUniqueId                     object\n",
      "OccurrenceDate       datetime64[ns, UTC]\n",
      "Month                             object\n",
      "Day_of_Week                       object\n",
      "Year                               int64\n",
      "Hour                               int64\n",
      "Division                        category\n",
      "Atom                            category\n",
      "Neighbourhood                   category\n",
      "Fatalities                         int64\n",
      "Injury_Collisions                 object\n",
      "FTR_Collisions                    object\n",
      "PD_Collisions                     object\n",
      "Longitude                        float64\n",
      "Latitude                         float64\n",
      "dtype: object\n"
     ]
    }
   ],
   "source": [
    "## Now let's convert to category type: this will improve performace and computational efficiency\n",
    "df_clean['Division'] = df_clean.Division.astype('category')\n",
    "df_clean['Atom'] = df_clean.Atom.astype('category')\n",
    "df_clean['Neighbourhood'] = df_clean.Neighbourhood.astype('category')\n",
    "print(df_clean.dtypes)\n",
    "\n",
    "## Now we convert Injury_Collisions, FTR_Collisions, PD_Collisions should be converted to boolean\n",
    "boolean_columns = ['Injury_Collisions','FTR_Collisions','PD_Collisions']\n",
    "\n",
    "for i in boolean_columns:\n",
    "    df_clean[i] = df_clean[i].map({'YES': True, 'NO': False})"
   ]
  },
  {
   "cell_type": "code",
   "execution_count": 8,
   "id": "7c779ba8",
   "metadata": {
    "_cell_guid": "cd7f5511-1096-4990-a7b6-dbd07ed38a9e",
    "_uuid": "d7664cb6-9a4a-4326-8835-43e7603a5db5",
    "collapsed": false,
    "execution": {
     "iopub.execute_input": "2022-06-28T01:41:33.205553Z",
     "iopub.status.busy": "2022-06-28T01:41:33.205039Z",
     "iopub.status.idle": "2022-06-28T01:41:33.213898Z",
     "shell.execute_reply": "2022-06-28T01:41:33.212301Z"
    },
    "jupyter": {
     "outputs_hidden": false
    },
    "papermill": {
     "duration": 0.028614,
     "end_time": "2022-06-28T01:41:33.217578",
     "exception": false,
     "start_time": "2022-06-28T01:41:33.188964",
     "status": "completed"
    },
    "tags": []
   },
   "outputs": [
    {
     "name": "stdout",
     "output_type": "stream",
     "text": [
      "X                                float64\n",
      "Y                                float64\n",
      "EventUniqueId                     object\n",
      "OccurrenceDate       datetime64[ns, UTC]\n",
      "Month                             object\n",
      "Day_of_Week                       object\n",
      "Year                               int64\n",
      "Hour                               int64\n",
      "Division                        category\n",
      "Atom                            category\n",
      "Neighbourhood                   category\n",
      "Fatalities                         int64\n",
      "Injury_Collisions                   bool\n",
      "FTR_Collisions                      bool\n",
      "PD_Collisions                       bool\n",
      "Longitude                        float64\n",
      "Latitude                         float64\n",
      "dtype: object\n"
     ]
    }
   ],
   "source": [
    "print(df_clean.dtypes)"
   ]
  },
  {
   "cell_type": "markdown",
   "id": "5e281fa8",
   "metadata": {
    "papermill": {
     "duration": 0.01383,
     "end_time": "2022-06-28T01:41:33.245649",
     "exception": false,
     "start_time": "2022-06-28T01:41:33.231819",
     "status": "completed"
    },
    "tags": []
   },
   "source": [
    "**PART 2. EXPLORING THE CLEAN DATASET**"
   ]
  },
  {
   "cell_type": "code",
   "execution_count": 9,
   "id": "3b4be34f",
   "metadata": {
    "execution": {
     "iopub.execute_input": "2022-06-28T01:41:33.277019Z",
     "iopub.status.busy": "2022-06-28T01:41:33.276465Z",
     "iopub.status.idle": "2022-06-28T01:41:35.194581Z",
     "shell.execute_reply": "2022-06-28T01:41:35.193196Z"
    },
    "papermill": {
     "duration": 1.938078,
     "end_time": "2022-06-28T01:41:35.197812",
     "exception": false,
     "start_time": "2022-06-28T01:41:33.259734",
     "status": "completed"
    },
    "tags": []
   },
   "outputs": [
    {
     "data": {
      "image/png": "[encoded data removed]",
      "text/plain": [
       "<Figure size 432x288 with 1 Axes>"
      ]
     },
     "metadata": {
      "needs_background": "light"
     },
     "output_type": "display_data"
    }
   ],
   "source": [
    "## Let's do some EDA now\n",
    "import matplotlib.pyplot as plt\n",
    "import seaborn as sns\n",
    "\n",
    "# First of all let's try to have a look at overall collisions by year\n",
    "\n",
    "sns.countplot(x='Year', data=df_clean)\n",
    "plt.show()\n",
    "## We can see that collisions by year were growing until 2019 when they rapidly dropped in 2020 and 2021 -- during the COVID pandemics"
   ]
  },
  {
   "cell_type": "code",
   "execution_count": 10,
   "id": "ab471773",
   "metadata": {
    "execution": {
     "iopub.execute_input": "2022-06-28T01:41:35.225665Z",
     "iopub.status.busy": "2022-06-28T01:41:35.224683Z",
     "iopub.status.idle": "2022-06-28T01:41:40.302678Z",
     "shell.execute_reply": "2022-06-28T01:41:40.301247Z"
    },
    "papermill": {
     "duration": 5.095571,
     "end_time": "2022-06-28T01:41:40.306048",
     "exception": false,
     "start_time": "2022-06-28T01:41:35.210477",
     "status": "completed"
    },
    "tags": []
   },
   "outputs": [
    {
     "data": {
      "image/png": "[encoded data removed]",
      "text/plain": [
       "<Figure size 1440x720 with 7 Axes>"
      ]
     },
     "metadata": {
      "needs_background": "light"
     },
     "output_type": "display_data"
    }
   ],
   "source": [
    "week_list = ['Monday','Tuesday','Wednesday','Thursday','Friday','Saturday','Sunday']\n",
    "sns.catplot(x='Year', col='Day_of_Week', data=df_clean, kind='count', col_order=week_list, col_wrap=4)\n",
    "plt.show()\n",
    "\n",
    "## The trend is the same for all days of the week. Is it the same across all divisions?"
   ]
  },
  {
   "cell_type": "code",
   "execution_count": 11,
   "id": "066cf7b2",
   "metadata": {
    "execution": {
     "iopub.execute_input": "2022-06-28T01:41:40.335598Z",
     "iopub.status.busy": "2022-06-28T01:41:40.335065Z",
     "iopub.status.idle": "2022-06-28T01:41:46.590262Z",
     "shell.execute_reply": "2022-06-28T01:41:46.588311Z"
    },
    "papermill": {
     "duration": 6.273363,
     "end_time": "2022-06-28T01:41:46.593921",
     "exception": false,
     "start_time": "2022-06-28T01:41:40.320558",
     "status": "completed"
    },
    "tags": []
   },
   "outputs": [
    {
     "data": {
      "image/png": "[encoded data removed]",
      "text/plain": [
       "<Figure size 1440x1440 with 16 Axes>"
      ]
     },
     "metadata": {
      "needs_background": "light"
     },
     "output_type": "display_data"
    }
   ],
   "source": [
    "sns.catplot(x='Year', col='Division', data=df_clean, kind='count', col_wrap=4)\n",
    "plt.show()\n",
    "## The drop was consistent across all divisions"
   ]
  },
  {
   "cell_type": "code",
   "execution_count": 12,
   "id": "42e6c3ce",
   "metadata": {
    "execution": {
     "iopub.execute_input": "2022-06-28T01:41:46.624725Z",
     "iopub.status.busy": "2022-06-28T01:41:46.624105Z",
     "iopub.status.idle": "2022-06-28T01:41:47.052022Z",
     "shell.execute_reply": "2022-06-28T01:41:47.050417Z"
    },
    "papermill": {
     "duration": 0.445565,
     "end_time": "2022-06-28T01:41:47.054915",
     "exception": false,
     "start_time": "2022-06-28T01:41:46.609350",
     "status": "completed"
    },
    "tags": []
   },
   "outputs": [
    {
     "data": {
      "image/png": "[encoded data removed]",
      "text/plain": [
       "<Figure size 432x288 with 1 Axes>"
      ]
     },
     "metadata": {
      "needs_background": "light"
     },
     "output_type": "display_data"
    }
   ],
   "source": [
    "divisions_order = list(df_clean.groupby('Division').aggregate({'EventUniqueId':'count'}).sort_values(by='EventUniqueId', ascending=False).index)\n",
    "mean_collisions = df_clean.groupby('Division').aggregate({'EventUniqueId':'count'}).sort_values(by='EventUniqueId', ascending=False)['EventUniqueId'].mean()\n",
    "sns.countplot(y='Division', data=df_clean, order=divisions_order)\n",
    "plt.axvline(x = mean_collisions, color = 'r', linestyle = '-')\n",
    "plt.show()\n",
    "\n",
    "##Divisions 32, 42, 33, 41, 54/55, and 53 had higher than average collisions.\n",
    "## It would be interesting to look closer at top2 and bottom2 divisions (D32&D42 and D12&D13 and see what is the difference between them)"
   ]
  },
  {
   "cell_type": "code",
   "execution_count": 13,
   "id": "952a6bd8",
   "metadata": {
    "execution": {
     "iopub.execute_input": "2022-06-28T01:41:47.086514Z",
     "iopub.status.busy": "2022-06-28T01:41:47.085971Z",
     "iopub.status.idle": "2022-06-28T01:41:47.472414Z",
     "shell.execute_reply": "2022-06-28T01:41:47.471147Z"
    },
    "papermill": {
     "duration": 0.406625,
     "end_time": "2022-06-28T01:41:47.476801",
     "exception": false,
     "start_time": "2022-06-28T01:41:47.070176",
     "status": "completed"
    },
    "tags": []
   },
   "outputs": [
    {
     "name": "stdout",
     "output_type": "stream",
     "text": [
      "          EventUniqueId  cum_sum   percent  cum_percent\n",
      "Division                                               \n",
      "D32               41016    41016  9.609874     9.609874\n",
      "D42               40411    81427  9.468125    19.077999\n",
      "D33               33772   115199  7.912636    26.990635\n",
      "D41               33383   148582  7.821495    34.812130\n",
      "D54/D55           30396   178978  7.121653    41.933783\n",
      "D53               28178   207156  6.601985    48.535769\n",
      "D14               26751   233907  6.267645    54.803414\n",
      "D43               26373   260280  6.179082    60.982496\n",
      "D22               26207   286487  6.140189    67.122684\n",
      "D31               25735   312222  6.029601    73.152285\n",
      "D23               24082   336304  5.642310    78.794595\n",
      "D52               22252   358556  5.213549    84.008144\n",
      "D51               18036   376592  4.225758    88.233902\n",
      "D11               17787   394379  4.167418    92.401320\n",
      "D12               16689   411068  3.910162    96.311482\n",
      "D13               15743   426811  3.688518   100.000000\n"
     ]
    },
    {
     "data": {
      "image/png": "[encoded data removed]",
      "text/plain": [
       "<Figure size 432x288 with 1 Axes>"
      ]
     },
     "metadata": {
      "needs_background": "light"
     },
     "output_type": "display_data"
    }
   ],
   "source": [
    "divisions = df_clean.groupby('Division').aggregate({'EventUniqueId':'count'}).sort_values(by='EventUniqueId', ascending=False)\n",
    "divisions['cum_sum'] = divisions['EventUniqueId'].cumsum()\n",
    "divisions['percent'] = 100*(divisions['EventUniqueId']/divisions['cum_sum'].max())\n",
    "divisions['cum_percent'] = 100*(divisions['cum_sum']/divisions['cum_sum'].max())\n",
    "print(divisions)\n",
    "\n",
    "x_div = list(divisions.index)\n",
    "sns.lineplot(x=x_div, y=divisions['cum_percent'],marker='o')\n",
    "plt.axhline(y = 80, color = 'r', linestyle = '-')\n",
    "plt.xticks(rotation=90)\n",
    "plt.show()"
   ]
  },
  {
   "cell_type": "markdown",
   "id": "aede117e",
   "metadata": {
    "papermill": {
     "duration": 0.017697,
     "end_time": "2022-06-28T01:41:47.513336",
     "exception": false,
     "start_time": "2022-06-28T01:41:47.495639",
     "status": "completed"
    },
    "tags": []
   },
   "source": [
    "Traffic collisions are mostly evenly distributed among divisions, even though D32 and D42 have more collisions that average"
   ]
  },
  {
   "cell_type": "code",
   "execution_count": 14,
   "id": "2b5beacc",
   "metadata": {
    "execution": {
     "iopub.execute_input": "2022-06-28T01:41:47.550875Z",
     "iopub.status.busy": "2022-06-28T01:41:47.549996Z",
     "iopub.status.idle": "2022-06-28T01:41:47.588343Z",
     "shell.execute_reply": "2022-06-28T01:41:47.587094Z"
    },
    "papermill": {
     "duration": 0.062849,
     "end_time": "2022-06-28T01:41:47.593430",
     "exception": false,
     "start_time": "2022-06-28T01:41:47.530581",
     "status": "completed"
    },
    "tags": []
   },
   "outputs": [
    {
     "data": {
      "text/html": [
       "<div>\n",
       "<style scoped>\n",
       "    .dataframe tbody tr th:only-of-type {\n",
       "        vertical-align: middle;\n",
       "    }\n",
       "\n",
       "    .dataframe tbody tr th {\n",
       "        vertical-align: top;\n",
       "    }\n",
       "\n",
       "    .dataframe thead th {\n",
       "        text-align: right;\n",
       "    }\n",
       "</style>\n",
       "<table border=\"1\" class=\"dataframe\">\n",
       "  <thead>\n",
       "    <tr style=\"text-align: right;\">\n",
       "      <th></th>\n",
       "      <th>EventUniqueId</th>\n",
       "    </tr>\n",
       "    <tr>\n",
       "      <th>Neighbourhood</th>\n",
       "      <th></th>\n",
       "    </tr>\n",
       "  </thead>\n",
       "  <tbody>\n",
       "    <tr>\n",
       "      <th>Milliken (130)</th>\n",
       "      <td>7692</td>\n",
       "    </tr>\n",
       "    <tr>\n",
       "      <th>Agincourt South-Malvern West (128)</th>\n",
       "      <td>6103</td>\n",
       "    </tr>\n",
       "    <tr>\n",
       "      <th>Rouge (131)</th>\n",
       "      <td>5902</td>\n",
       "    </tr>\n",
       "    <tr>\n",
       "      <th>Malvern (132)</th>\n",
       "      <td>5317</td>\n",
       "    </tr>\n",
       "    <tr>\n",
       "      <th>LAmoreaux (117)</th>\n",
       "      <td>4427</td>\n",
       "    </tr>\n",
       "    <tr>\n",
       "      <th>Tam OShanter-Sullivan (118)</th>\n",
       "      <td>3789</td>\n",
       "    </tr>\n",
       "    <tr>\n",
       "      <th>Agincourt North (129)</th>\n",
       "      <td>3608</td>\n",
       "    </tr>\n",
       "    <tr>\n",
       "      <th>Steeles (116)</th>\n",
       "      <td>3380</td>\n",
       "    </tr>\n",
       "    <tr>\n",
       "      <th>Centennial Scarborough (133)</th>\n",
       "      <td>191</td>\n",
       "    </tr>\n",
       "    <tr>\n",
       "      <th>West Humber-Clairville (1)</th>\n",
       "      <td>1</td>\n",
       "    </tr>\n",
       "    <tr>\n",
       "      <th>West Hill (136)</th>\n",
       "      <td>1</td>\n",
       "    </tr>\n",
       "  </tbody>\n",
       "</table>\n",
       "</div>"
      ],
      "text/plain": [
       "                                    EventUniqueId\n",
       "Neighbourhood                                    \n",
       "Milliken (130)                               7692\n",
       "Agincourt South-Malvern West (128)           6103\n",
       "Rouge (131)                                  5902\n",
       "Malvern (132)                                5317\n",
       "LAmoreaux (117)                              4427\n",
       "Tam OShanter-Sullivan (118)                  3789\n",
       "Agincourt North (129)                        3608\n",
       "Steeles (116)                                3380\n",
       "Centennial Scarborough (133)                  191\n",
       "West Humber-Clairville (1)                      1\n",
       "West Hill (136)                                 1"
      ]
     },
     "execution_count": 14,
     "metadata": {},
     "output_type": "execute_result"
    }
   ],
   "source": [
    "#print(df_clean[df_clean['Division']=='D32'].groupby(['Neighbourhood']).aggregate({'EventUniqueId':'count'}).sort_values(by='EventUniqueId', ascending=False))\n",
    "#print(df_clean[df_clean['Division']=='D13'].groupby(['Neighbourhood']).aggregate({'EventUniqueId':'count'}).sort_values(by='EventUniqueId', ascending=False))\n",
    "x = df_clean[df_clean['Division']=='D42'].groupby(['Neighbourhood']).aggregate({'EventUniqueId':'count'}).sort_values(by='EventUniqueId', ascending=False)\n",
    "x[x['EventUniqueId']>0]"
   ]
  },
  {
   "cell_type": "markdown",
   "id": "12c576f5",
   "metadata": {
    "papermill": {
     "duration": 0.016796,
     "end_time": "2022-06-28T01:41:47.626887",
     "exception": false,
     "start_time": "2022-06-28T01:41:47.610091",
     "status": "completed"
    },
    "tags": []
   },
   "source": [
    "It would be interested to compare data on neighborhood vs population of each neighborhood, but we don't have this data in the dataset, so we will load the dataset from Toronto portal"
   ]
  },
  {
   "cell_type": "code",
   "execution_count": 15,
   "id": "da627c07",
   "metadata": {
    "execution": {
     "iopub.execute_input": "2022-06-28T01:41:47.666510Z",
     "iopub.status.busy": "2022-06-28T01:41:47.664648Z",
     "iopub.status.idle": "2022-06-28T01:41:47.831787Z",
     "shell.execute_reply": "2022-06-28T01:41:47.830095Z"
    },
    "papermill": {
     "duration": 0.190422,
     "end_time": "2022-06-28T01:41:47.835194",
     "exception": false,
     "start_time": "2022-06-28T01:41:47.644772",
     "status": "completed"
    },
    "tags": []
   },
   "outputs": [
    {
     "data": {
      "text/html": [
       "<div>\n",
       "<style scoped>\n",
       "    .dataframe tbody tr th:only-of-type {\n",
       "        vertical-align: middle;\n",
       "    }\n",
       "\n",
       "    .dataframe tbody tr th {\n",
       "        vertical-align: top;\n",
       "    }\n",
       "\n",
       "    .dataframe thead th {\n",
       "        text-align: right;\n",
       "    }\n",
       "</style>\n",
       "<table border=\"1\" class=\"dataframe\">\n",
       "  <thead>\n",
       "    <tr style=\"text-align: right;\">\n",
       "      <th></th>\n",
       "      <th>_id</th>\n",
       "      <th>Category</th>\n",
       "      <th>Topic</th>\n",
       "      <th>Data Source</th>\n",
       "      <th>Characteristic</th>\n",
       "      <th>City of Toronto</th>\n",
       "      <th>Agincourt North</th>\n",
       "      <th>Agincourt South-Malvern West</th>\n",
       "      <th>Alderwood</th>\n",
       "      <th>Annex</th>\n",
       "      <th>...</th>\n",
       "      <th>Willowdale West</th>\n",
       "      <th>Willowridge-Martingrove-Richview</th>\n",
       "      <th>Woburn</th>\n",
       "      <th>Woodbine Corridor</th>\n",
       "      <th>Woodbine-Lumsden</th>\n",
       "      <th>Wychwood</th>\n",
       "      <th>Yonge-Eglinton</th>\n",
       "      <th>Yonge-St.Clair</th>\n",
       "      <th>York University Heights</th>\n",
       "      <th>Yorkdale-Glen Park</th>\n",
       "    </tr>\n",
       "  </thead>\n",
       "  <tbody>\n",
       "    <tr>\n",
       "      <th>0</th>\n",
       "      <td>1</td>\n",
       "      <td>Neighbourhood Information</td>\n",
       "      <td>Neighbourhood Information</td>\n",
       "      <td>City of Toronto</td>\n",
       "      <td>Neighbourhood Number</td>\n",
       "      <td>NaN</td>\n",
       "      <td>129</td>\n",
       "      <td>128</td>\n",
       "      <td>20</td>\n",
       "      <td>95</td>\n",
       "      <td>...</td>\n",
       "      <td>37</td>\n",
       "      <td>7</td>\n",
       "      <td>137</td>\n",
       "      <td>64</td>\n",
       "      <td>60</td>\n",
       "      <td>94</td>\n",
       "      <td>100</td>\n",
       "      <td>97</td>\n",
       "      <td>27</td>\n",
       "      <td>31</td>\n",
       "    </tr>\n",
       "    <tr>\n",
       "      <th>1</th>\n",
       "      <td>2</td>\n",
       "      <td>Neighbourhood Information</td>\n",
       "      <td>Neighbourhood Information</td>\n",
       "      <td>City of Toronto</td>\n",
       "      <td>TSNS2020 Designation</td>\n",
       "      <td>NaN</td>\n",
       "      <td>No Designation</td>\n",
       "      <td>No Designation</td>\n",
       "      <td>No Designation</td>\n",
       "      <td>No Designation</td>\n",
       "      <td>...</td>\n",
       "      <td>No Designation</td>\n",
       "      <td>No Designation</td>\n",
       "      <td>NIA</td>\n",
       "      <td>No Designation</td>\n",
       "      <td>No Designation</td>\n",
       "      <td>No Designation</td>\n",
       "      <td>No Designation</td>\n",
       "      <td>No Designation</td>\n",
       "      <td>NIA</td>\n",
       "      <td>Emerging Neighbourhood</td>\n",
       "    </tr>\n",
       "    <tr>\n",
       "      <th>2</th>\n",
       "      <td>3</td>\n",
       "      <td>Population</td>\n",
       "      <td>Population and dwellings</td>\n",
       "      <td>Census Profile 98-316-X2016001</td>\n",
       "      <td>Population, 2016</td>\n",
       "      <td>2,731,571</td>\n",
       "      <td>29,113</td>\n",
       "      <td>23,757</td>\n",
       "      <td>12,054</td>\n",
       "      <td>30,526</td>\n",
       "      <td>...</td>\n",
       "      <td>16,936</td>\n",
       "      <td>22,156</td>\n",
       "      <td>53,485</td>\n",
       "      <td>12,541</td>\n",
       "      <td>7,865</td>\n",
       "      <td>14,349</td>\n",
       "      <td>11,817</td>\n",
       "      <td>12,528</td>\n",
       "      <td>27,593</td>\n",
       "      <td>14,804</td>\n",
       "    </tr>\n",
       "    <tr>\n",
       "      <th>3</th>\n",
       "      <td>4</td>\n",
       "      <td>Population</td>\n",
       "      <td>Population and dwellings</td>\n",
       "      <td>Census Profile 98-316-X2016001</td>\n",
       "      <td>Population, 2011</td>\n",
       "      <td>2,615,060</td>\n",
       "      <td>30,279</td>\n",
       "      <td>21,988</td>\n",
       "      <td>11,904</td>\n",
       "      <td>29,177</td>\n",
       "      <td>...</td>\n",
       "      <td>15,004</td>\n",
       "      <td>21,343</td>\n",
       "      <td>53,350</td>\n",
       "      <td>11,703</td>\n",
       "      <td>7,826</td>\n",
       "      <td>13,986</td>\n",
       "      <td>10,578</td>\n",
       "      <td>11,652</td>\n",
       "      <td>27,713</td>\n",
       "      <td>14,687</td>\n",
       "    </tr>\n",
       "    <tr>\n",
       "      <th>4</th>\n",
       "      <td>5</td>\n",
       "      <td>Population</td>\n",
       "      <td>Population and dwellings</td>\n",
       "      <td>Census Profile 98-316-X2016001</td>\n",
       "      <td>Population Change 2011-2016</td>\n",
       "      <td>4.50%</td>\n",
       "      <td>-3.90%</td>\n",
       "      <td>8.00%</td>\n",
       "      <td>1.30%</td>\n",
       "      <td>4.60%</td>\n",
       "      <td>...</td>\n",
       "      <td>12.90%</td>\n",
       "      <td>3.80%</td>\n",
       "      <td>0.30%</td>\n",
       "      <td>7.20%</td>\n",
       "      <td>0.50%</td>\n",
       "      <td>2.60%</td>\n",
       "      <td>11.70%</td>\n",
       "      <td>7.50%</td>\n",
       "      <td>-0.40%</td>\n",
       "      <td>0.80%</td>\n",
       "    </tr>\n",
       "    <tr>\n",
       "      <th>...</th>\n",
       "      <td>...</td>\n",
       "      <td>...</td>\n",
       "      <td>...</td>\n",
       "      <td>...</td>\n",
       "      <td>...</td>\n",
       "      <td>...</td>\n",
       "      <td>...</td>\n",
       "      <td>...</td>\n",
       "      <td>...</td>\n",
       "      <td>...</td>\n",
       "      <td>...</td>\n",
       "      <td>...</td>\n",
       "      <td>...</td>\n",
       "      <td>...</td>\n",
       "      <td>...</td>\n",
       "      <td>...</td>\n",
       "      <td>...</td>\n",
       "      <td>...</td>\n",
       "      <td>...</td>\n",
       "      <td>...</td>\n",
       "      <td>...</td>\n",
       "    </tr>\n",
       "    <tr>\n",
       "      <th>2378</th>\n",
       "      <td>2379</td>\n",
       "      <td>Mobility</td>\n",
       "      <td>Mobility status - Place of residence 5 years ago</td>\n",
       "      <td>Census Profile 98-316-X2016001</td>\n",
       "      <td>Movers</td>\n",
       "      <td>1,040,015</td>\n",
       "      <td>8,610</td>\n",
       "      <td>8,775</td>\n",
       "      <td>3,130</td>\n",
       "      <td>14,735</td>\n",
       "      <td>...</td>\n",
       "      <td>8,070</td>\n",
       "      <td>7,020</td>\n",
       "      <td>19,235</td>\n",
       "      <td>3,920</td>\n",
       "      <td>2,710</td>\n",
       "      <td>4,700</td>\n",
       "      <td>5,450</td>\n",
       "      <td>6,195</td>\n",
       "      <td>11,400</td>\n",
       "      <td>4,290</td>\n",
       "    </tr>\n",
       "    <tr>\n",
       "      <th>2379</th>\n",
       "      <td>2380</td>\n",
       "      <td>Mobility</td>\n",
       "      <td>Mobility status - Place of residence 5 years ago</td>\n",
       "      <td>Census Profile 98-316-X2016001</td>\n",
       "      <td>Non-migrants</td>\n",
       "      <td>639,060</td>\n",
       "      <td>5,445</td>\n",
       "      <td>5,610</td>\n",
       "      <td>2,200</td>\n",
       "      <td>8,340</td>\n",
       "      <td>...</td>\n",
       "      <td>4,305</td>\n",
       "      <td>4,740</td>\n",
       "      <td>11,975</td>\n",
       "      <td>2,920</td>\n",
       "      <td>2,100</td>\n",
       "      <td>3,355</td>\n",
       "      <td>3,020</td>\n",
       "      <td>3,895</td>\n",
       "      <td>6,435</td>\n",
       "      <td>2,940</td>\n",
       "    </tr>\n",
       "    <tr>\n",
       "      <th>2380</th>\n",
       "      <td>2381</td>\n",
       "      <td>Mobility</td>\n",
       "      <td>Mobility status - Place of residence 5 years ago</td>\n",
       "      <td>Census Profile 98-316-X2016001</td>\n",
       "      <td>Migrants</td>\n",
       "      <td>400,950</td>\n",
       "      <td>3,170</td>\n",
       "      <td>3,145</td>\n",
       "      <td>925</td>\n",
       "      <td>6,390</td>\n",
       "      <td>...</td>\n",
       "      <td>3,765</td>\n",
       "      <td>2,270</td>\n",
       "      <td>7,260</td>\n",
       "      <td>985</td>\n",
       "      <td>620</td>\n",
       "      <td>1,350</td>\n",
       "      <td>2,425</td>\n",
       "      <td>2,310</td>\n",
       "      <td>4,965</td>\n",
       "      <td>1,345</td>\n",
       "    </tr>\n",
       "    <tr>\n",
       "      <th>2381</th>\n",
       "      <td>2382</td>\n",
       "      <td>Mobility</td>\n",
       "      <td>Mobility status - Place of residence 5 years ago</td>\n",
       "      <td>Census Profile 98-316-X2016001</td>\n",
       "      <td>Interprovincial migrants</td>\n",
       "      <td>42,985</td>\n",
       "      <td>135</td>\n",
       "      <td>220</td>\n",
       "      <td>70</td>\n",
       "      <td>1,310</td>\n",
       "      <td>...</td>\n",
       "      <td>475</td>\n",
       "      <td>150</td>\n",
       "      <td>335</td>\n",
       "      <td>250</td>\n",
       "      <td>85</td>\n",
       "      <td>210</td>\n",
       "      <td>290</td>\n",
       "      <td>325</td>\n",
       "      <td>195</td>\n",
       "      <td>135</td>\n",
       "    </tr>\n",
       "    <tr>\n",
       "      <th>2382</th>\n",
       "      <td>2383</td>\n",
       "      <td>Mobility</td>\n",
       "      <td>Mobility status - Place of residence 5 years ago</td>\n",
       "      <td>Census Profile 98-316-X2016001</td>\n",
       "      <td>External migrants</td>\n",
       "      <td>216,835</td>\n",
       "      <td>2,280</td>\n",
       "      <td>2,170</td>\n",
       "      <td>245</td>\n",
       "      <td>2,460</td>\n",
       "      <td>...</td>\n",
       "      <td>2,220</td>\n",
       "      <td>1,175</td>\n",
       "      <td>5,540</td>\n",
       "      <td>395</td>\n",
       "      <td>220</td>\n",
       "      <td>575</td>\n",
       "      <td>1,160</td>\n",
       "      <td>955</td>\n",
       "      <td>3,285</td>\n",
       "      <td>775</td>\n",
       "    </tr>\n",
       "  </tbody>\n",
       "</table>\n",
       "<p>2383 rows × 146 columns</p>\n",
       "</div>"
      ],
      "text/plain": [
       "       _id                   Category  \\\n",
       "0        1  Neighbourhood Information   \n",
       "1        2  Neighbourhood Information   \n",
       "2        3                 Population   \n",
       "3        4                 Population   \n",
       "4        5                 Population   \n",
       "...    ...                        ...   \n",
       "2378  2379                   Mobility   \n",
       "2379  2380                   Mobility   \n",
       "2380  2381                   Mobility   \n",
       "2381  2382                   Mobility   \n",
       "2382  2383                   Mobility   \n",
       "\n",
       "                                                 Topic  \\\n",
       "0                            Neighbourhood Information   \n",
       "1                            Neighbourhood Information   \n",
       "2                             Population and dwellings   \n",
       "3                             Population and dwellings   \n",
       "4                             Population and dwellings   \n",
       "...                                                ...   \n",
       "2378  Mobility status - Place of residence 5 years ago   \n",
       "2379  Mobility status - Place of residence 5 years ago   \n",
       "2380  Mobility status - Place of residence 5 years ago   \n",
       "2381  Mobility status - Place of residence 5 years ago   \n",
       "2382  Mobility status - Place of residence 5 years ago   \n",
       "\n",
       "                         Data Source                    Characteristic  \\\n",
       "0                    City of Toronto              Neighbourhood Number   \n",
       "1                    City of Toronto              TSNS2020 Designation   \n",
       "2     Census Profile 98-316-X2016001                  Population, 2016   \n",
       "3     Census Profile 98-316-X2016001                  Population, 2011   \n",
       "4     Census Profile 98-316-X2016001       Population Change 2011-2016   \n",
       "...                              ...                               ...   \n",
       "2378  Census Profile 98-316-X2016001                            Movers   \n",
       "2379  Census Profile 98-316-X2016001                      Non-migrants   \n",
       "2380  Census Profile 98-316-X2016001                          Migrants   \n",
       "2381  Census Profile 98-316-X2016001          Interprovincial migrants   \n",
       "2382  Census Profile 98-316-X2016001                 External migrants   \n",
       "\n",
       "     City of Toronto Agincourt North Agincourt South-Malvern West  \\\n",
       "0                NaN             129                          128   \n",
       "1                NaN  No Designation               No Designation   \n",
       "2          2,731,571          29,113                       23,757   \n",
       "3          2,615,060          30,279                       21,988   \n",
       "4              4.50%          -3.90%                        8.00%   \n",
       "...              ...             ...                          ...   \n",
       "2378       1,040,015           8,610                        8,775   \n",
       "2379         639,060           5,445                        5,610   \n",
       "2380         400,950           3,170                        3,145   \n",
       "2381          42,985             135                          220   \n",
       "2382         216,835           2,280                        2,170   \n",
       "\n",
       "           Alderwood           Annex  ... Willowdale West  \\\n",
       "0                 20              95  ...              37   \n",
       "1     No Designation  No Designation  ...  No Designation   \n",
       "2             12,054          30,526  ...          16,936   \n",
       "3             11,904          29,177  ...          15,004   \n",
       "4              1.30%           4.60%  ...          12.90%   \n",
       "...              ...             ...  ...             ...   \n",
       "2378           3,130          14,735  ...           8,070   \n",
       "2379           2,200           8,340  ...           4,305   \n",
       "2380             925           6,390  ...           3,765   \n",
       "2381              70           1,310  ...             475   \n",
       "2382             245           2,460  ...           2,220   \n",
       "\n",
       "     Willowridge-Martingrove-Richview  Woburn Woodbine Corridor  \\\n",
       "0                                   7     137                64   \n",
       "1                      No Designation     NIA    No Designation   \n",
       "2                              22,156  53,485            12,541   \n",
       "3                              21,343  53,350            11,703   \n",
       "4                               3.80%   0.30%             7.20%   \n",
       "...                               ...     ...               ...   \n",
       "2378                            7,020  19,235             3,920   \n",
       "2379                            4,740  11,975             2,920   \n",
       "2380                            2,270   7,260               985   \n",
       "2381                              150     335               250   \n",
       "2382                            1,175   5,540               395   \n",
       "\n",
       "     Woodbine-Lumsden        Wychwood  Yonge-Eglinton  Yonge-St.Clair  \\\n",
       "0                  60              94             100              97   \n",
       "1      No Designation  No Designation  No Designation  No Designation   \n",
       "2               7,865          14,349          11,817          12,528   \n",
       "3               7,826          13,986          10,578          11,652   \n",
       "4               0.50%           2.60%          11.70%           7.50%   \n",
       "...               ...             ...             ...             ...   \n",
       "2378            2,710           4,700           5,450           6,195   \n",
       "2379            2,100           3,355           3,020           3,895   \n",
       "2380              620           1,350           2,425           2,310   \n",
       "2381               85             210             290             325   \n",
       "2382              220             575           1,160             955   \n",
       "\n",
       "     York University Heights      Yorkdale-Glen Park  \n",
       "0                         27                      31  \n",
       "1                        NIA  Emerging Neighbourhood  \n",
       "2                     27,593                  14,804  \n",
       "3                     27,713                  14,687  \n",
       "4                     -0.40%                   0.80%  \n",
       "...                      ...                     ...  \n",
       "2378                  11,400                   4,290  \n",
       "2379                   6,435                   2,940  \n",
       "2380                   4,965                   1,345  \n",
       "2381                     195                     135  \n",
       "2382                   3,285                     775  \n",
       "\n",
       "[2383 rows x 146 columns]"
      ]
     },
     "execution_count": 15,
     "metadata": {},
     "output_type": "execute_result"
    }
   ],
   "source": [
    "df_pop = pd.read_csv('/kaggle/input/city-of-toronto-neighbourhood-profiles-2016/toronto_neighbourhood_profiles_2016.csv')\n",
    "df_pop"
   ]
  },
  {
   "cell_type": "code",
   "execution_count": 16,
   "id": "7af9aaaa",
   "metadata": {
    "execution": {
     "iopub.execute_input": "2022-06-28T01:41:47.874068Z",
     "iopub.status.busy": "2022-06-28T01:41:47.872806Z",
     "iopub.status.idle": "2022-06-28T01:41:48.318058Z",
     "shell.execute_reply": "2022-06-28T01:41:48.316268Z"
    },
    "papermill": {
     "duration": 0.469017,
     "end_time": "2022-06-28T01:41:48.321383",
     "exception": false,
     "start_time": "2022-06-28T01:41:47.852366",
     "status": "completed"
    },
    "tags": []
   },
   "outputs": [],
   "source": [
    "columns_renaming = {'Cabbagetown-South St. James Town': 'Cabbagetown-South St.James Town','L\\'Amoreaux':'LAmoreaux','North St. James Town':'North St.James Town','O\\'Connor-Parkview':'OConnor-Parkview', 'Tam O\\'Shanter-Sullivan':'Tam OShanter-Sullivan'}\n",
    "df_pop.rename(columns = columns_renaming, inplace = True)\n",
    "\n",
    "hoods = df_clean['Neighbourhood'].unique()\n",
    "df_pop[df_pop['Characteristic']=='Neighbourhood Number']\n",
    "\n",
    "list_hoods = df_pop[df_pop['Characteristic']=='Neighbourhood Number'].iloc[0,6:]\n",
    "\n",
    "hoods_pop = df_pop[df_pop['Characteristic']=='Population, 2016'].iloc[0,6:]\n",
    "\n",
    "pop_dict={}\n",
    "\n",
    "for i in range(len(hoods_pop)):\n",
    "    for j in range(len(hoods)):\n",
    "        if hoods_pop.keys()[i] in hoods[j]:\n",
    "            pop_dict[hoods[j]]=int(hoods_pop[i].replace(',',''))\n",
    "\n",
    "# List of years = 2014, 2016, 2017, 2018, 2019, 2020, 2021, 2015\n",
    "\n",
    "collisions_2014 = dict(df_clean[df_clean['Year']==2014].groupby('Neighbourhood').aggregate({'EventUniqueId':'count'})['EventUniqueId'])\n",
    "collisions_2015 = dict(df_clean[df_clean['Year']==2015].groupby('Neighbourhood').aggregate({'EventUniqueId':'count'})['EventUniqueId'])\n",
    "collisions_2016 = dict(df_clean[df_clean['Year']==2016].groupby('Neighbourhood').aggregate({'EventUniqueId':'count'})['EventUniqueId'])\n",
    "collisions_2017 = dict(df_clean[df_clean['Year']==2017].groupby('Neighbourhood').aggregate({'EventUniqueId':'count'})['EventUniqueId'])\n",
    "collisions_2018 = dict(df_clean[df_clean['Year']==2018].groupby('Neighbourhood').aggregate({'EventUniqueId':'count'})['EventUniqueId'])\n",
    "collisions_2019 = dict(df_clean[df_clean['Year']==2019].groupby('Neighbourhood').aggregate({'EventUniqueId':'count'})['EventUniqueId'])\n",
    "#df_clean.groupby('Neighbourhood').count()"
   ]
  },
  {
   "cell_type": "code",
   "execution_count": 17,
   "id": "8f4aae8a",
   "metadata": {
    "execution": {
     "iopub.execute_input": "2022-06-28T01:41:48.361954Z",
     "iopub.status.busy": "2022-06-28T01:41:48.361000Z",
     "iopub.status.idle": "2022-06-28T01:41:48.375532Z",
     "shell.execute_reply": "2022-06-28T01:41:48.373840Z"
    },
    "papermill": {
     "duration": 0.04102,
     "end_time": "2022-06-28T01:41:48.380033",
     "exception": false,
     "start_time": "2022-06-28T01:41:48.339013",
     "status": "completed"
    },
    "tags": []
   },
   "outputs": [],
   "source": [
    "#dict(collisions_2014['EventUniqueId'])\n",
    "# pop_dict contains population by neighbourhood\n",
    "full_data = {}\n",
    "\n",
    "for key in pop_dict.keys():\n",
    "    full_data[key] = []\n",
    "    full_data[key].append(pop_dict[key])\n",
    "    full_data[key].append(collisions_2014[key])\n",
    "    full_data[key].append(collisions_2015[key])\n",
    "    full_data[key].append(collisions_2016[key])\n",
    "    full_data[key].append(collisions_2017[key])\n",
    "    full_data[key].append(collisions_2018[key])\n",
    "    full_data[key].append(collisions_2019[key])\n",
    "\n",
    "new_col_names = ['population','collisions_2014','collisions_2015','collisions_2016','collisions_2017','collisions_2018','collisions_2019']\n",
    "\n",
    "pop_collisions = pd.DataFrame.from_dict(full_data, orient='index', columns=new_col_names)"
   ]
  },
  {
   "cell_type": "code",
   "execution_count": 18,
   "id": "69ce6fb6",
   "metadata": {
    "execution": {
     "iopub.execute_input": "2022-06-28T01:41:48.417299Z",
     "iopub.status.busy": "2022-06-28T01:41:48.416512Z",
     "iopub.status.idle": "2022-06-28T01:41:48.434132Z",
     "shell.execute_reply": "2022-06-28T01:41:48.432978Z"
    },
    "papermill": {
     "duration": 0.04059,
     "end_time": "2022-06-28T01:41:48.437583",
     "exception": false,
     "start_time": "2022-06-28T01:41:48.396993",
     "status": "completed"
    },
    "tags": []
   },
   "outputs": [
    {
     "data": {
      "text/html": [
       "<div>\n",
       "<style scoped>\n",
       "    .dataframe tbody tr th:only-of-type {\n",
       "        vertical-align: middle;\n",
       "    }\n",
       "\n",
       "    .dataframe tbody tr th {\n",
       "        vertical-align: top;\n",
       "    }\n",
       "\n",
       "    .dataframe thead th {\n",
       "        text-align: right;\n",
       "    }\n",
       "</style>\n",
       "<table border=\"1\" class=\"dataframe\">\n",
       "  <thead>\n",
       "    <tr style=\"text-align: right;\">\n",
       "      <th></th>\n",
       "      <th>population</th>\n",
       "      <th>collisions_2014</th>\n",
       "      <th>collisions_2015</th>\n",
       "      <th>collisions_2016</th>\n",
       "      <th>collisions_2017</th>\n",
       "      <th>collisions_2018</th>\n",
       "      <th>collisions_2019</th>\n",
       "    </tr>\n",
       "  </thead>\n",
       "  <tbody>\n",
       "    <tr>\n",
       "      <th>Agincourt North (129)</th>\n",
       "      <td>29113</td>\n",
       "      <td>483</td>\n",
       "      <td>548</td>\n",
       "      <td>514</td>\n",
       "      <td>545</td>\n",
       "      <td>567</td>\n",
       "      <td>571</td>\n",
       "    </tr>\n",
       "    <tr>\n",
       "      <th>Agincourt South-Malvern West (128)</th>\n",
       "      <td>43794</td>\n",
       "      <td>830</td>\n",
       "      <td>929</td>\n",
       "      <td>908</td>\n",
       "      <td>943</td>\n",
       "      <td>913</td>\n",
       "      <td>958</td>\n",
       "    </tr>\n",
       "    <tr>\n",
       "      <th>Alderwood (20)</th>\n",
       "      <td>12054</td>\n",
       "      <td>130</td>\n",
       "      <td>161</td>\n",
       "      <td>189</td>\n",
       "      <td>161</td>\n",
       "      <td>204</td>\n",
       "      <td>175</td>\n",
       "    </tr>\n",
       "    <tr>\n",
       "      <th>Annex (95)</th>\n",
       "      <td>30526</td>\n",
       "      <td>938</td>\n",
       "      <td>903</td>\n",
       "      <td>1045</td>\n",
       "      <td>1000</td>\n",
       "      <td>1046</td>\n",
       "      <td>1045</td>\n",
       "    </tr>\n",
       "    <tr>\n",
       "      <th>Banbury-Don Mills (42)</th>\n",
       "      <td>27695</td>\n",
       "      <td>1017</td>\n",
       "      <td>1460</td>\n",
       "      <td>1301</td>\n",
       "      <td>1315</td>\n",
       "      <td>1101</td>\n",
       "      <td>1118</td>\n",
       "    </tr>\n",
       "    <tr>\n",
       "      <th>...</th>\n",
       "      <td>...</td>\n",
       "      <td>...</td>\n",
       "      <td>...</td>\n",
       "      <td>...</td>\n",
       "      <td>...</td>\n",
       "      <td>...</td>\n",
       "      <td>...</td>\n",
       "    </tr>\n",
       "    <tr>\n",
       "      <th>Woodbine-Lumsden (60)</th>\n",
       "      <td>7865</td>\n",
       "      <td>69</td>\n",
       "      <td>53</td>\n",
       "      <td>60</td>\n",
       "      <td>61</td>\n",
       "      <td>48</td>\n",
       "      <td>49</td>\n",
       "    </tr>\n",
       "    <tr>\n",
       "      <th>Wychwood (94)</th>\n",
       "      <td>14349</td>\n",
       "      <td>200</td>\n",
       "      <td>221</td>\n",
       "      <td>250</td>\n",
       "      <td>289</td>\n",
       "      <td>248</td>\n",
       "      <td>291</td>\n",
       "    </tr>\n",
       "    <tr>\n",
       "      <th>Yonge-Eglinton (100)</th>\n",
       "      <td>11817</td>\n",
       "      <td>354</td>\n",
       "      <td>372</td>\n",
       "      <td>431</td>\n",
       "      <td>398</td>\n",
       "      <td>386</td>\n",
       "      <td>373</td>\n",
       "    </tr>\n",
       "    <tr>\n",
       "      <th>Yonge-St.Clair (97)</th>\n",
       "      <td>12528</td>\n",
       "      <td>238</td>\n",
       "      <td>275</td>\n",
       "      <td>288</td>\n",
       "      <td>304</td>\n",
       "      <td>301</td>\n",
       "      <td>315</td>\n",
       "    </tr>\n",
       "    <tr>\n",
       "      <th>Yorkdale-Glen Park (31)</th>\n",
       "      <td>14804</td>\n",
       "      <td>943</td>\n",
       "      <td>952</td>\n",
       "      <td>1001</td>\n",
       "      <td>999</td>\n",
       "      <td>928</td>\n",
       "      <td>944</td>\n",
       "    </tr>\n",
       "  </tbody>\n",
       "</table>\n",
       "<p>140 rows × 7 columns</p>\n",
       "</div>"
      ],
      "text/plain": [
       "                                    population  collisions_2014  \\\n",
       "Agincourt North (129)                    29113              483   \n",
       "Agincourt South-Malvern West (128)       43794              830   \n",
       "Alderwood (20)                           12054              130   \n",
       "Annex (95)                               30526              938   \n",
       "Banbury-Don Mills (42)                   27695             1017   \n",
       "...                                        ...              ...   \n",
       "Woodbine-Lumsden (60)                     7865               69   \n",
       "Wychwood (94)                            14349              200   \n",
       "Yonge-Eglinton (100)                     11817              354   \n",
       "Yonge-St.Clair (97)                      12528              238   \n",
       "Yorkdale-Glen Park (31)                  14804              943   \n",
       "\n",
       "                                    collisions_2015  collisions_2016  \\\n",
       "Agincourt North (129)                           548              514   \n",
       "Agincourt South-Malvern West (128)              929              908   \n",
       "Alderwood (20)                                  161              189   \n",
       "Annex (95)                                      903             1045   \n",
       "Banbury-Don Mills (42)                         1460             1301   \n",
       "...                                             ...              ...   \n",
       "Woodbine-Lumsden (60)                            53               60   \n",
       "Wychwood (94)                                   221              250   \n",
       "Yonge-Eglinton (100)                            372              431   \n",
       "Yonge-St.Clair (97)                             275              288   \n",
       "Yorkdale-Glen Park (31)                         952             1001   \n",
       "\n",
       "                                    collisions_2017  collisions_2018  \\\n",
       "Agincourt North (129)                           545              567   \n",
       "Agincourt South-Malvern West (128)              943              913   \n",
       "Alderwood (20)                                  161              204   \n",
       "Annex (95)                                     1000             1046   \n",
       "Banbury-Don Mills (42)                         1315             1101   \n",
       "...                                             ...              ...   \n",
       "Woodbine-Lumsden (60)                            61               48   \n",
       "Wychwood (94)                                   289              248   \n",
       "Yonge-Eglinton (100)                            398              386   \n",
       "Yonge-St.Clair (97)                             304              301   \n",
       "Yorkdale-Glen Park (31)                         999              928   \n",
       "\n",
       "                                    collisions_2019  \n",
       "Agincourt North (129)                           571  \n",
       "Agincourt South-Malvern West (128)              958  \n",
       "Alderwood (20)                                  175  \n",
       "Annex (95)                                     1045  \n",
       "Banbury-Don Mills (42)                         1118  \n",
       "...                                             ...  \n",
       "Woodbine-Lumsden (60)                            49  \n",
       "Wychwood (94)                                   291  \n",
       "Yonge-Eglinton (100)                            373  \n",
       "Yonge-St.Clair (97)                             315  \n",
       "Yorkdale-Glen Park (31)                         944  \n",
       "\n",
       "[140 rows x 7 columns]"
      ]
     },
     "execution_count": 18,
     "metadata": {},
     "output_type": "execute_result"
    }
   ],
   "source": [
    "pop_collisions"
   ]
  },
  {
   "cell_type": "code",
   "execution_count": 19,
   "id": "c456c97e",
   "metadata": {
    "execution": {
     "iopub.execute_input": "2022-06-28T01:41:48.475261Z",
     "iopub.status.busy": "2022-06-28T01:41:48.474731Z",
     "iopub.status.idle": "2022-06-28T01:41:48.891121Z",
     "shell.execute_reply": "2022-06-28T01:41:48.889941Z"
    },
    "papermill": {
     "duration": 0.439405,
     "end_time": "2022-06-28T01:41:48.894043",
     "exception": false,
     "start_time": "2022-06-28T01:41:48.454638",
     "status": "completed"
    },
    "tags": []
   },
   "outputs": [
    {
     "data": {
      "text/plain": [
       "<function matplotlib.pyplot.show(close=None, block=None)>"
      ]
     },
     "execution_count": 19,
     "metadata": {},
     "output_type": "execute_result"
    },
    {
     "data": {
      "image/png": "[encoded data removed]",
      "text/plain": [
       "<Figure size 432x288 with 1 Axes>"
      ]
     },
     "metadata": {
      "needs_background": "light"
     },
     "output_type": "display_data"
    }
   ],
   "source": [
    "alpha = 0.3\n",
    "sns.scatterplot(x='population', y='collisions_2014', alpha=alpha, data=pop_collisions)\n",
    "sns.scatterplot(x='population', y='collisions_2015', alpha=alpha, data=pop_collisions)\n",
    "sns.scatterplot(x='population', y='collisions_2016', alpha=alpha, data=pop_collisions)\n",
    "sns.scatterplot(x='population', y='collisions_2017', alpha=alpha, data=pop_collisions)\n",
    "sns.scatterplot(x='population', y='collisions_2018', alpha=alpha, data=pop_collisions)\n",
    "sns.scatterplot(x='population', y='collisions_2019', alpha=alpha, data=pop_collisions)\n",
    "plt.show"
   ]
  },
  {
   "cell_type": "markdown",
   "id": "f7420807",
   "metadata": {
    "papermill": {
     "duration": 0.02109,
     "end_time": "2022-06-28T01:41:48.935259",
     "exception": false,
     "start_time": "2022-06-28T01:41:48.914169",
     "status": "completed"
    },
    "tags": []
   },
   "source": [
    "It looks that higher population leads to more traffic collisions, but let's try and validate it."
   ]
  },
  {
   "cell_type": "code",
   "execution_count": 20,
   "id": "dd74893b",
   "metadata": {
    "execution": {
     "iopub.execute_input": "2022-06-28T01:41:48.974873Z",
     "iopub.status.busy": "2022-06-28T01:41:48.973820Z",
     "iopub.status.idle": "2022-06-28T01:41:49.230734Z",
     "shell.execute_reply": "2022-06-28T01:41:49.229839Z"
    },
    "papermill": {
     "duration": 0.28172,
     "end_time": "2022-06-28T01:41:49.234487",
     "exception": false,
     "start_time": "2022-06-28T01:41:48.952767",
     "status": "completed"
    },
    "tags": []
   },
   "outputs": [
    {
     "data": {
      "text/plain": [
       "<AxesSubplot:xlabel='population', ylabel='collisions'>"
      ]
     },
     "execution_count": 20,
     "metadata": {},
     "output_type": "execute_result"
    },
    {
     "data": {
      "image/png": "[encoded data removed]",
      "text/plain": [
       "<Figure size 432x288 with 1 Axes>"
      ]
     },
     "metadata": {
      "needs_background": "light"
     },
     "output_type": "display_data"
    }
   ],
   "source": [
    "#We want to reshape the data in a particular way:    \n",
    "pop_collisions_reshaped = pd.DataFrame()\n",
    "\n",
    "for i in range(1,pop_collisions.shape[1]):\n",
    "    df_small = pop_collisions.iloc[:,[0,i]]\n",
    "    df_small.columns = ['population', 'collisions']\n",
    "    pop_collisions_reshaped = pd.concat([pop_collisions_reshaped, df_small])\n",
    "    \n",
    "pop_collisions_reshaped\n",
    "sns.scatterplot(x='population', y='collisions', alpha=alpha, data=pop_collisions_reshaped)"
   ]
  },
  {
   "cell_type": "code",
   "execution_count": 21,
   "id": "f86613f9",
   "metadata": {
    "execution": {
     "iopub.execute_input": "2022-06-28T01:41:49.277586Z",
     "iopub.status.busy": "2022-06-28T01:41:49.276858Z",
     "iopub.status.idle": "2022-06-28T01:41:49.288429Z",
     "shell.execute_reply": "2022-06-28T01:41:49.287144Z"
    },
    "papermill": {
     "duration": 0.035348,
     "end_time": "2022-06-28T01:41:49.290988",
     "exception": false,
     "start_time": "2022-06-28T01:41:49.255640",
     "status": "completed"
    },
    "tags": []
   },
   "outputs": [
    {
     "name": "stdout",
     "output_type": "stream",
     "text": [
      "Pearson correlation coefficient is  0.74  this is a sign of high correlation between population and traffic collisions\n"
     ]
    }
   ],
   "source": [
    "pearson_pop_col = np.corrcoef(pop_collisions_reshaped['population'],pop_collisions_reshaped['collisions'])[0,1]\n",
    "\n",
    "print(\"Pearson correlation coefficient is \",  round(pearson_pop_col,2), \" this is a sign of high correlation between population and traffic collisions\")"
   ]
  },
  {
   "cell_type": "code",
   "execution_count": 22,
   "id": "48b32d5d",
   "metadata": {
    "execution": {
     "iopub.execute_input": "2022-06-28T01:41:49.333598Z",
     "iopub.status.busy": "2022-06-28T01:41:49.332634Z",
     "iopub.status.idle": "2022-06-28T01:41:50.224128Z",
     "shell.execute_reply": "2022-06-28T01:41:50.221935Z"
    },
    "papermill": {
     "duration": 0.916741,
     "end_time": "2022-06-28T01:41:50.227337",
     "exception": false,
     "start_time": "2022-06-28T01:41:49.310596",
     "status": "completed"
    },
    "tags": []
   },
   "outputs": [
    {
     "name": "stderr",
     "output_type": "stream",
     "text": [
      "/opt/conda/lib/python3.7/site-packages/seaborn/_decorators.py:43: FutureWarning: Pass the following variables as keyword args: x, y. From version 0.12, the only valid positional argument will be `data`, and passing other arguments without an explicit keyword will result in an error or misinterpretation.\n",
      "  FutureWarning\n"
     ]
    },
    {
     "data": {
      "image/png": "[encoded data removed]",
      "text/plain": [
       "<Figure size 432x288 with 1 Axes>"
      ]
     },
     "metadata": {
      "needs_background": "light"
     },
     "output_type": "display_data"
    },
    {
     "name": "stdout",
     "output_type": "stream",
     "text": [
      "Intercept -59.22459507197448\n",
      "R^2 Score: 0.6440759926692072\n",
      "Mean Absolute Error : 159.61767992194493\n",
      "Mean Squared Error: 225.53801534577758 \n",
      " \n",
      "\n"
     ]
    }
   ],
   "source": [
    "#Let's try and build a simple linear regression model\n",
    "from sklearn.linear_model import LinearRegression\n",
    "from sklearn.metrics import mean_absolute_error,r2_score,mean_squared_error\n",
    "from sklearn.model_selection import train_test_split\n",
    "X = np.array(pop_collisions_reshaped['population']).reshape(-1, 1)\n",
    "Y = pop_collisions_reshaped['collisions']\n",
    "X_train, X_test, y_train, y_test = train_test_split(X, Y, test_size=0.4, random_state=101)\n",
    "model = LinearRegression()\n",
    "model.fit(X_train, y_train)\n",
    "\n",
    "y_pred = model.predict(X_test)\n",
    "\n",
    "sns.regplot(y_test,y_pred).set(title=\"Linear regression\")\n",
    "plt.show()\n",
    "print(\"Intercept\",model.intercept_)\n",
    "print(\"R^2 Score:\", r2_score(y_test, y_pred))\n",
    "print(\"Mean Absolute Error :\", mean_absolute_error(y_test,y_pred))\n",
    "print(\"Mean Squared Error:\",np.sqrt(mean_squared_error(y_test, y_pred)),\"\\n\",\"\\n\")\n",
    "\n",
    "# R-squared is pretty low (0.64), meaning that predictions don't work quite good on this data, with only 64% of accuracy\n",
    "# Let's extract more features from the hoods profiles"
   ]
  },
  {
   "cell_type": "code",
   "execution_count": 23,
   "id": "822b250f",
   "metadata": {
    "execution": {
     "iopub.execute_input": "2022-06-28T01:41:50.270111Z",
     "iopub.status.busy": "2022-06-28T01:41:50.269447Z",
     "iopub.status.idle": "2022-06-28T01:41:50.314009Z",
     "shell.execute_reply": "2022-06-28T01:41:50.312205Z"
    },
    "papermill": {
     "duration": 0.070713,
     "end_time": "2022-06-28T01:41:50.317921",
     "exception": false,
     "start_time": "2022-06-28T01:41:50.247208",
     "status": "completed"
    },
    "tags": []
   },
   "outputs": [
    {
     "name": "stdout",
     "output_type": "stream",
     "text": [
      "There are  1651  of population features in the dataset\n"
     ]
    }
   ],
   "source": [
    "# Let's see what characteristics we have in our df_pop dataframe:\n",
    "print(\"There are \", len(df_pop['Characteristic'].unique()), \" of population features in the dataset\")\n",
    "# There are too many features, we won't be able to explore all of them. Let's try using a few:\n",
    "\n",
    "features = ['Population density per square kilometre', 'Youth (15-24 years)', 'Working Age (25-54 years)', 'Pre-retirement (55-64 years)', \n",
    "            'Seniors (65+ years)', '  Non-immigrants', '  Immigrants', '  Car, truck, van - as a driver', '  Car, truck, van - as a passenger', \n",
    "            '  Public transit', '  Walked', '  Bicycle']\n",
    "\n",
    "pop_density = df_pop[df_pop['Characteristic']==features[0]].iloc[0,6:]\n",
    "youth_pop = df_pop[df_pop['Characteristic']==features[1]].iloc[0,6:]\n",
    "working_age_pop = df_pop[df_pop['Characteristic']==features[2]].iloc[0,6:]\n",
    "pre_retire_pop = df_pop[df_pop['Characteristic']==features[3]].iloc[0,6:]\n",
    "seniors_pop = df_pop[df_pop['Characteristic']==features[4]].iloc[0,6:]\n",
    "non_imm_pop = df_pop[df_pop['Characteristic']==features[5]].iloc[0,6:]\n",
    "imm_pop = df_pop[df_pop['Characteristic']==features[6]].iloc[0,6:]\n",
    "car_drive_commute = df_pop[df_pop['Characteristic']==features[7]].iloc[0,6:]\n",
    "car_pass_commute = df_pop[df_pop['Characteristic']==features[8]].iloc[0,6:]\n",
    "transit_commute = df_pop[df_pop['Characteristic']==features[9]].iloc[0,6:]\n",
    "walk_commute = df_pop[df_pop['Characteristic']==features[10]].iloc[0,6:]\n",
    "bicycle_commute = df_pop[df_pop['Characteristic']==features[11]].iloc[0,6:]"
   ]
  },
  {
   "cell_type": "code",
   "execution_count": 24,
   "id": "3147b53e",
   "metadata": {
    "execution": {
     "iopub.execute_input": "2022-06-28T01:41:50.360311Z",
     "iopub.status.busy": "2022-06-28T01:41:50.359491Z",
     "iopub.status.idle": "2022-06-28T01:41:50.402587Z",
     "shell.execute_reply": "2022-06-28T01:41:50.401767Z"
    },
    "papermill": {
     "duration": 0.066453,
     "end_time": "2022-06-28T01:41:50.404932",
     "exception": false,
     "start_time": "2022-06-28T01:41:50.338479",
     "status": "completed"
    },
    "tags": []
   },
   "outputs": [
    {
     "data": {
      "text/html": [
       "<div>\n",
       "<style scoped>\n",
       "    .dataframe tbody tr th:only-of-type {\n",
       "        vertical-align: middle;\n",
       "    }\n",
       "\n",
       "    .dataframe tbody tr th {\n",
       "        vertical-align: top;\n",
       "    }\n",
       "\n",
       "    .dataframe thead th {\n",
       "        text-align: right;\n",
       "    }\n",
       "</style>\n",
       "<table border=\"1\" class=\"dataframe\">\n",
       "  <thead>\n",
       "    <tr style=\"text-align: right;\">\n",
       "      <th></th>\n",
       "      <th>density</th>\n",
       "      <th>youth_pop</th>\n",
       "      <th>working_age_pop</th>\n",
       "      <th>pre_retire_pop</th>\n",
       "      <th>seniors_pop</th>\n",
       "      <th>non_imm_pop</th>\n",
       "      <th>imm_pop</th>\n",
       "      <th>driver_commute</th>\n",
       "      <th>car_pass_commute</th>\n",
       "      <th>transit_commute</th>\n",
       "      <th>walk_commute</th>\n",
       "      <th>bicycle_commute</th>\n",
       "    </tr>\n",
       "  </thead>\n",
       "  <tbody>\n",
       "    <tr>\n",
       "      <th>Agincourt North</th>\n",
       "      <td>3929</td>\n",
       "      <td>3705</td>\n",
       "      <td>11305</td>\n",
       "      <td>4230</td>\n",
       "      <td>6045</td>\n",
       "      <td>7895</td>\n",
       "      <td>19995</td>\n",
       "      <td>7155</td>\n",
       "      <td>930</td>\n",
       "      <td>3350</td>\n",
       "      <td>265</td>\n",
       "      <td>70</td>\n",
       "    </tr>\n",
       "    <tr>\n",
       "      <th>Agincourt South-Malvern West</th>\n",
       "      <td>3034</td>\n",
       "      <td>3360</td>\n",
       "      <td>9965</td>\n",
       "      <td>3265</td>\n",
       "      <td>4105</td>\n",
       "      <td>7190</td>\n",
       "      <td>15095</td>\n",
       "      <td>6135</td>\n",
       "      <td>665</td>\n",
       "      <td>2985</td>\n",
       "      <td>280</td>\n",
       "      <td>35</td>\n",
       "    </tr>\n",
       "    <tr>\n",
       "      <th>Alderwood</th>\n",
       "      <td>2435</td>\n",
       "      <td>1235</td>\n",
       "      <td>5220</td>\n",
       "      <td>1825</td>\n",
       "      <td>2015</td>\n",
       "      <td>7975</td>\n",
       "      <td>3970</td>\n",
       "      <td>4090</td>\n",
       "      <td>355</td>\n",
       "      <td>1285</td>\n",
       "      <td>195</td>\n",
       "      <td>65</td>\n",
       "    </tr>\n",
       "    <tr>\n",
       "      <th>Annex</th>\n",
       "      <td>10863</td>\n",
       "      <td>3750</td>\n",
       "      <td>15040</td>\n",
       "      <td>3480</td>\n",
       "      <td>5910</td>\n",
       "      <td>19030</td>\n",
       "      <td>8270</td>\n",
       "      <td>3290</td>\n",
       "      <td>290</td>\n",
       "      <td>6200</td>\n",
       "      <td>3200</td>\n",
       "      <td>1675</td>\n",
       "    </tr>\n",
       "    <tr>\n",
       "      <th>Banbury-Don Mills</th>\n",
       "      <td>2775</td>\n",
       "      <td>2730</td>\n",
       "      <td>10810</td>\n",
       "      <td>3555</td>\n",
       "      <td>6975</td>\n",
       "      <td>13310</td>\n",
       "      <td>13195</td>\n",
       "      <td>7150</td>\n",
       "      <td>500</td>\n",
       "      <td>2945</td>\n",
       "      <td>615</td>\n",
       "      <td>65</td>\n",
       "    </tr>\n",
       "    <tr>\n",
       "      <th>...</th>\n",
       "      <td>...</td>\n",
       "      <td>...</td>\n",
       "      <td>...</td>\n",
       "      <td>...</td>\n",
       "      <td>...</td>\n",
       "      <td>...</td>\n",
       "      <td>...</td>\n",
       "      <td>...</td>\n",
       "      <td>...</td>\n",
       "      <td>...</td>\n",
       "      <td>...</td>\n",
       "      <td>...</td>\n",
       "    </tr>\n",
       "    <tr>\n",
       "      <th>Wychwood</th>\n",
       "      <td>8541</td>\n",
       "      <td>1320</td>\n",
       "      <td>6420</td>\n",
       "      <td>1595</td>\n",
       "      <td>3150</td>\n",
       "      <td>8525</td>\n",
       "      <td>4345</td>\n",
       "      <td>2190</td>\n",
       "      <td>195</td>\n",
       "      <td>3005</td>\n",
       "      <td>525</td>\n",
       "      <td>610</td>\n",
       "    </tr>\n",
       "    <tr>\n",
       "      <th>Yonge-Eglinton</th>\n",
       "      <td>7162</td>\n",
       "      <td>1225</td>\n",
       "      <td>5860</td>\n",
       "      <td>1325</td>\n",
       "      <td>1600</td>\n",
       "      <td>8080</td>\n",
       "      <td>3180</td>\n",
       "      <td>1970</td>\n",
       "      <td>155</td>\n",
       "      <td>2935</td>\n",
       "      <td>635</td>\n",
       "      <td>145</td>\n",
       "    </tr>\n",
       "    <tr>\n",
       "      <th>Yonge-St.Clair</th>\n",
       "      <td>10708</td>\n",
       "      <td>920</td>\n",
       "      <td>5960</td>\n",
       "      <td>1540</td>\n",
       "      <td>2905</td>\n",
       "      <td>8325</td>\n",
       "      <td>3580</td>\n",
       "      <td>2050</td>\n",
       "      <td>155</td>\n",
       "      <td>3170</td>\n",
       "      <td>715</td>\n",
       "      <td>155</td>\n",
       "    </tr>\n",
       "    <tr>\n",
       "      <th>York University Heights</th>\n",
       "      <td>2086</td>\n",
       "      <td>4750</td>\n",
       "      <td>12290</td>\n",
       "      <td>2965</td>\n",
       "      <td>3530</td>\n",
       "      <td>10295</td>\n",
       "      <td>15595</td>\n",
       "      <td>5945</td>\n",
       "      <td>665</td>\n",
       "      <td>5405</td>\n",
       "      <td>585</td>\n",
       "      <td>115</td>\n",
       "    </tr>\n",
       "    <tr>\n",
       "      <th>Yorkdale-Glen Park</th>\n",
       "      <td>2451</td>\n",
       "      <td>1870</td>\n",
       "      <td>5860</td>\n",
       "      <td>1810</td>\n",
       "      <td>3295</td>\n",
       "      <td>6380</td>\n",
       "      <td>7265</td>\n",
       "      <td>3205</td>\n",
       "      <td>355</td>\n",
       "      <td>2400</td>\n",
       "      <td>360</td>\n",
       "      <td>30</td>\n",
       "    </tr>\n",
       "  </tbody>\n",
       "</table>\n",
       "<p>140 rows × 12 columns</p>\n",
       "</div>"
      ],
      "text/plain": [
       "                              density  youth_pop  working_age_pop  \\\n",
       "Agincourt North                  3929       3705            11305   \n",
       "Agincourt South-Malvern West     3034       3360             9965   \n",
       "Alderwood                        2435       1235             5220   \n",
       "Annex                           10863       3750            15040   \n",
       "Banbury-Don Mills                2775       2730            10810   \n",
       "...                               ...        ...              ...   \n",
       "Wychwood                         8541       1320             6420   \n",
       "Yonge-Eglinton                   7162       1225             5860   \n",
       "Yonge-St.Clair                  10708        920             5960   \n",
       "York University Heights          2086       4750            12290   \n",
       "Yorkdale-Glen Park               2451       1870             5860   \n",
       "\n",
       "                              pre_retire_pop  seniors_pop  non_imm_pop  \\\n",
       "Agincourt North                         4230         6045         7895   \n",
       "Agincourt South-Malvern West            3265         4105         7190   \n",
       "Alderwood                               1825         2015         7975   \n",
       "Annex                                   3480         5910        19030   \n",
       "Banbury-Don Mills                       3555         6975        13310   \n",
       "...                                      ...          ...          ...   \n",
       "Wychwood                                1595         3150         8525   \n",
       "Yonge-Eglinton                          1325         1600         8080   \n",
       "Yonge-St.Clair                          1540         2905         8325   \n",
       "York University Heights                 2965         3530        10295   \n",
       "Yorkdale-Glen Park                      1810         3295         6380   \n",
       "\n",
       "                              imm_pop  driver_commute  car_pass_commute  \\\n",
       "Agincourt North                 19995            7155               930   \n",
       "Agincourt South-Malvern West    15095            6135               665   \n",
       "Alderwood                        3970            4090               355   \n",
       "Annex                            8270            3290               290   \n",
       "Banbury-Don Mills               13195            7150               500   \n",
       "...                               ...             ...               ...   \n",
       "Wychwood                         4345            2190               195   \n",
       "Yonge-Eglinton                   3180            1970               155   \n",
       "Yonge-St.Clair                   3580            2050               155   \n",
       "York University Heights         15595            5945               665   \n",
       "Yorkdale-Glen Park               7265            3205               355   \n",
       "\n",
       "                              transit_commute  walk_commute  bicycle_commute  \n",
       "Agincourt North                          3350           265               70  \n",
       "Agincourt South-Malvern West             2985           280               35  \n",
       "Alderwood                                1285           195               65  \n",
       "Annex                                    6200          3200             1675  \n",
       "Banbury-Don Mills                        2945           615               65  \n",
       "...                                       ...           ...              ...  \n",
       "Wychwood                                 3005           525              610  \n",
       "Yonge-Eglinton                           2935           635              145  \n",
       "Yonge-St.Clair                           3170           715              155  \n",
       "York University Heights                  5405           585              115  \n",
       "Yorkdale-Glen Park                       2400           360               30  \n",
       "\n",
       "[140 rows x 12 columns]"
      ]
     },
     "execution_count": 24,
     "metadata": {},
     "output_type": "execute_result"
    }
   ],
   "source": [
    "series_list = [pop_density, youth_pop, working_age_pop, pre_retire_pop, seniors_pop, non_imm_pop, imm_pop, car_drive_commute, car_pass_commute, transit_commute, walk_commute, bicycle_commute]\n",
    "series_names = ['density', 'youth_pop','working_age_pop','pre_retire_pop','seniors_pop','non_imm_pop','imm_pop',\"driver_commute\", 'car_pass_commute', 'transit_commute','walk_commute', 'bicycle_commute']\n",
    "\n",
    "full_features = pd.concat(series_list, axis=1, keys=series_names)\n",
    "\n",
    "for name in series_names:\n",
    "    full_features[name] = full_features[name].replace(',', '',regex=True).astype(int)\n",
    "\n",
    "full_features"
   ]
  },
  {
   "cell_type": "code",
   "execution_count": 25,
   "id": "ca620a77",
   "metadata": {
    "execution": {
     "iopub.execute_input": "2022-06-28T01:41:50.444181Z",
     "iopub.status.busy": "2022-06-28T01:41:50.443719Z",
     "iopub.status.idle": "2022-06-28T01:41:50.452016Z",
     "shell.execute_reply": "2022-06-28T01:41:50.450717Z"
    },
    "papermill": {
     "duration": 0.030586,
     "end_time": "2022-06-28T01:41:50.454481",
     "exception": false,
     "start_time": "2022-06-28T01:41:50.423895",
     "status": "completed"
    },
    "tags": []
   },
   "outputs": [],
   "source": [
    "index_dict_renaming = {}\n",
    "for i in range(len(full_features.index)):\n",
    "    index_dict_renaming[full_features.index[i]]=pop_collisions.index[i]\n",
    "\n",
    "\n",
    "full_features.rename(index=index_dict_renaming, inplace=True)\n"
   ]
  },
  {
   "cell_type": "code",
   "execution_count": 26,
   "id": "809c6051",
   "metadata": {
    "execution": {
     "iopub.execute_input": "2022-06-28T01:41:50.496873Z",
     "iopub.status.busy": "2022-06-28T01:41:50.495981Z",
     "iopub.status.idle": "2022-06-28T01:41:50.503612Z",
     "shell.execute_reply": "2022-06-28T01:41:50.502674Z"
    },
    "papermill": {
     "duration": 0.031297,
     "end_time": "2022-06-28T01:41:50.506258",
     "exception": false,
     "start_time": "2022-06-28T01:41:50.474961",
     "status": "completed"
    },
    "tags": []
   },
   "outputs": [],
   "source": [
    "#pd.concat([pop_collisions,full_features], axis=1)\n",
    "\n",
    "full_features['population'] = pop_collisions['population']\n",
    "full_features['collisions'] = pop_collisions['collisions_2016']"
   ]
  },
  {
   "cell_type": "code",
   "execution_count": 27,
   "id": "e1fac49f",
   "metadata": {
    "execution": {
     "iopub.execute_input": "2022-06-28T01:41:50.546981Z",
     "iopub.status.busy": "2022-06-28T01:41:50.546194Z",
     "iopub.status.idle": "2022-06-28T01:41:51.289108Z",
     "shell.execute_reply": "2022-06-28T01:41:51.287621Z"
    },
    "papermill": {
     "duration": 0.766293,
     "end_time": "2022-06-28T01:41:51.292118",
     "exception": false,
     "start_time": "2022-06-28T01:41:50.525825",
     "status": "completed"
    },
    "tags": []
   },
   "outputs": [
    {
     "data": {
      "image/png": "[encoded data removed]",
      "text/plain": [
       "<Figure size 432x288 with 2 Axes>"
      ]
     },
     "metadata": {
      "needs_background": "light"
     },
     "output_type": "display_data"
    }
   ],
   "source": [
    "sns.heatmap(full_features.corr(),lw=1)\n",
    "plt.show()"
   ]
  },
  {
   "cell_type": "code",
   "execution_count": 28,
   "id": "707e2143",
   "metadata": {
    "execution": {
     "iopub.execute_input": "2022-06-28T01:41:51.338348Z",
     "iopub.status.busy": "2022-06-28T01:41:51.337898Z",
     "iopub.status.idle": "2022-06-28T01:41:51.351784Z",
     "shell.execute_reply": "2022-06-28T01:41:51.350533Z"
    },
    "papermill": {
     "duration": 0.040012,
     "end_time": "2022-06-28T01:41:51.354582",
     "exception": false,
     "start_time": "2022-06-28T01:41:51.314570",
     "status": "completed"
    },
    "tags": []
   },
   "outputs": [
    {
     "data": {
      "text/plain": [
       "density            -0.019822\n",
       "youth_pop           0.247095\n",
       "working_age_pop     0.229286\n",
       "pre_retire_pop      0.216380\n",
       "seniors_pop         0.201115\n",
       "non_imm_pop         0.200153\n",
       "imm_pop             0.173766\n",
       "driver_commute      0.185583\n",
       "car_pass_commute    0.114236\n",
       "transit_commute     0.224777\n",
       "walk_commute        0.087959\n",
       "bicycle_commute     0.138642\n",
       "population          0.747305\n",
       "collisions          1.000000\n",
       "Name: collisions, dtype: float64"
      ]
     },
     "execution_count": 28,
     "metadata": {},
     "output_type": "execute_result"
    }
   ],
   "source": [
    "full_features.corr()['collisions']"
   ]
  },
  {
   "cell_type": "code",
   "execution_count": 29,
   "id": "3929e3ac",
   "metadata": {
    "execution": {
     "iopub.execute_input": "2022-06-28T01:41:51.398261Z",
     "iopub.status.busy": "2022-06-28T01:41:51.397503Z",
     "iopub.status.idle": "2022-06-28T01:41:54.236780Z",
     "shell.execute_reply": "2022-06-28T01:41:54.235169Z"
    },
    "papermill": {
     "duration": 2.865617,
     "end_time": "2022-06-28T01:41:54.240601",
     "exception": false,
     "start_time": "2022-06-28T01:41:51.374984",
     "status": "completed"
    },
    "tags": []
   },
   "outputs": [
    {
     "data": {
      "image/png": "[encoded data removed]",
      "text/plain": [
       "<Figure size 432x288 with 1 Axes>"
      ]
     },
     "metadata": {
      "needs_background": "light"
     },
     "output_type": "display_data"
    },
    {
     "data": {
      "image/png": "[encoded data removed]",
      "text/plain": [
       "<Figure size 432x288 with 1 Axes>"
      ]
     },
     "metadata": {
      "needs_background": "light"
     },
     "output_type": "display_data"
    },
    {
     "data": {
      "image/png": "[encoded data removed]",
      "text/plain": [
       "<Figure size 432x288 with 1 Axes>"
      ]
     },
     "metadata": {
      "needs_background": "light"
     },
     "output_type": "display_data"
    },
    {
     "data": {
      "image/png": "[encoded data removed]",
      "text/plain": [
       "<Figure size 432x288 with 1 Axes>"
      ]
     },
     "metadata": {
      "needs_background": "light"
     },
     "output_type": "display_data"
    },
    {
     "data": {
      "image/png": "[encoded data removed]",
      "text/plain": [
       "<Figure size 432x288 with 1 Axes>"
      ]
     },
     "metadata": {
      "needs_background": "light"
     },
     "output_type": "display_data"
    },
    {
     "data": {
      "image/png": "[encoded data removed]",
      "text/plain": [
       "<Figure size 432x288 with 1 Axes>"
      ]
     },
     "metadata": {
      "needs_background": "light"
     },
     "output_type": "display_data"
    },
    {
     "data": {
      "image/png": "[encoded data removed]",
      "text/plain": [
       "<Figure size 432x288 with 1 Axes>"
      ]
     },
     "metadata": {
      "needs_background": "light"
     },
     "output_type": "display_data"
    },
    {
     "data": {
      "image/png": "[encoded data removed]",
      "text/plain": [
       "<Figure size 432x288 with 1 Axes>"
      ]
     },
     "metadata": {
      "needs_background": "light"
     },
     "output_type": "display_data"
    },
    {
     "data": {
      "image/png": "[encoded data removed]",
      "text/plain": [
       "<Figure size 432x288 with 1 Axes>"
      ]
     },
     "metadata": {
      "needs_background": "light"
     },
     "output_type": "display_data"
    },
    {
     "data": {
      "image/png": "[encoded data removed]",
      "text/plain": [
       "<Figure size 432x288 with 1 Axes>"
      ]
     },
     "metadata": {
      "needs_background": "light"
     },
     "output_type": "display_data"
    },
    {
     "data": {
      "image/png": "[encoded data removed]",
      "text/plain": [
       "<Figure size 432x288 with 1 Axes>"
      ]
     },
     "metadata": {
      "needs_background": "light"
     },
     "output_type": "display_data"
    },
    {
     "data": {
      "image/png": "[encoded data removed]",
      "text/plain": [
       "<Figure size 432x288 with 1 Axes>"
      ]
     },
     "metadata": {
      "needs_background": "light"
     },
     "output_type": "display_data"
    },
    {
     "data": {
      "image/png": "[encoded data removed]",
      "text/plain": [
       "<Figure size 432x288 with 1 Axes>"
      ]
     },
     "metadata": {
      "needs_background": "light"
     },
     "output_type": "display_data"
    },
    {
     "data": {
      "image/png": "[encoded data removed]",
      "text/plain": [
       "<Figure size 432x288 with 1 Axes>"
      ]
     },
     "metadata": {
      "needs_background": "light"
     },
     "output_type": "display_data"
    }
   ],
   "source": [
    "for name in full_features.columns:\n",
    "    sns.scatterplot(x=name, y='collisions', data=full_features)\n",
    "    plt.show()"
   ]
  }
 ],
 "metadata": {
  "kernelspec": {
   "display_name": "Python 3",
   "language": "python",
   "name": "python3"
  },
  "language_info": {
   "codemirror_mode": {
    "name": "ipython",
    "version": 3
   },
   "file_extension": ".py",
   "mimetype": "text/x-python",
   "name": "python",
   "nbconvert_exporter": "python",
   "pygments_lexer": "ipython3",
   "version": "3.7.12"
  },
  "papermill": {
   "default_parameters": {},
   "duration": 42.707989,
   "end_time": "2022-06-28T01:41:55.602157",
   "environment_variables": {},
   "exception": null,
   "input_path": "__notebook__.ipynb",
   "output_path": "__notebook__.ipynb",
   "parameters": {},
   "start_time": "2022-06-28T01:41:12.894168",
   "version": "2.3.4"
  }
 },
 "nbformat": 4,
 "nbformat_minor": 5
}
