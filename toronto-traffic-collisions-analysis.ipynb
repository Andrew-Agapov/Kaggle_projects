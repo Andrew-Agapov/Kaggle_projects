{
 "cells": [
  {
   "cell_type": "code",
   "execution_count": 1,
   "id": "18abbf54",
   "metadata": {
    "_cell_guid": "ab909f14-78a4-4b19-855e-b7ca5b7a8345",
    "_uuid": "0747ac91-d59c-49d3-a739-9aae49dafde2",
    "collapsed": false,
    "execution": {
     "iopub.execute_input": "2022-06-19T17:53:20.857280Z",
     "iopub.status.busy": "2022-06-19T17:53:20.856391Z",
     "iopub.status.idle": "2022-06-19T17:53:23.850326Z",
     "shell.execute_reply": "2022-06-19T17:53:23.848926Z"
    },
    "jupyter": {
     "outputs_hidden": false
    },
    "papermill": {
     "duration": 3.004698,
     "end_time": "2022-06-19T17:53:23.853739",
     "exception": false,
     "start_time": "2022-06-19T17:53:20.849041",
     "status": "completed"
    },
    "tags": []
   },
   "outputs": [
    {
     "name": "stdout",
     "output_type": "stream",
     "text": [
      "/kaggle/input/traffic-collisions-toronto/Traffic_Collisions_Toronto_data.csv\n"
     ]
    }
   ],
   "source": [
    "# This Python 3 environment comes with many helpful analytics libraries installed\n",
    "# It is defined by the kaggle/python Docker image: https://github.com/kaggle/docker-python\n",
    "# For example, here's several helpful packages to load\n",
    "\n",
    "import numpy as np # linear algebra\n",
    "import pandas as pd # data processing, CSV file I/O (e.g. pd.read_csv)\n",
    "\n",
    "# Input data files are available in the read-only \"../input/\" directory\n",
    "# For example, running this (by clicking run or pressing Shift+Enter) will list all files under the input directory\n",
    "\n",
    "import os\n",
    "for dirname, _, filenames in os.walk('/kaggle/input'):\n",
    "    for filename in filenames:\n",
    "        print(os.path.join(dirname, filename))\n",
    "\n",
    "# You can write up to 20GB to the current directory (/kaggle/working/) that gets preserved as output when you create a version using \"Save & Run All\" \n",
    "# You can also write temporary files to /kaggle/temp/, but they won't be saved outside of the current session\n",
    "\n",
    "df = pd.read_csv('/kaggle/input/traffic-collisions-toronto/Traffic_Collisions_Toronto_data.csv')"
   ]
  },
  {
   "cell_type": "markdown",
   "id": "eb8cc390",
   "metadata": {
    "_cell_guid": "9626df61-fe16-49fa-b6fc-baab4c4e0eb2",
    "_uuid": "6cd929aa-0626-47b2-846d-3b5e9c8b21b2",
    "papermill": {
     "duration": 0.003971,
     "end_time": "2022-06-19T17:53:23.862595",
     "exception": false,
     "start_time": "2022-06-19T17:53:23.858624",
     "status": "completed"
    },
    "tags": []
   },
   "source": [
    "**PART 1. CLEANING AND PREPARING THE DATASET**"
   ]
  },
  {
   "cell_type": "code",
   "execution_count": 2,
   "id": "b4ab7569",
   "metadata": {
    "_cell_guid": "6fcab45b-9d1b-4f4d-a514-7051a13ad0aa",
    "_uuid": "49c5ae2c-8594-47b3-abc9-f8579340fb48",
    "collapsed": false,
    "execution": {
     "iopub.execute_input": "2022-06-19T17:53:23.876338Z",
     "iopub.status.busy": "2022-06-19T17:53:23.875552Z",
     "iopub.status.idle": "2022-06-19T17:53:23.914503Z",
     "shell.execute_reply": "2022-06-19T17:53:23.913084Z"
    },
    "jupyter": {
     "outputs_hidden": false
    },
    "papermill": {
     "duration": 0.049745,
     "end_time": "2022-06-19T17:53:23.917800",
     "exception": false,
     "start_time": "2022-06-19T17:53:23.868055",
     "status": "completed"
    },
    "tags": []
   },
   "outputs": [
    {
     "data": {
      "text/html": [
       "<div>\n",
       "<style scoped>\n",
       "    .dataframe tbody tr th:only-of-type {\n",
       "        vertical-align: middle;\n",
       "    }\n",
       "\n",
       "    .dataframe tbody tr th {\n",
       "        vertical-align: top;\n",
       "    }\n",
       "\n",
       "    .dataframe thead th {\n",
       "        text-align: right;\n",
       "    }\n",
       "</style>\n",
       "<table border=\"1\" class=\"dataframe\">\n",
       "  <thead>\n",
       "    <tr style=\"text-align: right;\">\n",
       "      <th></th>\n",
       "      <th>X</th>\n",
       "      <th>Y</th>\n",
       "      <th>OBJECTID</th>\n",
       "      <th>EventUniqueId</th>\n",
       "      <th>OccurrenceDate</th>\n",
       "      <th>Month</th>\n",
       "      <th>Day_of_Week</th>\n",
       "      <th>Year</th>\n",
       "      <th>Hour</th>\n",
       "      <th>Division</th>\n",
       "      <th>Atom</th>\n",
       "      <th>Neighbourhood</th>\n",
       "      <th>Fatalities</th>\n",
       "      <th>Injury_Collisions</th>\n",
       "      <th>FTR_Collisions</th>\n",
       "      <th>PD_Collisions</th>\n",
       "      <th>Longitude</th>\n",
       "      <th>Latitude</th>\n",
       "      <th>ObjectId2</th>\n",
       "    </tr>\n",
       "  </thead>\n",
       "  <tbody>\n",
       "    <tr>\n",
       "      <th>0</th>\n",
       "      <td>0.0</td>\n",
       "      <td>0.0</td>\n",
       "      <td>1</td>\n",
       "      <td>GO-20141001</td>\n",
       "      <td>2014/02/07 05:00:00+00</td>\n",
       "      <td>February</td>\n",
       "      <td>Friday</td>\n",
       "      <td>2014</td>\n",
       "      <td>16</td>\n",
       "      <td>NSA</td>\n",
       "      <td>NSA</td>\n",
       "      <td>NSA</td>\n",
       "      <td>0</td>\n",
       "      <td>NO</td>\n",
       "      <td>NO</td>\n",
       "      <td>YES</td>\n",
       "      <td>0.0</td>\n",
       "      <td>0.0</td>\n",
       "      <td>1</td>\n",
       "    </tr>\n",
       "    <tr>\n",
       "      <th>1</th>\n",
       "      <td>0.0</td>\n",
       "      <td>0.0</td>\n",
       "      <td>2</td>\n",
       "      <td>GO-20141225593</td>\n",
       "      <td>2014/01/02 05:00:00+00</td>\n",
       "      <td>January</td>\n",
       "      <td>Thursday</td>\n",
       "      <td>2014</td>\n",
       "      <td>3</td>\n",
       "      <td>NSA</td>\n",
       "      <td>NSA</td>\n",
       "      <td>NSA</td>\n",
       "      <td>0</td>\n",
       "      <td>NO</td>\n",
       "      <td>YES</td>\n",
       "      <td>NO</td>\n",
       "      <td>0.0</td>\n",
       "      <td>0.0</td>\n",
       "      <td>2</td>\n",
       "    </tr>\n",
       "    <tr>\n",
       "      <th>2</th>\n",
       "      <td>0.0</td>\n",
       "      <td>0.0</td>\n",
       "      <td>3</td>\n",
       "      <td>GO-20141260499</td>\n",
       "      <td>2014/01/01 05:00:00+00</td>\n",
       "      <td>January</td>\n",
       "      <td>Wednesday</td>\n",
       "      <td>2014</td>\n",
       "      <td>2</td>\n",
       "      <td>NSA</td>\n",
       "      <td>NSA</td>\n",
       "      <td>NSA</td>\n",
       "      <td>0</td>\n",
       "      <td>YES</td>\n",
       "      <td>NO</td>\n",
       "      <td>NO</td>\n",
       "      <td>0.0</td>\n",
       "      <td>0.0</td>\n",
       "      <td>3</td>\n",
       "    </tr>\n",
       "    <tr>\n",
       "      <th>3</th>\n",
       "      <td>0.0</td>\n",
       "      <td>0.0</td>\n",
       "      <td>4</td>\n",
       "      <td>GO-20141260663</td>\n",
       "      <td>2014/01/01 05:00:00+00</td>\n",
       "      <td>January</td>\n",
       "      <td>Wednesday</td>\n",
       "      <td>2014</td>\n",
       "      <td>3</td>\n",
       "      <td>NSA</td>\n",
       "      <td>NSA</td>\n",
       "      <td>NSA</td>\n",
       "      <td>0</td>\n",
       "      <td>NO</td>\n",
       "      <td>NO</td>\n",
       "      <td>YES</td>\n",
       "      <td>0.0</td>\n",
       "      <td>0.0</td>\n",
       "      <td>4</td>\n",
       "    </tr>\n",
       "    <tr>\n",
       "      <th>4</th>\n",
       "      <td>0.0</td>\n",
       "      <td>0.0</td>\n",
       "      <td>5</td>\n",
       "      <td>GO-20141261162</td>\n",
       "      <td>2014/01/01 05:00:00+00</td>\n",
       "      <td>January</td>\n",
       "      <td>Wednesday</td>\n",
       "      <td>2014</td>\n",
       "      <td>5</td>\n",
       "      <td>NSA</td>\n",
       "      <td>NSA</td>\n",
       "      <td>NSA</td>\n",
       "      <td>0</td>\n",
       "      <td>YES</td>\n",
       "      <td>NO</td>\n",
       "      <td>NO</td>\n",
       "      <td>0.0</td>\n",
       "      <td>0.0</td>\n",
       "      <td>5</td>\n",
       "    </tr>\n",
       "  </tbody>\n",
       "</table>\n",
       "</div>"
      ],
      "text/plain": [
       "     X    Y  OBJECTID   EventUniqueId          OccurrenceDate     Month  \\\n",
       "0  0.0  0.0         1     GO-20141001  2014/02/07 05:00:00+00  February   \n",
       "1  0.0  0.0         2  GO-20141225593  2014/01/02 05:00:00+00   January   \n",
       "2  0.0  0.0         3  GO-20141260499  2014/01/01 05:00:00+00   January   \n",
       "3  0.0  0.0         4  GO-20141260663  2014/01/01 05:00:00+00   January   \n",
       "4  0.0  0.0         5  GO-20141261162  2014/01/01 05:00:00+00   January   \n",
       "\n",
       "  Day_of_Week  Year  Hour Division Atom Neighbourhood  Fatalities  \\\n",
       "0      Friday  2014    16      NSA  NSA           NSA           0   \n",
       "1    Thursday  2014     3      NSA  NSA           NSA           0   \n",
       "2   Wednesday  2014     2      NSA  NSA           NSA           0   \n",
       "3   Wednesday  2014     3      NSA  NSA           NSA           0   \n",
       "4   Wednesday  2014     5      NSA  NSA           NSA           0   \n",
       "\n",
       "  Injury_Collisions FTR_Collisions PD_Collisions  Longitude  Latitude  \\\n",
       "0                NO             NO           YES        0.0       0.0   \n",
       "1                NO            YES            NO        0.0       0.0   \n",
       "2               YES             NO            NO        0.0       0.0   \n",
       "3                NO             NO           YES        0.0       0.0   \n",
       "4               YES             NO            NO        0.0       0.0   \n",
       "\n",
       "   ObjectId2  \n",
       "0          1  \n",
       "1          2  \n",
       "2          3  \n",
       "3          4  \n",
       "4          5  "
      ]
     },
     "execution_count": 2,
     "metadata": {},
     "output_type": "execute_result"
    }
   ],
   "source": [
    "df.head()"
   ]
  },
  {
   "cell_type": "code",
   "execution_count": 3,
   "id": "7ddf27e8",
   "metadata": {
    "_cell_guid": "4f89d48c-3afb-4f5e-91e0-35e3e5d652c4",
    "_uuid": "179e332f-88be-421d-9a24-f2619aea372c",
    "collapsed": false,
    "execution": {
     "iopub.execute_input": "2022-06-19T17:53:23.933978Z",
     "iopub.status.busy": "2022-06-19T17:53:23.933439Z",
     "iopub.status.idle": "2022-06-19T17:53:23.942898Z",
     "shell.execute_reply": "2022-06-19T17:53:23.941866Z"
    },
    "jupyter": {
     "outputs_hidden": false
    },
    "papermill": {
     "duration": 0.02039,
     "end_time": "2022-06-19T17:53:23.945405",
     "exception": false,
     "start_time": "2022-06-19T17:53:23.925015",
     "status": "completed"
    },
    "tags": []
   },
   "outputs": [
    {
     "data": {
      "text/plain": [
       "X                    float64\n",
       "Y                    float64\n",
       "OBJECTID               int64\n",
       "EventUniqueId         object\n",
       "OccurrenceDate        object\n",
       "Month                 object\n",
       "Day_of_Week           object\n",
       "Year                   int64\n",
       "Hour                   int64\n",
       "Division              object\n",
       "Atom                  object\n",
       "Neighbourhood         object\n",
       "Fatalities             int64\n",
       "Injury_Collisions     object\n",
       "FTR_Collisions        object\n",
       "PD_Collisions         object\n",
       "Longitude            float64\n",
       "Latitude             float64\n",
       "ObjectId2              int64\n",
       "dtype: object"
      ]
     },
     "execution_count": 3,
     "metadata": {},
     "output_type": "execute_result"
    }
   ],
   "source": [
    "df.dtypes"
   ]
  },
  {
   "cell_type": "markdown",
   "id": "c07292a6",
   "metadata": {
    "_cell_guid": "e4fe3af4-00c5-4f64-96c1-01847fc401be",
    "_uuid": "f5e92257-4a74-45e5-b41f-014ca24a75ac",
    "papermill": {
     "duration": 0.004591,
     "end_time": "2022-06-19T17:53:23.955616",
     "exception": false,
     "start_time": "2022-06-19T17:53:23.951025",
     "status": "completed"
    },
    "tags": []
   },
   "source": [
    "We will have some data that we want to reprocess. From metadata we know that:\n",
    "1. **OBJECTID** and **ObjectId2** are essentially duplicates, and are index columns. We will drop those, and create a new index\n",
    "2. **OccurenceDate** -- we will change this to datetime type\n",
    "3. Once we have **OccurenceDate** as datetime we will see whether we need to keep separately columns for **Month**, **Year**, **Hour**\n",
    "4. For computational efficiencies we will change to category types columns **Division**, **Atom** and **Neighbourhood** after cleaning them from missing data\n",
    "5. Columns **Injury_Collisions**, **FTR_Collisions**, **PD_Collisions** should be converted to boolean"
   ]
  },
  {
   "cell_type": "code",
   "execution_count": 4,
   "id": "37b87ef6",
   "metadata": {
    "_cell_guid": "b80b7d64-3ab3-4d8f-82b7-b192c5f7f0c2",
    "_uuid": "9bbed5ca-1ce2-4bd4-b71e-e013a53935b8",
    "collapsed": false,
    "execution": {
     "iopub.execute_input": "2022-06-19T17:53:23.968550Z",
     "iopub.status.busy": "2022-06-19T17:53:23.967239Z",
     "iopub.status.idle": "2022-06-19T17:53:23.974855Z",
     "shell.execute_reply": "2022-06-19T17:53:23.973873Z"
    },
    "jupyter": {
     "outputs_hidden": false
    },
    "papermill": {
     "duration": 0.016491,
     "end_time": "2022-06-19T17:53:23.977180",
     "exception": false,
     "start_time": "2022-06-19T17:53:23.960689",
     "status": "completed"
    },
    "tags": []
   },
   "outputs": [
    {
     "data": {
      "text/plain": [
       "(499538, 19)"
      ]
     },
     "execution_count": 4,
     "metadata": {},
     "output_type": "execute_result"
    }
   ],
   "source": [
    "df.shape\n",
    "## Our data has 499 538 observations (and 19 columns)"
   ]
  },
  {
   "cell_type": "code",
   "execution_count": 5,
   "id": "74c536ea",
   "metadata": {
    "_cell_guid": "0ee87f5e-1c40-4719-9a27-acc897a916b1",
    "_uuid": "093a42e2-f415-4db1-aae7-aa9d31d6aafd",
    "collapsed": false,
    "execution": {
     "iopub.execute_input": "2022-06-19T17:53:24.000937Z",
     "iopub.status.busy": "2022-06-19T17:53:24.000270Z",
     "iopub.status.idle": "2022-06-19T17:53:25.126186Z",
     "shell.execute_reply": "2022-06-19T17:53:25.124318Z"
    },
    "jupyter": {
     "outputs_hidden": false
    },
    "papermill": {
     "duration": 1.138165,
     "end_time": "2022-06-19T17:53:25.128945",
     "exception": false,
     "start_time": "2022-06-19T17:53:23.990780",
     "status": "completed"
    },
    "tags": []
   },
   "outputs": [
    {
     "name": "stdout",
     "output_type": "stream",
     "text": [
      "X                    0\n",
      "Y                    0\n",
      "EventUniqueId        0\n",
      "OccurrenceDate       0\n",
      "Month                0\n",
      "Day_of_Week          0\n",
      "Year                 0\n",
      "Hour                 0\n",
      "Division             0\n",
      "Atom                 0\n",
      "Neighbourhood        0\n",
      "Fatalities           0\n",
      "Injury_Collisions    0\n",
      "FTR_Collisions       0\n",
      "PD_Collisions        0\n",
      "Longitude            0\n",
      "Latitude             0\n",
      "dtype: int64\n",
      "['NSA' 'D54/D55' 'D43' 'D41' 'D11' 'D31' 'D32' 'D14' 'D53' 'D12' 'D33'\n",
      " 'D42' 'D23' 'D22' 'D52' 'D13' 'D51']\n",
      "['NSA' '40' '531' '25' '27' '31' '48' '119' '76' '134' '117' '128' '14'\n",
      " '136' '23' '34' '49' '21' '39' '139' '127' '124' '120' '122' '75' '47'\n",
      " '24' '137' '35' '131' '133' '123' '88' '1' '103' '45' '105' '140' '135'\n",
      " '132' '138' '129' '130' '125' '126' '121' '63' '62' '61' '118' '54' '43'\n",
      " '70' '116' '60' '64' '66' '65' '59' '58' '53' '44' '42' '46' '69' '55'\n",
      " '68' '67' '77' '57' '73' '41' '72' '56' '71' '52' '98' '74' '99' '95'\n",
      " '78' '104' '51' '79' '97' '50' '82' '100' '96' '101' '38' '81' '80' '37'\n",
      " '94' '102' '36' '93' '106' '85' '84' '83' '86' '32' '107' '92' '33' '108'\n",
      " '87' '109' '91' '26' '90' '110' '112' '30' '17' '29' '16' '111' '89'\n",
      " '115' '114' '28' '15' '18' '113' '9' '8' '19' '20' '10' '22' '7' '6' '5'\n",
      " '3' '11' '4' '12' '13' '2']\n",
      "          EventUniqueId\n",
      "Division               \n",
      "D11                  74\n",
      "D12                 162\n",
      "D13                 148\n",
      "D14                 106\n",
      "D22                 242\n",
      "D23                 134\n",
      "D31                 197\n",
      "D32                 351\n",
      "D33                 298\n",
      "D41                 147\n",
      "D42                 186\n",
      "D43                 138\n",
      "D51                  87\n",
      "D52                 118\n",
      "D53                 127\n",
      "D54/D55             214\n",
      "NSA               69989\n",
      "      EventUniqueId\n",
      "Atom               \n",
      "17                2\n",
      "76                2\n",
      "77                3\n",
      "78                1\n",
      "NSA           69989\n"
     ]
    }
   ],
   "source": [
    "## Let's drop columns we won't use:\n",
    "df_clean = df.drop(['OBJECTID','ObjectId2'], axis=1)\n",
    "\n",
    "## We don't have any data explicitely marked as 'NaN', but that could be how our data is marked\n",
    "print(df_clean.isna().sum())\n",
    "\n",
    "## Let's convert OccurrenceDate column to datetime. \n",
    "df_clean['OccurrenceDate'] = pd.to_datetime(df['OccurrenceDate'], yearfirst=True)\n",
    "\n",
    "## We will convert Division, Atom and Neighbourhood into categorical variables, but before let's explore them:\n",
    "print(df_clean['Division'].unique())\n",
    "print(df_clean['Atom'].unique())\n",
    "\n",
    "## We can see that we have 'NSA' values:\n",
    "## We have observations where Neighborhood ID (Atom) is missing, but Police division is present:\n",
    "print(df_clean[df_clean['Atom']=='NSA'].groupby(['Division']).aggregate({'EventUniqueId':'count'}))\n",
    "\n",
    "## We also have observations wher Police division is 'NSA', but Neighbourhood ID is present:\n",
    "print(df_clean[df_clean['Division']=='NSA'].groupby(['Atom']).aggregate({'EventUniqueId':'count'}))"
   ]
  },
  {
   "cell_type": "code",
   "execution_count": 6,
   "id": "4ce03b2b",
   "metadata": {
    "_cell_guid": "b632e53e-25a6-4f7f-84ca-611ff2c2622f",
    "_uuid": "833372ff-738d-4d6a-a320-5ca2884c3594",
    "collapsed": false,
    "execution": {
     "iopub.execute_input": "2022-06-19T17:53:25.141777Z",
     "iopub.status.busy": "2022-06-19T17:53:25.141046Z",
     "iopub.status.idle": "2022-06-19T17:53:25.447141Z",
     "shell.execute_reply": "2022-06-19T17:53:25.445673Z"
    },
    "jupyter": {
     "outputs_hidden": false
    },
    "papermill": {
     "duration": 0.315373,
     "end_time": "2022-06-19T17:53:25.449582",
     "exception": false,
     "start_time": "2022-06-19T17:53:25.134209",
     "status": "completed"
    },
    "tags": []
   },
   "outputs": [
    {
     "name": "stdout",
     "output_type": "stream",
     "text": [
      "(426811, 17)\n"
     ]
    }
   ],
   "source": [
    "## Since this is not a significant portion of observations, and each Division is reponsible for multiple neighborhoods, we will drop all NSA values:\n",
    "NSA_selector = (df_clean['Division']=='NSA') | (df_clean['Atom']=='NSA') | (df_clean['Neighbourhood']=='NSA')\n",
    "\n",
    "df_clean = df_clean[~NSA_selector]\n",
    "\n",
    "## After dropping, we have 426 811 observations (vs 499 538) -- we've dropped 15% of rows\n",
    "print(df_clean.shape)"
   ]
  },
  {
   "cell_type": "code",
   "execution_count": 7,
   "id": "8acd0463",
   "metadata": {
    "_cell_guid": "b6aa9787-6370-47c7-a36b-4f15a5fc94eb",
    "_uuid": "777674f3-93b5-4e4a-acd9-db0e74041836",
    "collapsed": false,
    "execution": {
     "iopub.execute_input": "2022-06-19T17:53:25.462601Z",
     "iopub.status.busy": "2022-06-19T17:53:25.462189Z",
     "iopub.status.idle": "2022-06-19T17:53:25.907498Z",
     "shell.execute_reply": "2022-06-19T17:53:25.905859Z"
    },
    "jupyter": {
     "outputs_hidden": false
    },
    "papermill": {
     "duration": 0.4557,
     "end_time": "2022-06-19T17:53:25.910993",
     "exception": false,
     "start_time": "2022-06-19T17:53:25.455293",
     "status": "completed"
    },
    "tags": []
   },
   "outputs": [
    {
     "name": "stdout",
     "output_type": "stream",
     "text": [
      "X                                float64\n",
      "Y                                float64\n",
      "EventUniqueId                     object\n",
      "OccurrenceDate       datetime64[ns, UTC]\n",
      "Month                             object\n",
      "Day_of_Week                       object\n",
      "Year                               int64\n",
      "Hour                               int64\n",
      "Division                        category\n",
      "Atom                            category\n",
      "Neighbourhood                   category\n",
      "Fatalities                         int64\n",
      "Injury_Collisions                 object\n",
      "FTR_Collisions                    object\n",
      "PD_Collisions                     object\n",
      "Longitude                        float64\n",
      "Latitude                         float64\n",
      "dtype: object\n"
     ]
    }
   ],
   "source": [
    "## Now let's convert to category type: this will improve performace and computational efficiency\n",
    "df_clean['Division'] = df_clean.Division.astype('category')\n",
    "df_clean['Atom'] = df_clean.Atom.astype('category')\n",
    "df_clean['Neighbourhood'] = df_clean.Neighbourhood.astype('category')\n",
    "print(df_clean.dtypes)\n",
    "\n",
    "## Now we convert Injury_Collisions, FTR_Collisions, PD_Collisions should be converted to boolean\n",
    "boolean_columns = ['Injury_Collisions','FTR_Collisions','PD_Collisions']\n",
    "\n",
    "for i in boolean_columns:\n",
    "    df_clean[i] = df_clean[i].map({'YES': True, 'NO': False})"
   ]
  },
  {
   "cell_type": "code",
   "execution_count": 8,
   "id": "d499152d",
   "metadata": {
    "_cell_guid": "cd7f5511-1096-4990-a7b6-dbd07ed38a9e",
    "_uuid": "d7664cb6-9a4a-4326-8835-43e7603a5db5",
    "collapsed": false,
    "execution": {
     "iopub.execute_input": "2022-06-19T17:53:25.925919Z",
     "iopub.status.busy": "2022-06-19T17:53:25.924647Z",
     "iopub.status.idle": "2022-06-19T17:53:25.932291Z",
     "shell.execute_reply": "2022-06-19T17:53:25.931152Z"
    },
    "jupyter": {
     "outputs_hidden": false
    },
    "papermill": {
     "duration": 0.017188,
     "end_time": "2022-06-19T17:53:25.934652",
     "exception": false,
     "start_time": "2022-06-19T17:53:25.917464",
     "status": "completed"
    },
    "tags": []
   },
   "outputs": [
    {
     "name": "stdout",
     "output_type": "stream",
     "text": [
      "X                                float64\n",
      "Y                                float64\n",
      "EventUniqueId                     object\n",
      "OccurrenceDate       datetime64[ns, UTC]\n",
      "Month                             object\n",
      "Day_of_Week                       object\n",
      "Year                               int64\n",
      "Hour                               int64\n",
      "Division                        category\n",
      "Atom                            category\n",
      "Neighbourhood                   category\n",
      "Fatalities                         int64\n",
      "Injury_Collisions                   bool\n",
      "FTR_Collisions                      bool\n",
      "PD_Collisions                       bool\n",
      "Longitude                        float64\n",
      "Latitude                         float64\n",
      "dtype: object\n"
     ]
    }
   ],
   "source": [
    "print(df_clean.dtypes)"
   ]
  }
 ],
 "metadata": {
  "kernelspec": {
   "display_name": "Python 3",
   "language": "python",
   "name": "python3"
  },
  "language_info": {
   "codemirror_mode": {
    "name": "ipython",
    "version": 3
   },
   "file_extension": ".py",
   "mimetype": "text/x-python",
   "name": "python",
   "nbconvert_exporter": "python",
   "pygments_lexer": "ipython3",
   "version": "3.7.12"
  },
  "papermill": {
   "default_parameters": {},
   "duration": 17.433563,
   "end_time": "2022-06-19T17:53:26.969997",
   "environment_variables": {},
   "exception": null,
   "input_path": "__notebook__.ipynb",
   "output_path": "__notebook__.ipynb",
   "parameters": {},
   "start_time": "2022-06-19T17:53:09.536434",
   "version": "2.3.4"
  }
 },
 "nbformat": 4,
 "nbformat_minor": 5
}
