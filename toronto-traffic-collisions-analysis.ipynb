{
 "cells": [
  {
   "cell_type": "code",
   "execution_count": 1,
   "id": "eed9563c",
   "metadata": {
    "_cell_guid": "ab909f14-78a4-4b19-855e-b7ca5b7a8345",
    "_uuid": "0747ac91-d59c-49d3-a739-9aae49dafde2",
    "collapsed": false,
    "execution": {
     "iopub.execute_input": "2022-06-19T18:11:54.108405Z",
     "iopub.status.busy": "2022-06-19T18:11:54.107741Z",
     "iopub.status.idle": "2022-06-19T18:11:56.277181Z",
     "shell.execute_reply": "2022-06-19T18:11:56.275866Z"
    },
    "jupyter": {
     "outputs_hidden": false
    },
    "papermill": {
     "duration": 2.180265,
     "end_time": "2022-06-19T18:11:56.280182",
     "exception": false,
     "start_time": "2022-06-19T18:11:54.099917",
     "status": "completed"
    },
    "tags": []
   },
   "outputs": [
    {
     "name": "stdout",
     "output_type": "stream",
     "text": [
      "/kaggle/input/traffic-collisions-toronto/Traffic_Collisions_Toronto_data.csv\n"
     ]
    }
   ],
   "source": [
    "# This Python 3 environment comes with many helpful analytics libraries installed\n",
    "# It is defined by the kaggle/python Docker image: https://github.com/kaggle/docker-python\n",
    "# For example, here's several helpful packages to load\n",
    "\n",
    "import numpy as np # linear algebra\n",
    "import pandas as pd # data processing, CSV file I/O (e.g. pd.read_csv)\n",
    "\n",
    "# Input data files are available in the read-only \"../input/\" directory\n",
    "# For example, running this (by clicking run or pressing Shift+Enter) will list all files under the input directory\n",
    "\n",
    "import os\n",
    "for dirname, _, filenames in os.walk('/kaggle/input'):\n",
    "    for filename in filenames:\n",
    "        print(os.path.join(dirname, filename))\n",
    "\n",
    "# You can write up to 20GB to the current directory (/kaggle/working/) that gets preserved as output when you create a version using \"Save & Run All\" \n",
    "# You can also write temporary files to /kaggle/temp/, but they won't be saved outside of the current session\n",
    "\n",
    "df = pd.read_csv('/kaggle/input/traffic-collisions-toronto/Traffic_Collisions_Toronto_data.csv')"
   ]
  },
  {
   "cell_type": "markdown",
   "id": "5eee5f93",
   "metadata": {
    "_cell_guid": "9626df61-fe16-49fa-b6fc-baab4c4e0eb2",
    "_uuid": "6cd929aa-0626-47b2-846d-3b5e9c8b21b2",
    "papermill": {
     "duration": 0.004875,
     "end_time": "2022-06-19T18:11:56.291922",
     "exception": false,
     "start_time": "2022-06-19T18:11:56.287047",
     "status": "completed"
    },
    "tags": []
   },
   "source": [
    "**PART 1. CLEANING AND PREPARING THE DATASET**"
   ]
  },
  {
   "cell_type": "code",
   "execution_count": 2,
   "id": "3bc9769f",
   "metadata": {
    "_cell_guid": "6fcab45b-9d1b-4f4d-a514-7051a13ad0aa",
    "_uuid": "49c5ae2c-8594-47b3-abc9-f8579340fb48",
    "collapsed": false,
    "execution": {
     "iopub.execute_input": "2022-06-19T18:11:56.303142Z",
     "iopub.status.busy": "2022-06-19T18:11:56.302709Z",
     "iopub.status.idle": "2022-06-19T18:11:56.335569Z",
     "shell.execute_reply": "2022-06-19T18:11:56.334392Z"
    },
    "jupyter": {
     "outputs_hidden": false
    },
    "papermill": {
     "duration": 0.041338,
     "end_time": "2022-06-19T18:11:56.338037",
     "exception": false,
     "start_time": "2022-06-19T18:11:56.296699",
     "status": "completed"
    },
    "tags": []
   },
   "outputs": [
    {
     "data": {
      "text/html": [
       "<div>\n",
       "<style scoped>\n",
       "    .dataframe tbody tr th:only-of-type {\n",
       "        vertical-align: middle;\n",
       "    }\n",
       "\n",
       "    .dataframe tbody tr th {\n",
       "        vertical-align: top;\n",
       "    }\n",
       "\n",
       "    .dataframe thead th {\n",
       "        text-align: right;\n",
       "    }\n",
       "</style>\n",
       "<table border=\"1\" class=\"dataframe\">\n",
       "  <thead>\n",
       "    <tr style=\"text-align: right;\">\n",
       "      <th></th>\n",
       "      <th>X</th>\n",
       "      <th>Y</th>\n",
       "      <th>OBJECTID</th>\n",
       "      <th>EventUniqueId</th>\n",
       "      <th>OccurrenceDate</th>\n",
       "      <th>Month</th>\n",
       "      <th>Day_of_Week</th>\n",
       "      <th>Year</th>\n",
       "      <th>Hour</th>\n",
       "      <th>Division</th>\n",
       "      <th>Atom</th>\n",
       "      <th>Neighbourhood</th>\n",
       "      <th>Fatalities</th>\n",
       "      <th>Injury_Collisions</th>\n",
       "      <th>FTR_Collisions</th>\n",
       "      <th>PD_Collisions</th>\n",
       "      <th>Longitude</th>\n",
       "      <th>Latitude</th>\n",
       "      <th>ObjectId2</th>\n",
       "    </tr>\n",
       "  </thead>\n",
       "  <tbody>\n",
       "    <tr>\n",
       "      <th>0</th>\n",
       "      <td>0.0</td>\n",
       "      <td>0.0</td>\n",
       "      <td>1</td>\n",
       "      <td>GO-20141001</td>\n",
       "      <td>2014/02/07 05:00:00+00</td>\n",
       "      <td>February</td>\n",
       "      <td>Friday</td>\n",
       "      <td>2014</td>\n",
       "      <td>16</td>\n",
       "      <td>NSA</td>\n",
       "      <td>NSA</td>\n",
       "      <td>NSA</td>\n",
       "      <td>0</td>\n",
       "      <td>NO</td>\n",
       "      <td>NO</td>\n",
       "      <td>YES</td>\n",
       "      <td>0.0</td>\n",
       "      <td>0.0</td>\n",
       "      <td>1</td>\n",
       "    </tr>\n",
       "    <tr>\n",
       "      <th>1</th>\n",
       "      <td>0.0</td>\n",
       "      <td>0.0</td>\n",
       "      <td>2</td>\n",
       "      <td>GO-20141225593</td>\n",
       "      <td>2014/01/02 05:00:00+00</td>\n",
       "      <td>January</td>\n",
       "      <td>Thursday</td>\n",
       "      <td>2014</td>\n",
       "      <td>3</td>\n",
       "      <td>NSA</td>\n",
       "      <td>NSA</td>\n",
       "      <td>NSA</td>\n",
       "      <td>0</td>\n",
       "      <td>NO</td>\n",
       "      <td>YES</td>\n",
       "      <td>NO</td>\n",
       "      <td>0.0</td>\n",
       "      <td>0.0</td>\n",
       "      <td>2</td>\n",
       "    </tr>\n",
       "    <tr>\n",
       "      <th>2</th>\n",
       "      <td>0.0</td>\n",
       "      <td>0.0</td>\n",
       "      <td>3</td>\n",
       "      <td>GO-20141260499</td>\n",
       "      <td>2014/01/01 05:00:00+00</td>\n",
       "      <td>January</td>\n",
       "      <td>Wednesday</td>\n",
       "      <td>2014</td>\n",
       "      <td>2</td>\n",
       "      <td>NSA</td>\n",
       "      <td>NSA</td>\n",
       "      <td>NSA</td>\n",
       "      <td>0</td>\n",
       "      <td>YES</td>\n",
       "      <td>NO</td>\n",
       "      <td>NO</td>\n",
       "      <td>0.0</td>\n",
       "      <td>0.0</td>\n",
       "      <td>3</td>\n",
       "    </tr>\n",
       "    <tr>\n",
       "      <th>3</th>\n",
       "      <td>0.0</td>\n",
       "      <td>0.0</td>\n",
       "      <td>4</td>\n",
       "      <td>GO-20141260663</td>\n",
       "      <td>2014/01/01 05:00:00+00</td>\n",
       "      <td>January</td>\n",
       "      <td>Wednesday</td>\n",
       "      <td>2014</td>\n",
       "      <td>3</td>\n",
       "      <td>NSA</td>\n",
       "      <td>NSA</td>\n",
       "      <td>NSA</td>\n",
       "      <td>0</td>\n",
       "      <td>NO</td>\n",
       "      <td>NO</td>\n",
       "      <td>YES</td>\n",
       "      <td>0.0</td>\n",
       "      <td>0.0</td>\n",
       "      <td>4</td>\n",
       "    </tr>\n",
       "    <tr>\n",
       "      <th>4</th>\n",
       "      <td>0.0</td>\n",
       "      <td>0.0</td>\n",
       "      <td>5</td>\n",
       "      <td>GO-20141261162</td>\n",
       "      <td>2014/01/01 05:00:00+00</td>\n",
       "      <td>January</td>\n",
       "      <td>Wednesday</td>\n",
       "      <td>2014</td>\n",
       "      <td>5</td>\n",
       "      <td>NSA</td>\n",
       "      <td>NSA</td>\n",
       "      <td>NSA</td>\n",
       "      <td>0</td>\n",
       "      <td>YES</td>\n",
       "      <td>NO</td>\n",
       "      <td>NO</td>\n",
       "      <td>0.0</td>\n",
       "      <td>0.0</td>\n",
       "      <td>5</td>\n",
       "    </tr>\n",
       "  </tbody>\n",
       "</table>\n",
       "</div>"
      ],
      "text/plain": [
       "     X    Y  OBJECTID   EventUniqueId          OccurrenceDate     Month  \\\n",
       "0  0.0  0.0         1     GO-20141001  2014/02/07 05:00:00+00  February   \n",
       "1  0.0  0.0         2  GO-20141225593  2014/01/02 05:00:00+00   January   \n",
       "2  0.0  0.0         3  GO-20141260499  2014/01/01 05:00:00+00   January   \n",
       "3  0.0  0.0         4  GO-20141260663  2014/01/01 05:00:00+00   January   \n",
       "4  0.0  0.0         5  GO-20141261162  2014/01/01 05:00:00+00   January   \n",
       "\n",
       "  Day_of_Week  Year  Hour Division Atom Neighbourhood  Fatalities  \\\n",
       "0      Friday  2014    16      NSA  NSA           NSA           0   \n",
       "1    Thursday  2014     3      NSA  NSA           NSA           0   \n",
       "2   Wednesday  2014     2      NSA  NSA           NSA           0   \n",
       "3   Wednesday  2014     3      NSA  NSA           NSA           0   \n",
       "4   Wednesday  2014     5      NSA  NSA           NSA           0   \n",
       "\n",
       "  Injury_Collisions FTR_Collisions PD_Collisions  Longitude  Latitude  \\\n",
       "0                NO             NO           YES        0.0       0.0   \n",
       "1                NO            YES            NO        0.0       0.0   \n",
       "2               YES             NO            NO        0.0       0.0   \n",
       "3                NO             NO           YES        0.0       0.0   \n",
       "4               YES             NO            NO        0.0       0.0   \n",
       "\n",
       "   ObjectId2  \n",
       "0          1  \n",
       "1          2  \n",
       "2          3  \n",
       "3          4  \n",
       "4          5  "
      ]
     },
     "execution_count": 2,
     "metadata": {},
     "output_type": "execute_result"
    }
   ],
   "source": [
    "df.head()"
   ]
  },
  {
   "cell_type": "code",
   "execution_count": 3,
   "id": "9f61df3b",
   "metadata": {
    "_cell_guid": "4f89d48c-3afb-4f5e-91e0-35e3e5d652c4",
    "_uuid": "179e332f-88be-421d-9a24-f2619aea372c",
    "collapsed": false,
    "execution": {
     "iopub.execute_input": "2022-06-19T18:11:56.349467Z",
     "iopub.status.busy": "2022-06-19T18:11:56.349055Z",
     "iopub.status.idle": "2022-06-19T18:11:56.357692Z",
     "shell.execute_reply": "2022-06-19T18:11:56.356659Z"
    },
    "jupyter": {
     "outputs_hidden": false
    },
    "papermill": {
     "duration": 0.016792,
     "end_time": "2022-06-19T18:11:56.359955",
     "exception": false,
     "start_time": "2022-06-19T18:11:56.343163",
     "status": "completed"
    },
    "tags": []
   },
   "outputs": [
    {
     "data": {
      "text/plain": [
       "X                    float64\n",
       "Y                    float64\n",
       "OBJECTID               int64\n",
       "EventUniqueId         object\n",
       "OccurrenceDate        object\n",
       "Month                 object\n",
       "Day_of_Week           object\n",
       "Year                   int64\n",
       "Hour                   int64\n",
       "Division              object\n",
       "Atom                  object\n",
       "Neighbourhood         object\n",
       "Fatalities             int64\n",
       "Injury_Collisions     object\n",
       "FTR_Collisions        object\n",
       "PD_Collisions         object\n",
       "Longitude            float64\n",
       "Latitude             float64\n",
       "ObjectId2              int64\n",
       "dtype: object"
      ]
     },
     "execution_count": 3,
     "metadata": {},
     "output_type": "execute_result"
    }
   ],
   "source": [
    "df.dtypes"
   ]
  },
  {
   "cell_type": "markdown",
   "id": "69df8cc8",
   "metadata": {
    "_cell_guid": "e4fe3af4-00c5-4f64-96c1-01847fc401be",
    "_uuid": "f5e92257-4a74-45e5-b41f-014ca24a75ac",
    "papermill": {
     "duration": 0.004606,
     "end_time": "2022-06-19T18:11:56.369564",
     "exception": false,
     "start_time": "2022-06-19T18:11:56.364958",
     "status": "completed"
    },
    "tags": []
   },
   "source": [
    "We will have some data that we want to reprocess. From metadata we know that:\n",
    "1. **OBJECTID** and **ObjectId2** are essentially duplicates, and are index columns. We will drop those, and create a new index\n",
    "2. **OccurenceDate** -- we will change this to datetime type\n",
    "3. Once we have **OccurenceDate** as datetime we will see whether we need to keep separately columns for **Month**, **Year**, **Hour**\n",
    "4. For computational efficiencies we will change to category types columns **Division**, **Atom** and **Neighbourhood** after cleaning them from missing data\n",
    "5. Columns **Injury_Collisions**, **FTR_Collisions**, **PD_Collisions** should be converted to boolean"
   ]
  },
  {
   "cell_type": "code",
   "execution_count": 4,
   "id": "50c592b4",
   "metadata": {
    "_cell_guid": "b80b7d64-3ab3-4d8f-82b7-b192c5f7f0c2",
    "_uuid": "9bbed5ca-1ce2-4bd4-b71e-e013a53935b8",
    "collapsed": false,
    "execution": {
     "iopub.execute_input": "2022-06-19T18:11:56.381237Z",
     "iopub.status.busy": "2022-06-19T18:11:56.380384Z",
     "iopub.status.idle": "2022-06-19T18:11:56.388532Z",
     "shell.execute_reply": "2022-06-19T18:11:56.387478Z"
    },
    "jupyter": {
     "outputs_hidden": false
    },
    "papermill": {
     "duration": 0.0163,
     "end_time": "2022-06-19T18:11:56.390816",
     "exception": false,
     "start_time": "2022-06-19T18:11:56.374516",
     "status": "completed"
    },
    "tags": []
   },
   "outputs": [
    {
     "data": {
      "text/plain": [
       "(499538, 19)"
      ]
     },
     "execution_count": 4,
     "metadata": {},
     "output_type": "execute_result"
    }
   ],
   "source": [
    "df.shape\n",
    "## Our data has 499 538 observations (and 19 columns)"
   ]
  },
  {
   "cell_type": "code",
   "execution_count": 5,
   "id": "ad329c59",
   "metadata": {
    "_cell_guid": "0ee87f5e-1c40-4719-9a27-acc897a916b1",
    "_uuid": "093a42e2-f415-4db1-aae7-aa9d31d6aafd",
    "collapsed": false,
    "execution": {
     "iopub.execute_input": "2022-06-19T18:11:56.403062Z",
     "iopub.status.busy": "2022-06-19T18:11:56.402698Z",
     "iopub.status.idle": "2022-06-19T18:11:57.356184Z",
     "shell.execute_reply": "2022-06-19T18:11:57.354848Z"
    },
    "jupyter": {
     "outputs_hidden": false
    },
    "papermill": {
     "duration": 0.962206,
     "end_time": "2022-06-19T18:11:57.358314",
     "exception": false,
     "start_time": "2022-06-19T18:11:56.396108",
     "status": "completed"
    },
    "tags": []
   },
   "outputs": [
    {
     "name": "stdout",
     "output_type": "stream",
     "text": [
      "X                    0\n",
      "Y                    0\n",
      "EventUniqueId        0\n",
      "OccurrenceDate       0\n",
      "Month                0\n",
      "Day_of_Week          0\n",
      "Year                 0\n",
      "Hour                 0\n",
      "Division             0\n",
      "Atom                 0\n",
      "Neighbourhood        0\n",
      "Fatalities           0\n",
      "Injury_Collisions    0\n",
      "FTR_Collisions       0\n",
      "PD_Collisions        0\n",
      "Longitude            0\n",
      "Latitude             0\n",
      "dtype: int64\n",
      "['NSA' 'D54/D55' 'D43' 'D41' 'D11' 'D31' 'D32' 'D14' 'D53' 'D12' 'D33'\n",
      " 'D42' 'D23' 'D22' 'D52' 'D13' 'D51']\n",
      "['NSA' '40' '531' '25' '27' '31' '48' '119' '76' '134' '117' '128' '14'\n",
      " '136' '23' '34' '49' '21' '39' '139' '127' '124' '120' '122' '75' '47'\n",
      " '24' '137' '35' '131' '133' '123' '88' '1' '103' '45' '105' '140' '135'\n",
      " '132' '138' '129' '130' '125' '126' '121' '63' '62' '61' '118' '54' '43'\n",
      " '70' '116' '60' '64' '66' '65' '59' '58' '53' '44' '42' '46' '69' '55'\n",
      " '68' '67' '77' '57' '73' '41' '72' '56' '71' '52' '98' '74' '99' '95'\n",
      " '78' '104' '51' '79' '97' '50' '82' '100' '96' '101' '38' '81' '80' '37'\n",
      " '94' '102' '36' '93' '106' '85' '84' '83' '86' '32' '107' '92' '33' '108'\n",
      " '87' '109' '91' '26' '90' '110' '112' '30' '17' '29' '16' '111' '89'\n",
      " '115' '114' '28' '15' '18' '113' '9' '8' '19' '20' '10' '22' '7' '6' '5'\n",
      " '3' '11' '4' '12' '13' '2']\n",
      "          EventUniqueId\n",
      "Division               \n",
      "D11                  74\n",
      "D12                 162\n",
      "D13                 148\n",
      "D14                 106\n",
      "D22                 242\n",
      "D23                 134\n",
      "D31                 197\n",
      "D32                 351\n",
      "D33                 298\n",
      "D41                 147\n",
      "D42                 186\n",
      "D43                 138\n",
      "D51                  87\n",
      "D52                 118\n",
      "D53                 127\n",
      "D54/D55             214\n",
      "NSA               69989\n",
      "      EventUniqueId\n",
      "Atom               \n",
      "17                2\n",
      "76                2\n",
      "77                3\n",
      "78                1\n",
      "NSA           69989\n"
     ]
    }
   ],
   "source": [
    "## Let's drop columns we won't use:\n",
    "df_clean = df.drop(['OBJECTID','ObjectId2'], axis=1)\n",
    "\n",
    "## We don't have any data explicitely marked as 'NaN', but that could be how our data is marked\n",
    "print(df_clean.isna().sum())\n",
    "\n",
    "## Let's convert OccurrenceDate column to datetime. \n",
    "df_clean['OccurrenceDate'] = pd.to_datetime(df['OccurrenceDate'], yearfirst=True)\n",
    "\n",
    "## We will convert Division, Atom and Neighbourhood into categorical variables, but before let's explore them:\n",
    "print(df_clean['Division'].unique())\n",
    "print(df_clean['Atom'].unique())\n",
    "\n",
    "## We can see that we have 'NSA' values:\n",
    "## We have observations where Neighborhood ID (Atom) is missing, but Police division is present:\n",
    "print(df_clean[df_clean['Atom']=='NSA'].groupby(['Division']).aggregate({'EventUniqueId':'count'}))\n",
    "\n",
    "## We also have observations wher Police division is 'NSA', but Neighbourhood ID is present:\n",
    "print(df_clean[df_clean['Division']=='NSA'].groupby(['Atom']).aggregate({'EventUniqueId':'count'}))"
   ]
  },
  {
   "cell_type": "code",
   "execution_count": 6,
   "id": "ba759bc0",
   "metadata": {
    "_cell_guid": "b632e53e-25a6-4f7f-84ca-611ff2c2622f",
    "_uuid": "833372ff-738d-4d6a-a320-5ca2884c3594",
    "collapsed": false,
    "execution": {
     "iopub.execute_input": "2022-06-19T18:11:57.371381Z",
     "iopub.status.busy": "2022-06-19T18:11:57.370613Z",
     "iopub.status.idle": "2022-06-19T18:11:57.633655Z",
     "shell.execute_reply": "2022-06-19T18:11:57.632523Z"
    },
    "jupyter": {
     "outputs_hidden": false
    },
    "papermill": {
     "duration": 0.271931,
     "end_time": "2022-06-19T18:11:57.636072",
     "exception": false,
     "start_time": "2022-06-19T18:11:57.364141",
     "status": "completed"
    },
    "tags": []
   },
   "outputs": [
    {
     "name": "stdout",
     "output_type": "stream",
     "text": [
      "(426811, 17)\n"
     ]
    }
   ],
   "source": [
    "## Since this is not a significant portion of observations, and each Division is reponsible for multiple neighborhoods, we will drop all NSA values:\n",
    "NSA_selector = (df_clean['Division']=='NSA') | (df_clean['Atom']=='NSA') | (df_clean['Neighbourhood']=='NSA')\n",
    "\n",
    "df_clean = df_clean[~NSA_selector]\n",
    "\n",
    "## After dropping, we have 426 811 observations (vs 499 538) -- we've dropped 15% of rows\n",
    "print(df_clean.shape)"
   ]
  },
  {
   "cell_type": "code",
   "execution_count": 7,
   "id": "e15458cd",
   "metadata": {
    "_cell_guid": "b6aa9787-6370-47c7-a36b-4f15a5fc94eb",
    "_uuid": "777674f3-93b5-4e4a-acd9-db0e74041836",
    "collapsed": false,
    "execution": {
     "iopub.execute_input": "2022-06-19T18:11:57.649093Z",
     "iopub.status.busy": "2022-06-19T18:11:57.648386Z",
     "iopub.status.idle": "2022-06-19T18:11:58.061804Z",
     "shell.execute_reply": "2022-06-19T18:11:58.060988Z"
    },
    "jupyter": {
     "outputs_hidden": false
    },
    "papermill": {
     "duration": 0.422596,
     "end_time": "2022-06-19T18:11:58.064306",
     "exception": false,
     "start_time": "2022-06-19T18:11:57.641710",
     "status": "completed"
    },
    "tags": []
   },
   "outputs": [
    {
     "name": "stdout",
     "output_type": "stream",
     "text": [
      "X                                float64\n",
      "Y                                float64\n",
      "EventUniqueId                     object\n",
      "OccurrenceDate       datetime64[ns, UTC]\n",
      "Month                             object\n",
      "Day_of_Week                       object\n",
      "Year                               int64\n",
      "Hour                               int64\n",
      "Division                        category\n",
      "Atom                            category\n",
      "Neighbourhood                   category\n",
      "Fatalities                         int64\n",
      "Injury_Collisions                 object\n",
      "FTR_Collisions                    object\n",
      "PD_Collisions                     object\n",
      "Longitude                        float64\n",
      "Latitude                         float64\n",
      "dtype: object\n"
     ]
    }
   ],
   "source": [
    "## Now let's convert to category type: this will improve performace and computational efficiency\n",
    "df_clean['Division'] = df_clean.Division.astype('category')\n",
    "df_clean['Atom'] = df_clean.Atom.astype('category')\n",
    "df_clean['Neighbourhood'] = df_clean.Neighbourhood.astype('category')\n",
    "print(df_clean.dtypes)\n",
    "\n",
    "## Now we convert Injury_Collisions, FTR_Collisions, PD_Collisions should be converted to boolean\n",
    "boolean_columns = ['Injury_Collisions','FTR_Collisions','PD_Collisions']\n",
    "\n",
    "for i in boolean_columns:\n",
    "    df_clean[i] = df_clean[i].map({'YES': True, 'NO': False})"
   ]
  },
  {
   "cell_type": "code",
   "execution_count": 8,
   "id": "6eb33320",
   "metadata": {
    "_cell_guid": "cd7f5511-1096-4990-a7b6-dbd07ed38a9e",
    "_uuid": "d7664cb6-9a4a-4326-8835-43e7603a5db5",
    "collapsed": false,
    "execution": {
     "iopub.execute_input": "2022-06-19T18:11:58.078736Z",
     "iopub.status.busy": "2022-06-19T18:11:58.077584Z",
     "iopub.status.idle": "2022-06-19T18:11:58.085590Z",
     "shell.execute_reply": "2022-06-19T18:11:58.084349Z"
    },
    "jupyter": {
     "outputs_hidden": false
    },
    "papermill": {
     "duration": 0.017495,
     "end_time": "2022-06-19T18:11:58.087759",
     "exception": false,
     "start_time": "2022-06-19T18:11:58.070264",
     "status": "completed"
    },
    "tags": []
   },
   "outputs": [
    {
     "name": "stdout",
     "output_type": "stream",
     "text": [
      "X                                float64\n",
      "Y                                float64\n",
      "EventUniqueId                     object\n",
      "OccurrenceDate       datetime64[ns, UTC]\n",
      "Month                             object\n",
      "Day_of_Week                       object\n",
      "Year                               int64\n",
      "Hour                               int64\n",
      "Division                        category\n",
      "Atom                            category\n",
      "Neighbourhood                   category\n",
      "Fatalities                         int64\n",
      "Injury_Collisions                   bool\n",
      "FTR_Collisions                      bool\n",
      "PD_Collisions                       bool\n",
      "Longitude                        float64\n",
      "Latitude                         float64\n",
      "dtype: object\n"
     ]
    }
   ],
   "source": [
    "print(df_clean.dtypes)"
   ]
  },
  {
   "cell_type": "markdown",
   "id": "fe9e023b",
   "metadata": {
    "papermill": {
     "duration": 0.005829,
     "end_time": "2022-06-19T18:11:58.099821",
     "exception": false,
     "start_time": "2022-06-19T18:11:58.093992",
     "status": "completed"
    },
    "tags": []
   },
   "source": [
    "**PART 2. EXPLORING THE CLEAN DATASET**"
   ]
  },
  {
   "cell_type": "code",
   "execution_count": 9,
   "id": "e836c663",
   "metadata": {
    "execution": {
     "iopub.execute_input": "2022-06-19T18:11:58.113771Z",
     "iopub.status.busy": "2022-06-19T18:11:58.112746Z",
     "iopub.status.idle": "2022-06-19T18:11:59.483042Z",
     "shell.execute_reply": "2022-06-19T18:11:59.481815Z"
    },
    "papermill": {
     "duration": 1.379579,
     "end_time": "2022-06-19T18:11:59.485266",
     "exception": false,
     "start_time": "2022-06-19T18:11:58.105687",
     "status": "completed"
    },
    "tags": []
   },
   "outputs": [
    {
     "data": {
      "image/png": "[encoded data removed]",
      "text/plain": [
       "<Figure size 432x288 with 1 Axes>"
      ]
     },
     "metadata": {
      "needs_background": "light"
     },
     "output_type": "display_data"
    }
   ],
   "source": [
    "## Let's do some EDA now\n",
    "import matplotlib.pyplot as plt\n",
    "import seaborn as sns\n",
    "\n",
    "# First of all let's try to have a look at overall collisions by year\n",
    "\n",
    "by_year = df_clean.groupby('Year').aggregate({'EventUniqueId':'count'})\n",
    "sns.barplot(x=by_year.index,y='EventUniqueId',data=by_year)\n",
    "plt.show()\n",
    "## We can see that collisions by year were growing until 2019 when they rapidly dropped in 2020 and 2021 -- during the COVID pandemics"
   ]
  },
  {
   "cell_type": "markdown",
   "id": "85614294",
   "metadata": {
    "papermill": {
     "duration": 0.005969,
     "end_time": "2022-06-19T18:11:59.497652",
     "exception": false,
     "start_time": "2022-06-19T18:11:59.491683",
     "status": "completed"
    },
    "tags": []
   },
   "source": []
  }
 ],
 "metadata": {
  "kernelspec": {
   "display_name": "Python 3",
   "language": "python",
   "name": "python3"
  },
  "language_info": {
   "codemirror_mode": {
    "name": "ipython",
    "version": 3
   },
   "file_extension": ".py",
   "mimetype": "text/x-python",
   "name": "python",
   "nbconvert_exporter": "python",
   "pygments_lexer": "ipython3",
   "version": "3.7.12"
  },
  "papermill": {
   "default_parameters": {},
   "duration": 16.208715,
   "end_time": "2022-06-19T18:12:00.224985",
   "environment_variables": {},
   "exception": null,
   "input_path": "__notebook__.ipynb",
   "output_path": "__notebook__.ipynb",
   "parameters": {},
   "start_time": "2022-06-19T18:11:44.016270",
   "version": "2.3.4"
  }
 },
 "nbformat": 4,
 "nbformat_minor": 5
}
